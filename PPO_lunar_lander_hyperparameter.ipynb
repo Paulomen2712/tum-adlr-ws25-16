{
 "cells": [
  {
   "cell_type": "markdown",
   "metadata": {},
   "source": [
    "# PPO\n",
    "---\n",
    "\n",
    "### 1. Import the Necessary Packages"
   ]
  },
  {
   "cell_type": "code",
   "execution_count": 1,
   "metadata": {},
   "outputs": [],
   "source": [
    "%matplotlib inline\n",
    "import wandb\n",
    "\n",
    "from model.ppo_2 import PPO\n",
    "import numpy as np\n",
    "from env.wrappers import LunarContinuous, LunarLanderWithUnknownWind,LunarLanderWithKnownWind\n",
    "from utils.logger import WandbSummaryWritter"
   ]
  },
  {
   "cell_type": "markdown",
   "metadata": {},
   "source": [
    "### 2. Instantiate the Model"
   ]
  },
  {
   "cell_type": "markdown",
   "metadata": {},
   "source": [
    "Setup the hyperparameters in the code cell below."
   ]
  },
  {
   "cell_type": "code",
   "execution_count": 2,
   "metadata": {},
   "outputs": [],
   "source": [
    "misc_hyperparameters = {\n",
    "    'save_freq': 0 ,  \n",
    "    'val_freq': 10,\n",
    "    'val_iter': 10,\n",
    "    'env': LunarLanderWithKnownWind\n",
    "}"
   ]
  },
  {
   "cell_type": "markdown",
   "metadata": {},
   "source": [
    "Initialise wandb session in the code cell below."
   ]
  },
  {
   "cell_type": "code",
   "execution_count": null,
   "metadata": {},
   "outputs": [],
   "source": [
    "MAX_TOTAL_TIMESTEPS_TO_TRAIN = 500\n",
    "VAL_ITER = 30\n",
    "MAX_RUN_COUNT = 30\n",
    "sweep_config = {\n",
    "    'method': 'bayes', \n",
    "    'metric': {\n",
    "        'name': 'validation_rewards',\n",
    "        'goal': 'maximize'\n",
    "    },\n",
    "    'parameters': {\n",
    "        'actor_lr': {\n",
    "            \"distribution\": \"uniform\",\n",
    "            \"min\": 1e-5,\n",
    "            \"max\": 0.1\n",
    "        },\n",
    "        'critic_lr': {\n",
    "            \"distribution\": \"uniform\",\n",
    "            \"min\": 1e-5,\n",
    "            \"max\": 0.1\n",
    "        },\n",
    "        'adp_lr': {\n",
    "            \"distribution\": \"uniform\",\n",
    "            \"min\": 1e-5,\n",
    "            \"max\": 0.1\n",
    "        },\n",
    "        'gamma': {\n",
    "            'min': 0.9,\n",
    "            'max': 1.\n",
    "        },\n",
    "        'lam': {\n",
    "            'min': 0.9,\n",
    "            'max': 1.\n",
    "        },\n",
    "        'max_grad_norm': {\n",
    "            \"min\": 0.1,\n",
    "            \"max\": 10.0, \n",
    "        },\n",
    "        'n_updates_per_iteration': {\n",
    "            'values': list(range(1, 21))\n",
    "        },\n",
    "        'num_envs': {\n",
    "            'values': list(range(1, 100))\n",
    "        },\n",
    "        'anneal_lr': {\n",
    "            'values': [True, False]\n",
    "        },\n",
    "        'num_steps': {\n",
    "            'distribution': 'q_uniform',\n",
    "            'min': 300,\n",
    "            'max': 4000,\n",
    "            'q': 100\n",
    "        },\n",
    "        'adp_num_steps': {\n",
    "            'distribution': 'q_uniform',\n",
    "            'min': 200,\n",
    "            'max': 1000,\n",
    "            'q': 10\n",
    "        },\n",
    "        'anneal_discount': {\n",
    "            'distribution': 'q_uniform',\n",
    "            'min': 1,\n",
    "            'max': 1000,\n",
    "            'q': 10\n",
    "        },\n",
    "        'batches': {\n",
    "            'distribution': 'q_uniform',\n",
    "            \"min\": 1,     # 2^0\n",
    "            \"max\": 1024,  # 2^10\n",
    "            \"q\": 2 \n",
    "        }\n",
    "    }\n",
    "}"
   ]
  },
  {
   "cell_type": "code",
   "execution_count": 4,
   "metadata": {},
   "outputs": [],
   "source": [
    "def train_model(config = None):\n",
    "    logger = WandbSummaryWritter(project='lunar', config =config)\n",
    "    ppo = ppo = PPO(logger,**misc_hyperparameters) if config is None else PPO(summary_writter=logger, **config, **misc_hyperparameters)\n",
    "    ppo.train()\n",
    "\n",
    "    val_rews, val_dur = ppo.validate(VAL_ITER, True, True)\n",
    "\n",
    "    wandb.log({\n",
    "        \"validation_rewards\": val_rews,\n",
    "        \"validation_duration\": val_dur,\n",
    "        \"maximum_validation_reward\": np.argmax(val_rews),\n",
    "        \"max_reward_video\": wandb.Video(f\"./videos/rl-video{np.argmax(val_rews)}-episode-{np.argmax(val_rews)}.mp4\", fps=4, format=\"mp4\")\n",
    "    })\n",
    "\n",
    "    # logger[\"delta_t\"] = str(round(logger['delta_t'], 2))"
   ]
  },
  {
   "cell_type": "markdown",
   "metadata": {},
   "source": [
    "Initialise the model fo the desired timestamps. Alternatively can specify a checkpoint to continue training."
   ]
  },
  {
   "cell_type": "code",
   "execution_count": 5,
   "metadata": {},
   "outputs": [
    {
     "name": "stderr",
     "output_type": "stream",
     "text": [
      "\u001b[34m\u001b[1mwandb\u001b[0m: Using wandb-core as the SDK backend.  Please refer to https://wandb.me/wandb-core for more information.\n"
     ]
    },
    {
     "name": "stdout",
     "output_type": "stream",
     "text": [
      "Create sweep with ID: q44u0ys7\n",
      "Sweep URL: https://wandb.ai/pmsaraiva2712-tum/lunar/sweeps/q44u0ys7\n"
     ]
    },
    {
     "name": "stderr",
     "output_type": "stream",
     "text": [
      "\u001b[34m\u001b[1mwandb\u001b[0m: Agent Starting Run: xd92oei9 with config:\n",
      "\u001b[34m\u001b[1mwandb\u001b[0m: \tactor_lr: 0.07041309019796743\n",
      "\u001b[34m\u001b[1mwandb\u001b[0m: \tadp_lr: 0.0496149131147736\n",
      "\u001b[34m\u001b[1mwandb\u001b[0m: \tadp_num_steps: 260\n",
      "\u001b[34m\u001b[1mwandb\u001b[0m: \tanneal_discount: 280\n",
      "\u001b[34m\u001b[1mwandb\u001b[0m: \tanneal_lr: False\n",
      "\u001b[34m\u001b[1mwandb\u001b[0m: \tbatches: 70\n",
      "\u001b[34m\u001b[1mwandb\u001b[0m: \tcritic_lr: 0.03513488285322935\n",
      "\u001b[34m\u001b[1mwandb\u001b[0m: \tgamma: 0.986623171458458\n",
      "\u001b[34m\u001b[1mwandb\u001b[0m: \tlam: 0.9022184049586168\n",
      "\u001b[34m\u001b[1mwandb\u001b[0m: \tmax_grad_norm: 3.4527110463690436\n",
      "\u001b[34m\u001b[1mwandb\u001b[0m: \tn_updates_per_iteration: 3\n",
      "\u001b[34m\u001b[1mwandb\u001b[0m: \tnum_envs: 94\n",
      "\u001b[34m\u001b[1mwandb\u001b[0m: \tnum_steps: 3100\n",
      "\u001b[34m\u001b[1mwandb\u001b[0m: Currently logged in as: \u001b[33mmohamedrostom\u001b[0m (\u001b[33mpmsaraiva2712-tum\u001b[0m). Use \u001b[1m`wandb login --relogin`\u001b[0m to force relogin\n",
      "\u001b[34m\u001b[1mwandb\u001b[0m: \u001b[33mWARNING\u001b[0m Ignored wandb.init() arg project when running a sweep.\n"
     ]
    },
    {
     "data": {
      "text/html": [
       "Tracking run with wandb version 0.18.7"
      ],
      "text/plain": [
       "<IPython.core.display.HTML object>"
      ]
     },
     "metadata": {},
     "output_type": "display_data"
    },
    {
     "data": {
      "text/html": [
       "Run data is saved locally in <code>/home/mohamedrostom62/ADLR/tum-adlr-ws25-16/wandb/run-20241216_230622-xd92oei9</code>"
      ],
      "text/plain": [
       "<IPython.core.display.HTML object>"
      ]
     },
     "metadata": {},
     "output_type": "display_data"
    },
    {
     "data": {
      "text/html": [
       "Syncing run <strong><a href='https://wandb.ai/pmsaraiva2712-tum/lunar/runs/xd92oei9' target=\"_blank\">bumbling-sweep-1</a></strong> to <a href='https://wandb.ai/pmsaraiva2712-tum/lunar' target=\"_blank\">Weights & Biases</a> (<a href='https://wandb.me/developer-guide' target=\"_blank\">docs</a>)<br/>Sweep page: <a href='https://wandb.ai/pmsaraiva2712-tum/lunar/sweeps/q44u0ys7' target=\"_blank\">https://wandb.ai/pmsaraiva2712-tum/lunar/sweeps/q44u0ys7</a>"
      ],
      "text/plain": [
       "<IPython.core.display.HTML object>"
      ]
     },
     "metadata": {},
     "output_type": "display_data"
    },
    {
     "data": {
      "text/html": [
       " View project at <a href='https://wandb.ai/pmsaraiva2712-tum/lunar' target=\"_blank\">https://wandb.ai/pmsaraiva2712-tum/lunar</a>"
      ],
      "text/plain": [
       "<IPython.core.display.HTML object>"
      ]
     },
     "metadata": {},
     "output_type": "display_data"
    },
    {
     "data": {
      "text/html": [
       " View sweep at <a href='https://wandb.ai/pmsaraiva2712-tum/lunar/sweeps/q44u0ys7' target=\"_blank\">https://wandb.ai/pmsaraiva2712-tum/lunar/sweeps/q44u0ys7</a>"
      ],
      "text/plain": [
       "<IPython.core.display.HTML object>"
      ]
     },
     "metadata": {},
     "output_type": "display_data"
    },
    {
     "data": {
      "text/html": [
       " View run at <a href='https://wandb.ai/pmsaraiva2712-tum/lunar/runs/xd92oei9' target=\"_blank\">https://wandb.ai/pmsaraiva2712-tum/lunar/runs/xd92oei9</a>"
      ],
      "text/plain": [
       "<IPython.core.display.HTML object>"
      ]
     },
     "metadata": {},
     "output_type": "display_data"
    },
    {
     "name": "stdout",
     "output_type": "stream",
     "text": [
      "\n",
      "-------------------- Iteration #1 --------------------\n",
      "Average Episodic Return: -325.08\n",
      "Average Actor Loss: -0.21142\n",
      "Average Critic Loss: 1562.754366830679\n",
      "Average KL Divergence: 0.012544951658212365\n",
      "Iteration took: 3.01 secs, of which rollout took 2.47 secs and gradient updates took 0.53 secs\n",
      "Current actor learning rate: 0.005\n",
      "Current critic learning rate: 0.0075\n",
      "------------------------------------------------------\n",
      "\n",
      "\n",
      "-------------------- Iteration #2 --------------------\n",
      "Average Episodic Return: -231.57\n",
      "Average Actor Loss: -0.21272\n",
      "Average Critic Loss: 1070.3282539661113\n",
      "Average KL Divergence: 0.010671996380831562\n",
      "Iteration took: 2.98 secs, of which rollout took 2.44 secs and gradient updates took 0.53 secs\n",
      "Current actor learning rate: 0.005\n",
      "Current critic learning rate: 0.0075\n",
      "------------------------------------------------------\n",
      "\n",
      "\n",
      "-------------------- Iteration #1 --------------------\n",
      "Average adp Loss: 29.38668\n",
      "Iteration took: 2.48 secs, of which rollout took 2.23 secs and gradient updates took 0.24 secs\n",
      "Current adp learning rate: 0.005\n",
      "------------------------------------------------------\n",
      "\n"
     ]
    },
    {
     "name": "stderr",
     "output_type": "stream",
     "text": [
      "/home/mohamedrostom62/ADLR/tum-adlr-ws25-16/.venv/lib/python3.11/site-packages/gym/wrappers/record_video.py:75: UserWarning: \u001b[33mWARN: Overwriting existing videos at /home/mohamedrostom62/ADLR/tum-adlr-ws25-16/videos folder (try specifying a different `video_folder` for the `RecordVideo` wrapper if this is not desired)\u001b[0m\n",
      "  logger.warn(\n"
     ]
    },
    {
     "name": "stdout",
     "output_type": "stream",
     "text": [
      "MoviePy - Building video /home/mohamedrostom62/ADLR/tum-adlr-ws25-16/videos/rl-video14-episode-0.mp4.\n",
      "MoviePy - Writing video /home/mohamedrostom62/ADLR/tum-adlr-ws25-16/videos/rl-video14-episode-0.mp4\n",
      "\n"
     ]
    },
    {
     "name": "stderr",
     "output_type": "stream",
     "text": [
      "                                                                       "
     ]
    },
    {
     "name": "stdout",
     "output_type": "stream",
     "text": [
      "MoviePy - Done !\n",
      "MoviePy - video ready /home/mohamedrostom62/ADLR/tum-adlr-ws25-16/videos/rl-video14-episode-0.mp4\n"
     ]
    },
    {
     "name": "stderr",
     "output_type": "stream",
     "text": [
      "\r"
     ]
    },
    {
     "name": "stdout",
     "output_type": "stream",
     "text": [
      "MoviePy - Building video /home/mohamedrostom62/ADLR/tum-adlr-ws25-16/videos/rl-video13-episode-0.mp4.\n",
      "MoviePy - Writing video /home/mohamedrostom62/ADLR/tum-adlr-ws25-16/videos/rl-video13-episode-0.mp4\n",
      "\n"
     ]
    },
    {
     "name": "stderr",
     "output_type": "stream",
     "text": [
      "                                                                       "
     ]
    },
    {
     "name": "stdout",
     "output_type": "stream",
     "text": [
      "MoviePy - Done !\n",
      "MoviePy - video ready /home/mohamedrostom62/ADLR/tum-adlr-ws25-16/videos/rl-video13-episode-0.mp4\n"
     ]
    },
    {
     "name": "stderr",
     "output_type": "stream",
     "text": [
      "\r"
     ]
    },
    {
     "name": "stdout",
     "output_type": "stream",
     "text": [
      "MoviePy - Building video /home/mohamedrostom62/ADLR/tum-adlr-ws25-16/videos/rl-video18-episode-0.mp4.\n",
      "MoviePy - Writing video /home/mohamedrostom62/ADLR/tum-adlr-ws25-16/videos/rl-video18-episode-0.mp4\n",
      "\n"
     ]
    },
    {
     "name": "stderr",
     "output_type": "stream",
     "text": [
      "                                                                       \r"
     ]
    },
    {
     "name": "stdout",
     "output_type": "stream",
     "text": [
      "MoviePy - Done !\n",
      "MoviePy - video ready /home/mohamedrostom62/ADLR/tum-adlr-ws25-16/videos/rl-video18-episode-0.mp4\n",
      "MoviePy - Building video /home/mohamedrostom62/ADLR/tum-adlr-ws25-16/videos/rl-video19-episode-0.mp4.\n",
      "MoviePy - Writing video /home/mohamedrostom62/ADLR/tum-adlr-ws25-16/videos/rl-video19-episode-0.mp4\n",
      "\n"
     ]
    },
    {
     "name": "stderr",
     "output_type": "stream",
     "text": [
      "                                                                       \r"
     ]
    },
    {
     "name": "stdout",
     "output_type": "stream",
     "text": [
      "MoviePy - Done !\n",
      "MoviePy - video ready /home/mohamedrostom62/ADLR/tum-adlr-ws25-16/videos/rl-video19-episode-0.mp4\n",
      "MoviePy - Building video /home/mohamedrostom62/ADLR/tum-adlr-ws25-16/videos/rl-video5-episode-0.mp4.\n",
      "MoviePy - Writing video /home/mohamedrostom62/ADLR/tum-adlr-ws25-16/videos/rl-video5-episode-0.mp4\n",
      "\n"
     ]
    },
    {
     "name": "stderr",
     "output_type": "stream",
     "text": [
      "                                                                       "
     ]
    },
    {
     "name": "stdout",
     "output_type": "stream",
     "text": [
      "MoviePy - Done !\n",
      "MoviePy - video ready /home/mohamedrostom62/ADLR/tum-adlr-ws25-16/videos/rl-video5-episode-0.mp4\n"
     ]
    },
    {
     "name": "stderr",
     "output_type": "stream",
     "text": [
      "\r"
     ]
    },
    {
     "name": "stdout",
     "output_type": "stream",
     "text": [
      "MoviePy - Building video /home/mohamedrostom62/ADLR/tum-adlr-ws25-16/videos/rl-video12-episode-0.mp4.\n",
      "MoviePy - Writing video /home/mohamedrostom62/ADLR/tum-adlr-ws25-16/videos/rl-video12-episode-0.mp4\n",
      "\n"
     ]
    },
    {
     "name": "stderr",
     "output_type": "stream",
     "text": [
      "                                                                       "
     ]
    },
    {
     "name": "stdout",
     "output_type": "stream",
     "text": [
      "MoviePy - Done !\n",
      "MoviePy - video ready /home/mohamedrostom62/ADLR/tum-adlr-ws25-16/videos/rl-video12-episode-0.mp4\n"
     ]
    },
    {
     "name": "stderr",
     "output_type": "stream",
     "text": [
      "\r"
     ]
    },
    {
     "name": "stdout",
     "output_type": "stream",
     "text": [
      "MoviePy - Building video /home/mohamedrostom62/ADLR/tum-adlr-ws25-16/videos/rl-video2-episode-0.mp4.\n",
      "MoviePy - Writing video /home/mohamedrostom62/ADLR/tum-adlr-ws25-16/videos/rl-video2-episode-0.mp4\n",
      "\n"
     ]
    },
    {
     "name": "stderr",
     "output_type": "stream",
     "text": [
      "                                                                       "
     ]
    },
    {
     "name": "stdout",
     "output_type": "stream",
     "text": [
      "MoviePy - Done !\n",
      "MoviePy - video ready /home/mohamedrostom62/ADLR/tum-adlr-ws25-16/videos/rl-video2-episode-0.mp4\n"
     ]
    },
    {
     "name": "stderr",
     "output_type": "stream",
     "text": [
      "\r"
     ]
    },
    {
     "name": "stdout",
     "output_type": "stream",
     "text": [
      "MoviePy - Building video /home/mohamedrostom62/ADLR/tum-adlr-ws25-16/videos/rl-video6-episode-0.mp4.\n",
      "MoviePy - Writing video /home/mohamedrostom62/ADLR/tum-adlr-ws25-16/videos/rl-video6-episode-0.mp4\n",
      "\n"
     ]
    },
    {
     "name": "stderr",
     "output_type": "stream",
     "text": [
      "                                                                       "
     ]
    },
    {
     "name": "stdout",
     "output_type": "stream",
     "text": [
      "MoviePy - Done !\n",
      "MoviePy - video ready /home/mohamedrostom62/ADLR/tum-adlr-ws25-16/videos/rl-video6-episode-0.mp4\n"
     ]
    },
    {
     "name": "stderr",
     "output_type": "stream",
     "text": [
      "\r"
     ]
    },
    {
     "name": "stdout",
     "output_type": "stream",
     "text": [
      "MoviePy - Building video /home/mohamedrostom62/ADLR/tum-adlr-ws25-16/videos/rl-video0-episode-0.mp4.\n",
      "MoviePy - Writing video /home/mohamedrostom62/ADLR/tum-adlr-ws25-16/videos/rl-video0-episode-0.mp4\n",
      "\n"
     ]
    },
    {
     "name": "stderr",
     "output_type": "stream",
     "text": [
      "                                                                       "
     ]
    },
    {
     "name": "stdout",
     "output_type": "stream",
     "text": [
      "MoviePy - Done !\n",
      "MoviePy - video ready /home/mohamedrostom62/ADLR/tum-adlr-ws25-16/videos/rl-video0-episode-0.mp4\n"
     ]
    },
    {
     "name": "stderr",
     "output_type": "stream",
     "text": [
      "\r"
     ]
    },
    {
     "name": "stdout",
     "output_type": "stream",
     "text": [
      "MoviePy - Building video /home/mohamedrostom62/ADLR/tum-adlr-ws25-16/videos/rl-video1-episode-0.mp4.\n",
      "MoviePy - Writing video /home/mohamedrostom62/ADLR/tum-adlr-ws25-16/videos/rl-video1-episode-0.mp4\n",
      "\n"
     ]
    },
    {
     "name": "stderr",
     "output_type": "stream",
     "text": [
      "                                                                       "
     ]
    },
    {
     "name": "stdout",
     "output_type": "stream",
     "text": [
      "MoviePy - Done !\n",
      "MoviePy - video ready /home/mohamedrostom62/ADLR/tum-adlr-ws25-16/videos/rl-video1-episode-0.mp4\n"
     ]
    },
    {
     "name": "stderr",
     "output_type": "stream",
     "text": [
      "\r"
     ]
    },
    {
     "name": "stdout",
     "output_type": "stream",
     "text": [
      "MoviePy - Building video /home/mohamedrostom62/ADLR/tum-adlr-ws25-16/videos/rl-video4-episode-0.mp4.\n",
      "MoviePy - Writing video /home/mohamedrostom62/ADLR/tum-adlr-ws25-16/videos/rl-video4-episode-0.mp4\n",
      "\n"
     ]
    },
    {
     "name": "stderr",
     "output_type": "stream",
     "text": [
      "                                                                       "
     ]
    },
    {
     "name": "stdout",
     "output_type": "stream",
     "text": [
      "MoviePy - Done !"
     ]
    },
    {
     "name": "stderr",
     "output_type": "stream",
     "text": [
      "\r"
     ]
    },
    {
     "name": "stdout",
     "output_type": "stream",
     "text": [
      "\n",
      "MoviePy - video ready /home/mohamedrostom62/ADLR/tum-adlr-ws25-16/videos/rl-video4-episode-0.mp4\n",
      "MoviePy - Building video /home/mohamedrostom62/ADLR/tum-adlr-ws25-16/videos/rl-video8-episode-0.mp4.\n",
      "MoviePy - Writing video /home/mohamedrostom62/ADLR/tum-adlr-ws25-16/videos/rl-video8-episode-0.mp4\n",
      "\n"
     ]
    },
    {
     "name": "stderr",
     "output_type": "stream",
     "text": [
      "                                                                       \r"
     ]
    },
    {
     "name": "stdout",
     "output_type": "stream",
     "text": [
      "MoviePy - Done !\n",
      "MoviePy - video ready /home/mohamedrostom62/ADLR/tum-adlr-ws25-16/videos/rl-video8-episode-0.mp4\n",
      "MoviePy - Building video /home/mohamedrostom62/ADLR/tum-adlr-ws25-16/videos/rl-video17-episode-0.mp4.\n",
      "MoviePy - Writing video /home/mohamedrostom62/ADLR/tum-adlr-ws25-16/videos/rl-video17-episode-0.mp4\n",
      "\n"
     ]
    },
    {
     "name": "stderr",
     "output_type": "stream",
     "text": [
      "                                                                       \r"
     ]
    },
    {
     "name": "stdout",
     "output_type": "stream",
     "text": [
      "MoviePy - Done !\n",
      "MoviePy - video ready /home/mohamedrostom62/ADLR/tum-adlr-ws25-16/videos/rl-video17-episode-0.mp4\n",
      "MoviePy - Building video /home/mohamedrostom62/ADLR/tum-adlr-ws25-16/videos/rl-video7-episode-0.mp4.\n",
      "MoviePy - Writing video /home/mohamedrostom62/ADLR/tum-adlr-ws25-16/videos/rl-video7-episode-0.mp4\n",
      "\n"
     ]
    },
    {
     "name": "stderr",
     "output_type": "stream",
     "text": [
      "                                                                        \r"
     ]
    },
    {
     "name": "stdout",
     "output_type": "stream",
     "text": [
      "MoviePy - Done !\n",
      "MoviePy - video ready /home/mohamedrostom62/ADLR/tum-adlr-ws25-16/videos/rl-video7-episode-0.mp4\n",
      "MoviePy - Building video /home/mohamedrostom62/ADLR/tum-adlr-ws25-16/videos/rl-video15-episode-0.mp4.\n",
      "MoviePy - Writing video /home/mohamedrostom62/ADLR/tum-adlr-ws25-16/videos/rl-video15-episode-0.mp4\n",
      "\n"
     ]
    },
    {
     "name": "stderr",
     "output_type": "stream",
     "text": [
      "                                                                         \r"
     ]
    },
    {
     "name": "stdout",
     "output_type": "stream",
     "text": [
      "MoviePy - Done !\n",
      "MoviePy - video ready /home/mohamedrostom62/ADLR/tum-adlr-ws25-16/videos/rl-video15-episode-0.mp4\n",
      "MoviePy - Building video /home/mohamedrostom62/ADLR/tum-adlr-ws25-16/videos/rl-video9-episode-0.mp4.\n",
      "MoviePy - Writing video /home/mohamedrostom62/ADLR/tum-adlr-ws25-16/videos/rl-video9-episode-0.mp4\n",
      "\n"
     ]
    },
    {
     "name": "stderr",
     "output_type": "stream",
     "text": [
      "                                                                        \r"
     ]
    },
    {
     "name": "stdout",
     "output_type": "stream",
     "text": [
      "MoviePy - Done !\n",
      "MoviePy - video ready /home/mohamedrostom62/ADLR/tum-adlr-ws25-16/videos/rl-video9-episode-0.mp4\n",
      "MoviePy - Building video /home/mohamedrostom62/ADLR/tum-adlr-ws25-16/videos/rl-video10-episode-0.mp4.\n",
      "MoviePy - Writing video /home/mohamedrostom62/ADLR/tum-adlr-ws25-16/videos/rl-video10-episode-0.mp4\n",
      "\n"
     ]
    },
    {
     "name": "stderr",
     "output_type": "stream",
     "text": [
      "                                                                         \r"
     ]
    },
    {
     "name": "stdout",
     "output_type": "stream",
     "text": [
      "MoviePy - Done !\n",
      "MoviePy - video ready /home/mohamedrostom62/ADLR/tum-adlr-ws25-16/videos/rl-video10-episode-0.mp4\n",
      "MoviePy - Building video /home/mohamedrostom62/ADLR/tum-adlr-ws25-16/videos/rl-video3-episode-0.mp4.\n",
      "MoviePy - Writing video /home/mohamedrostom62/ADLR/tum-adlr-ws25-16/videos/rl-video3-episode-0.mp4\n",
      "\n"
     ]
    },
    {
     "name": "stderr",
     "output_type": "stream",
     "text": [
      "                                                                         \r"
     ]
    },
    {
     "name": "stdout",
     "output_type": "stream",
     "text": [
      "MoviePy - Done !\n",
      "MoviePy - video ready /home/mohamedrostom62/ADLR/tum-adlr-ws25-16/videos/rl-video3-episode-0.mp4\n",
      "MoviePy - Building video /home/mohamedrostom62/ADLR/tum-adlr-ws25-16/videos/rl-video16-episode-0.mp4.\n",
      "MoviePy - Writing video /home/mohamedrostom62/ADLR/tum-adlr-ws25-16/videos/rl-video16-episode-0.mp4\n",
      "\n"
     ]
    },
    {
     "name": "stderr",
     "output_type": "stream",
     "text": [
      "                                                                         \r"
     ]
    },
    {
     "name": "stdout",
     "output_type": "stream",
     "text": [
      "MoviePy - Done !\n",
      "MoviePy - video ready /home/mohamedrostom62/ADLR/tum-adlr-ws25-16/videos/rl-video16-episode-0.mp4\n",
      "MoviePy - Building video /home/mohamedrostom62/ADLR/tum-adlr-ws25-16/videos/rl-video13-episode-1.mp4.\n",
      "MoviePy - Writing video /home/mohamedrostom62/ADLR/tum-adlr-ws25-16/videos/rl-video13-episode-1.mp4\n",
      "\n"
     ]
    },
    {
     "name": "stderr",
     "output_type": "stream",
     "text": [
      "                                                                       "
     ]
    },
    {
     "name": "stdout",
     "output_type": "stream",
     "text": [
      "MoviePy - Done !\n",
      "MoviePy - video ready /home/mohamedrostom62/ADLR/tum-adlr-ws25-16/videos/rl-video13-episode-1.mp4\n"
     ]
    },
    {
     "name": "stderr",
     "output_type": "stream",
     "text": [
      "\r"
     ]
    },
    {
     "name": "stdout",
     "output_type": "stream",
     "text": [
      "MoviePy - Building video /home/mohamedrostom62/ADLR/tum-adlr-ws25-16/videos/rl-video11-episode-0.mp4.\n",
      "MoviePy - Writing video /home/mohamedrostom62/ADLR/tum-adlr-ws25-16/videos/rl-video11-episode-0.mp4\n",
      "\n"
     ]
    },
    {
     "name": "stderr",
     "output_type": "stream",
     "text": [
      "\u001b[34m\u001b[1mwandb\u001b[0m: \u001b[33mWARNING\u001b[0m `fps` argument does not affect the frame rate of the video when providing a file path or raw bytes.\n"
     ]
    },
    {
     "name": "stdout",
     "output_type": "stream",
     "text": [
      "MoviePy - Done !\n",
      "MoviePy - video ready /home/mohamedrostom62/ADLR/tum-adlr-ws25-16/videos/rl-video11-episode-0.mp4\n"
     ]
    },
    {
     "data": {
      "text/html": [
       "\n",
       "    <style>\n",
       "        .wandb-row {\n",
       "            display: flex;\n",
       "            flex-direction: row;\n",
       "            flex-wrap: wrap;\n",
       "            justify-content: flex-start;\n",
       "            width: 100%;\n",
       "        }\n",
       "        .wandb-col {\n",
       "            display: flex;\n",
       "            flex-direction: column;\n",
       "            flex-basis: 100%;\n",
       "            flex: 1;\n",
       "            padding: 10px;\n",
       "        }\n",
       "    </style>\n",
       "<div class=\"wandb-row\"><div class=\"wandb-col\"><h3>Run history:</h3><br/><table class=\"wandb\"><tr><td>actor_learning_rate</td><td>▁▁</td></tr><tr><td>adp_learning_rate</td><td>▁</td></tr><tr><td>average_actor_loss</td><td>█▁</td></tr><tr><td>average_adapt_loss</td><td>▁</td></tr><tr><td>average_critic_loss</td><td>█▁</td></tr><tr><td>average_episode_rewards</td><td>▁█</td></tr><tr><td>critic_learning_rate</td><td>▁▁</td></tr><tr><td>maximum_validation_reward</td><td>▁</td></tr><tr><td>simulated_iterations</td><td>▁█▁</td></tr><tr><td>validation_duration</td><td>▁</td></tr><tr><td>validation_rewards</td><td>▁</td></tr></table><br/></div><div class=\"wandb-col\"><h3>Run summary:</h3><br/><table class=\"wandb\"><tr><td>actor_learning_rate</td><td>0.005</td></tr><tr><td>adp_learning_rate</td><td>0.005</td></tr><tr><td>average_actor_loss</td><td>-0.21272</td></tr><tr><td>average_adapt_loss</td><td>29.38668</td></tr><tr><td>average_critic_loss</td><td>1070.32825</td></tr><tr><td>average_episode_rewards</td><td>-231.57248</td></tr><tr><td>critic_learning_rate</td><td>0.0075</td></tr><tr><td>iteration_compute</td><td>2.48</td></tr><tr><td>maximum_validation_reward</td><td>0</td></tr><tr><td>simulated_iterations</td><td>1</td></tr><tr><td>validation_duration</td><td>89.8</td></tr><tr><td>validation_rewards</td><td>-344.84918</td></tr></table><br/></div></div>"
      ],
      "text/plain": [
       "<IPython.core.display.HTML object>"
      ]
     },
     "metadata": {},
     "output_type": "display_data"
    },
    {
     "data": {
      "text/html": [
       " View run <strong style=\"color:#cdcd00\">bumbling-sweep-1</strong> at: <a href='https://wandb.ai/pmsaraiva2712-tum/lunar/runs/xd92oei9' target=\"_blank\">https://wandb.ai/pmsaraiva2712-tum/lunar/runs/xd92oei9</a><br/> View project at: <a href='https://wandb.ai/pmsaraiva2712-tum/lunar' target=\"_blank\">https://wandb.ai/pmsaraiva2712-tum/lunar</a><br/>Synced 5 W&B file(s), 0 media file(s), 2 artifact file(s) and 1 other file(s)"
      ],
      "text/plain": [
       "<IPython.core.display.HTML object>"
      ]
     },
     "metadata": {},
     "output_type": "display_data"
    },
    {
     "data": {
      "text/html": [
       "Find logs at: <code>./wandb/run-20241216_230622-xd92oei9/logs</code>"
      ],
      "text/plain": [
       "<IPython.core.display.HTML object>"
      ]
     },
     "metadata": {},
     "output_type": "display_data"
    },
    {
     "name": "stderr",
     "output_type": "stream",
     "text": [
      "\u001b[34m\u001b[1mwandb\u001b[0m: Agent Starting Run: 7vsaeqdu with config:\n",
      "\u001b[34m\u001b[1mwandb\u001b[0m: \tactor_lr: 0.015696755940711883\n",
      "\u001b[34m\u001b[1mwandb\u001b[0m: \tadp_lr: 0.019674556068926857\n",
      "\u001b[34m\u001b[1mwandb\u001b[0m: \tadp_num_steps: 730\n",
      "\u001b[34m\u001b[1mwandb\u001b[0m: \tanneal_discount: 260\n",
      "\u001b[34m\u001b[1mwandb\u001b[0m: \tanneal_lr: True\n",
      "\u001b[34m\u001b[1mwandb\u001b[0m: \tbatches: 884\n",
      "\u001b[34m\u001b[1mwandb\u001b[0m: \tcritic_lr: 0.06335645172114146\n",
      "\u001b[34m\u001b[1mwandb\u001b[0m: \tgamma: 0.9143985497652444\n",
      "\u001b[34m\u001b[1mwandb\u001b[0m: \tlam: 0.9631858123930576\n",
      "\u001b[34m\u001b[1mwandb\u001b[0m: \tmax_grad_norm: 3.295048308248568\n",
      "\u001b[34m\u001b[1mwandb\u001b[0m: \tn_updates_per_iteration: 12\n",
      "\u001b[34m\u001b[1mwandb\u001b[0m: \tnum_envs: 32\n",
      "\u001b[34m\u001b[1mwandb\u001b[0m: \tnum_steps: 1300\n",
      "\u001b[34m\u001b[1mwandb\u001b[0m: \u001b[33mWARNING\u001b[0m Ignored wandb.init() arg project when running a sweep.\n"
     ]
    },
    {
     "data": {
      "text/html": [
       "Tracking run with wandb version 0.18.7"
      ],
      "text/plain": [
       "<IPython.core.display.HTML object>"
      ]
     },
     "metadata": {},
     "output_type": "display_data"
    },
    {
     "data": {
      "text/html": [
       "Run data is saved locally in <code>/home/mohamedrostom62/ADLR/tum-adlr-ws25-16/wandb/run-20241216_230647-7vsaeqdu</code>"
      ],
      "text/plain": [
       "<IPython.core.display.HTML object>"
      ]
     },
     "metadata": {},
     "output_type": "display_data"
    },
    {
     "data": {
      "text/html": [
       "Syncing run <strong><a href='https://wandb.ai/pmsaraiva2712-tum/lunar/runs/7vsaeqdu' target=\"_blank\">fiery-sweep-2</a></strong> to <a href='https://wandb.ai/pmsaraiva2712-tum/lunar' target=\"_blank\">Weights & Biases</a> (<a href='https://wandb.me/developer-guide' target=\"_blank\">docs</a>)<br/>Sweep page: <a href='https://wandb.ai/pmsaraiva2712-tum/lunar/sweeps/q44u0ys7' target=\"_blank\">https://wandb.ai/pmsaraiva2712-tum/lunar/sweeps/q44u0ys7</a>"
      ],
      "text/plain": [
       "<IPython.core.display.HTML object>"
      ]
     },
     "metadata": {},
     "output_type": "display_data"
    },
    {
     "data": {
      "text/html": [
       " View project at <a href='https://wandb.ai/pmsaraiva2712-tum/lunar' target=\"_blank\">https://wandb.ai/pmsaraiva2712-tum/lunar</a>"
      ],
      "text/plain": [
       "<IPython.core.display.HTML object>"
      ]
     },
     "metadata": {},
     "output_type": "display_data"
    },
    {
     "data": {
      "text/html": [
       " View sweep at <a href='https://wandb.ai/pmsaraiva2712-tum/lunar/sweeps/q44u0ys7' target=\"_blank\">https://wandb.ai/pmsaraiva2712-tum/lunar/sweeps/q44u0ys7</a>"
      ],
      "text/plain": [
       "<IPython.core.display.HTML object>"
      ]
     },
     "metadata": {},
     "output_type": "display_data"
    },
    {
     "data": {
      "text/html": [
       " View run at <a href='https://wandb.ai/pmsaraiva2712-tum/lunar/runs/7vsaeqdu' target=\"_blank\">https://wandb.ai/pmsaraiva2712-tum/lunar/runs/7vsaeqdu</a>"
      ],
      "text/plain": [
       "<IPython.core.display.HTML object>"
      ]
     },
     "metadata": {},
     "output_type": "display_data"
    },
    {
     "name": "stdout",
     "output_type": "stream",
     "text": [
      "\n",
      "-------------------- Iteration #1 --------------------\n",
      "Average Episodic Return: -200.84\n",
      "Average Actor Loss: -0.20636\n",
      "Average Critic Loss: 1216.9585731506347\n",
      "Average KL Divergence: 0.01254590061188747\n",
      "Iteration took: 3.06 secs, of which rollout took 2.5 secs and gradient updates took 0.56 secs\n",
      "Current actor learning rate: 0.005\n",
      "Current critic learning rate: 0.0075\n",
      "------------------------------------------------------\n",
      "\n",
      "\n",
      "-------------------- Iteration #2 --------------------\n",
      "Average Episodic Return: -211.34\n",
      "Average Actor Loss: -0.21148\n",
      "Average Critic Loss: 838.9398065420297\n",
      "Average KL Divergence: 0.010680421232329814\n",
      "Iteration took: 3.05 secs, of which rollout took 2.47 secs and gradient updates took 0.57 secs\n",
      "Current actor learning rate: 0.005\n",
      "Current critic learning rate: 0.0075\n",
      "------------------------------------------------------\n",
      "\n",
      "\n",
      "-------------------- Iteration #1 --------------------\n",
      "Average adp Loss: 25.67567\n",
      "Iteration took: 3.17 secs, of which rollout took 2.91 secs and gradient updates took 0.25 secs\n",
      "Current adp learning rate: 0.005\n",
      "------------------------------------------------------\n",
      "\n"
     ]
    },
    {
     "name": "stderr",
     "output_type": "stream",
     "text": [
      "/home/mohamedrostom62/ADLR/tum-adlr-ws25-16/.venv/lib/python3.11/site-packages/gym/wrappers/record_video.py:75: UserWarning: \u001b[33mWARN: Overwriting existing videos at /home/mohamedrostom62/ADLR/tum-adlr-ws25-16/videos folder (try specifying a different `video_folder` for the `RecordVideo` wrapper if this is not desired)\u001b[0m\n",
      "  logger.warn(\n"
     ]
    },
    {
     "name": "stdout",
     "output_type": "stream",
     "text": [
      "MoviePy - Building video /home/mohamedrostom62/ADLR/tum-adlr-ws25-16/videos/rl-video17-episode-0.mp4.\n",
      "MoviePy - Writing video /home/mohamedrostom62/ADLR/tum-adlr-ws25-16/videos/rl-video17-episode-0.mp4\n",
      "\n"
     ]
    },
    {
     "name": "stderr",
     "output_type": "stream",
     "text": [
      "                                                                       "
     ]
    },
    {
     "name": "stdout",
     "output_type": "stream",
     "text": [
      "MoviePy - Done !\n",
      "MoviePy - video ready /home/mohamedrostom62/ADLR/tum-adlr-ws25-16/videos/rl-video17-episode-0.mp4\n"
     ]
    },
    {
     "name": "stderr",
     "output_type": "stream",
     "text": [
      "\r"
     ]
    },
    {
     "name": "stdout",
     "output_type": "stream",
     "text": [
      "MoviePy - Building video /home/mohamedrostom62/ADLR/tum-adlr-ws25-16/videos/rl-video0-episode-0.mp4.\n",
      "MoviePy - Writing video /home/mohamedrostom62/ADLR/tum-adlr-ws25-16/videos/rl-video0-episode-0.mp4\n",
      "\n"
     ]
    },
    {
     "name": "stderr",
     "output_type": "stream",
     "text": [
      "                                                                       "
     ]
    },
    {
     "name": "stdout",
     "output_type": "stream",
     "text": [
      "MoviePy - Done !\n",
      "MoviePy - video ready /home/mohamedrostom62/ADLR/tum-adlr-ws25-16/videos/rl-video0-episode-0.mp4\n"
     ]
    },
    {
     "name": "stderr",
     "output_type": "stream",
     "text": [
      "\r"
     ]
    },
    {
     "name": "stdout",
     "output_type": "stream",
     "text": [
      "MoviePy - Building video /home/mohamedrostom62/ADLR/tum-adlr-ws25-16/videos/rl-video7-episode-0.mp4.\n",
      "MoviePy - Writing video /home/mohamedrostom62/ADLR/tum-adlr-ws25-16/videos/rl-video7-episode-0.mp4\n",
      "\n"
     ]
    },
    {
     "name": "stderr",
     "output_type": "stream",
     "text": [
      "                                                                       "
     ]
    },
    {
     "name": "stdout",
     "output_type": "stream",
     "text": [
      "MoviePy - Done !\n",
      "MoviePy - video ready /home/mohamedrostom62/ADLR/tum-adlr-ws25-16/videos/rl-video7-episode-0.mp4\n"
     ]
    },
    {
     "name": "stderr",
     "output_type": "stream",
     "text": [
      "\r"
     ]
    },
    {
     "name": "stdout",
     "output_type": "stream",
     "text": [
      "MoviePy - Building video /home/mohamedrostom62/ADLR/tum-adlr-ws25-16/videos/rl-video1-episode-0.mp4.\n",
      "MoviePy - Writing video /home/mohamedrostom62/ADLR/tum-adlr-ws25-16/videos/rl-video1-episode-0.mp4\n",
      "\n"
     ]
    },
    {
     "name": "stderr",
     "output_type": "stream",
     "text": [
      "                                                                       "
     ]
    },
    {
     "name": "stdout",
     "output_type": "stream",
     "text": [
      "MoviePy - Done !\n",
      "MoviePy - video ready /home/mohamedrostom62/ADLR/tum-adlr-ws25-16/videos/rl-video1-episode-0.mp4\n"
     ]
    },
    {
     "name": "stderr",
     "output_type": "stream",
     "text": [
      "\r"
     ]
    },
    {
     "name": "stdout",
     "output_type": "stream",
     "text": [
      "MoviePy - Building video /home/mohamedrostom62/ADLR/tum-adlr-ws25-16/videos/rl-video19-episode-0.mp4.\n",
      "MoviePy - Writing video /home/mohamedrostom62/ADLR/tum-adlr-ws25-16/videos/rl-video19-episode-0.mp4\n",
      "\n"
     ]
    },
    {
     "name": "stderr",
     "output_type": "stream",
     "text": [
      "                                                                       "
     ]
    },
    {
     "name": "stdout",
     "output_type": "stream",
     "text": [
      "MoviePy - Done !\n",
      "MoviePy - video ready /home/mohamedrostom62/ADLR/tum-adlr-ws25-16/videos/rl-video19-episode-0.mp4\n"
     ]
    },
    {
     "name": "stderr",
     "output_type": "stream",
     "text": [
      "\r"
     ]
    },
    {
     "name": "stdout",
     "output_type": "stream",
     "text": [
      "MoviePy - Building video /home/mohamedrostom62/ADLR/tum-adlr-ws25-16/videos/rl-video9-episode-0.mp4.\n",
      "MoviePy - Writing video /home/mohamedrostom62/ADLR/tum-adlr-ws25-16/videos/rl-video9-episode-0.mp4\n",
      "\n"
     ]
    },
    {
     "name": "stderr",
     "output_type": "stream",
     "text": [
      "                                                                       "
     ]
    },
    {
     "name": "stdout",
     "output_type": "stream",
     "text": [
      "MoviePy - Done !\n",
      "MoviePy - video ready /home/mohamedrostom62/ADLR/tum-adlr-ws25-16/videos/rl-video9-episode-0.mp4\n"
     ]
    },
    {
     "name": "stderr",
     "output_type": "stream",
     "text": [
      "\r"
     ]
    },
    {
     "name": "stdout",
     "output_type": "stream",
     "text": [
      "MoviePy - Building video /home/mohamedrostom62/ADLR/tum-adlr-ws25-16/videos/rl-video8-episode-0.mp4.\n",
      "MoviePy - Writing video /home/mohamedrostom62/ADLR/tum-adlr-ws25-16/videos/rl-video8-episode-0.mp4\n",
      "\n"
     ]
    },
    {
     "name": "stderr",
     "output_type": "stream",
     "text": [
      "                                                                       "
     ]
    },
    {
     "name": "stdout",
     "output_type": "stream",
     "text": [
      "MoviePy - Done !\n",
      "MoviePy - video ready /home/mohamedrostom62/ADLR/tum-adlr-ws25-16/videos/rl-video8-episode-0.mp4\n"
     ]
    },
    {
     "name": "stderr",
     "output_type": "stream",
     "text": [
      "\r"
     ]
    },
    {
     "name": "stdout",
     "output_type": "stream",
     "text": [
      "MoviePy - Building video /home/mohamedrostom62/ADLR/tum-adlr-ws25-16/videos/rl-video10-episode-0.mp4.\n",
      "MoviePy - Writing video /home/mohamedrostom62/ADLR/tum-adlr-ws25-16/videos/rl-video10-episode-0.mp4\n",
      "\n"
     ]
    },
    {
     "name": "stderr",
     "output_type": "stream",
     "text": [
      "                                                                       \r"
     ]
    },
    {
     "name": "stdout",
     "output_type": "stream",
     "text": [
      "MoviePy - Done !\n",
      "MoviePy - video ready /home/mohamedrostom62/ADLR/tum-adlr-ws25-16/videos/rl-video10-episode-0.mp4\n",
      "MoviePy - Building video /home/mohamedrostom62/ADLR/tum-adlr-ws25-16/videos/rl-video12-episode-0.mp4.\n",
      "MoviePy - Writing video /home/mohamedrostom62/ADLR/tum-adlr-ws25-16/videos/rl-video12-episode-0.mp4\n",
      "\n"
     ]
    },
    {
     "name": "stderr",
     "output_type": "stream",
     "text": [
      "                                                                       \r"
     ]
    },
    {
     "name": "stdout",
     "output_type": "stream",
     "text": [
      "MoviePy - Done !\n",
      "MoviePy - video ready /home/mohamedrostom62/ADLR/tum-adlr-ws25-16/videos/rl-video12-episode-0.mp4\n",
      "MoviePy - Building video /home/mohamedrostom62/ADLR/tum-adlr-ws25-16/videos/rl-video11-episode-0.mp4.\n",
      "MoviePy - Writing video /home/mohamedrostom62/ADLR/tum-adlr-ws25-16/videos/rl-video11-episode-0.mp4\n",
      "\n"
     ]
    },
    {
     "name": "stderr",
     "output_type": "stream",
     "text": [
      "                                                                       "
     ]
    },
    {
     "name": "stdout",
     "output_type": "stream",
     "text": [
      "MoviePy - Done !\n",
      "MoviePy - video ready /home/mohamedrostom62/ADLR/tum-adlr-ws25-16/videos/rl-video11-episode-0.mp4\n"
     ]
    },
    {
     "name": "stderr",
     "output_type": "stream",
     "text": [
      "\r"
     ]
    },
    {
     "name": "stdout",
     "output_type": "stream",
     "text": [
      "MoviePy - Building video /home/mohamedrostom62/ADLR/tum-adlr-ws25-16/videos/rl-video4-episode-0.mp4.\n",
      "MoviePy - Writing video /home/mohamedrostom62/ADLR/tum-adlr-ws25-16/videos/rl-video4-episode-0.mp4\n",
      "\n"
     ]
    },
    {
     "name": "stderr",
     "output_type": "stream",
     "text": [
      "                                                                       \r"
     ]
    },
    {
     "name": "stdout",
     "output_type": "stream",
     "text": [
      "MoviePy - Done !\n",
      "MoviePy - video ready /home/mohamedrostom62/ADLR/tum-adlr-ws25-16/videos/rl-video4-episode-0.mp4\n",
      "MoviePy - Building video /home/mohamedrostom62/ADLR/tum-adlr-ws25-16/videos/rl-video5-episode-0.mp4.\n",
      "MoviePy - Writing video /home/mohamedrostom62/ADLR/tum-adlr-ws25-16/videos/rl-video5-episode-0.mp4\n",
      "\n"
     ]
    },
    {
     "name": "stderr",
     "output_type": "stream",
     "text": [
      "                                                                       \r"
     ]
    },
    {
     "name": "stdout",
     "output_type": "stream",
     "text": [
      "MoviePy - Done !\n",
      "MoviePy - video ready /home/mohamedrostom62/ADLR/tum-adlr-ws25-16/videos/rl-video5-episode-0.mp4\n",
      "MoviePy - Building video /home/mohamedrostom62/ADLR/tum-adlr-ws25-16/videos/rl-video18-episode-0.mp4.\n",
      "MoviePy - Writing video /home/mohamedrostom62/ADLR/tum-adlr-ws25-16/videos/rl-video18-episode-0.mp4\n",
      "\n"
     ]
    },
    {
     "name": "stderr",
     "output_type": "stream",
     "text": [
      "                                                                       "
     ]
    },
    {
     "name": "stdout",
     "output_type": "stream",
     "text": [
      "MoviePy - Done !\n",
      "MoviePy - video ready /home/mohamedrostom62/ADLR/tum-adlr-ws25-16/videos/rl-video18-episode-0.mp4\n"
     ]
    },
    {
     "name": "stderr",
     "output_type": "stream",
     "text": [
      "\r"
     ]
    },
    {
     "name": "stdout",
     "output_type": "stream",
     "text": [
      "MoviePy - Building video /home/mohamedrostom62/ADLR/tum-adlr-ws25-16/videos/rl-video13-episode-0.mp4.\n",
      "MoviePy - Writing video /home/mohamedrostom62/ADLR/tum-adlr-ws25-16/videos/rl-video13-episode-0.mp4\n",
      "\n"
     ]
    },
    {
     "name": "stderr",
     "output_type": "stream",
     "text": [
      "                                                                       "
     ]
    },
    {
     "name": "stdout",
     "output_type": "stream",
     "text": [
      "MoviePy - Done !\n",
      "MoviePy - video ready /home/mohamedrostom62/ADLR/tum-adlr-ws25-16/videos/rl-video13-episode-0.mp4\n"
     ]
    },
    {
     "name": "stderr",
     "output_type": "stream",
     "text": [
      "\r"
     ]
    },
    {
     "name": "stdout",
     "output_type": "stream",
     "text": [
      "MoviePy - Building video /home/mohamedrostom62/ADLR/tum-adlr-ws25-16/videos/rl-video6-episode-0.mp4.\n",
      "MoviePy - Writing video /home/mohamedrostom62/ADLR/tum-adlr-ws25-16/videos/rl-video6-episode-0.mp4\n",
      "\n"
     ]
    },
    {
     "name": "stderr",
     "output_type": "stream",
     "text": [
      "                                                                       \r"
     ]
    },
    {
     "name": "stdout",
     "output_type": "stream",
     "text": [
      "MoviePy - Done !\n",
      "MoviePy - video ready /home/mohamedrostom62/ADLR/tum-adlr-ws25-16/videos/rl-video6-episode-0.mp4\n",
      "MoviePy - Building video /home/mohamedrostom62/ADLR/tum-adlr-ws25-16/videos/rl-video2-episode-0.mp4.\n",
      "MoviePy - Writing video /home/mohamedrostom62/ADLR/tum-adlr-ws25-16/videos/rl-video2-episode-0.mp4\n",
      "\n"
     ]
    },
    {
     "name": "stderr",
     "output_type": "stream",
     "text": [
      "                                                                       \r"
     ]
    },
    {
     "name": "stdout",
     "output_type": "stream",
     "text": [
      "MoviePy - Done !\n",
      "MoviePy - video ready /home/mohamedrostom62/ADLR/tum-adlr-ws25-16/videos/rl-video2-episode-0.mp4\n",
      "MoviePy - Building video /home/mohamedrostom62/ADLR/tum-adlr-ws25-16/videos/rl-video15-episode-0.mp4.\n",
      "MoviePy - Writing video /home/mohamedrostom62/ADLR/tum-adlr-ws25-16/videos/rl-video15-episode-0.mp4\n",
      "\n"
     ]
    },
    {
     "name": "stderr",
     "output_type": "stream",
     "text": [
      "                                                                       \r"
     ]
    },
    {
     "name": "stdout",
     "output_type": "stream",
     "text": [
      "MoviePy - Done !\n",
      "MoviePy - video ready /home/mohamedrostom62/ADLR/tum-adlr-ws25-16/videos/rl-video15-episode-0.mp4\n",
      "MoviePy - Building video /home/mohamedrostom62/ADLR/tum-adlr-ws25-16/videos/rl-video3-episode-0.mp4.\n",
      "MoviePy - Writing video /home/mohamedrostom62/ADLR/tum-adlr-ws25-16/videos/rl-video3-episode-0.mp4\n",
      "\n"
     ]
    },
    {
     "name": "stderr",
     "output_type": "stream",
     "text": [
      "                                                                       \r"
     ]
    },
    {
     "name": "stdout",
     "output_type": "stream",
     "text": [
      "MoviePy - Done !\n",
      "MoviePy - video ready /home/mohamedrostom62/ADLR/tum-adlr-ws25-16/videos/rl-video3-episode-0.mp4\n",
      "MoviePy - Building video /home/mohamedrostom62/ADLR/tum-adlr-ws25-16/videos/rl-video16-episode-0.mp4.\n",
      "MoviePy - Writing video /home/mohamedrostom62/ADLR/tum-adlr-ws25-16/videos/rl-video16-episode-0.mp4\n",
      "\n"
     ]
    },
    {
     "name": "stderr",
     "output_type": "stream",
     "text": [
      "                                                                       \r"
     ]
    },
    {
     "name": "stdout",
     "output_type": "stream",
     "text": [
      "MoviePy - Done !\n",
      "MoviePy - video ready /home/mohamedrostom62/ADLR/tum-adlr-ws25-16/videos/rl-video16-episode-0.mp4\n",
      "MoviePy - Building video /home/mohamedrostom62/ADLR/tum-adlr-ws25-16/videos/rl-video14-episode-0.mp4.\n",
      "MoviePy - Writing video /home/mohamedrostom62/ADLR/tum-adlr-ws25-16/videos/rl-video14-episode-0.mp4\n",
      "\n"
     ]
    },
    {
     "name": "stderr",
     "output_type": "stream",
     "text": [
      "\u001b[34m\u001b[1mwandb\u001b[0m: \u001b[33mWARNING\u001b[0m `fps` argument does not affect the frame rate of the video when providing a file path or raw bytes.\n"
     ]
    },
    {
     "name": "stdout",
     "output_type": "stream",
     "text": [
      "MoviePy - Done !\n",
      "MoviePy - video ready /home/mohamedrostom62/ADLR/tum-adlr-ws25-16/videos/rl-video14-episode-0.mp4\n"
     ]
    },
    {
     "data": {
      "text/html": [
       "\n",
       "    <style>\n",
       "        .wandb-row {\n",
       "            display: flex;\n",
       "            flex-direction: row;\n",
       "            flex-wrap: wrap;\n",
       "            justify-content: flex-start;\n",
       "            width: 100%;\n",
       "        }\n",
       "        .wandb-col {\n",
       "            display: flex;\n",
       "            flex-direction: column;\n",
       "            flex-basis: 100%;\n",
       "            flex: 1;\n",
       "            padding: 10px;\n",
       "        }\n",
       "    </style>\n",
       "<div class=\"wandb-row\"><div class=\"wandb-col\"><h3>Run history:</h3><br/><table class=\"wandb\"><tr><td>actor_learning_rate</td><td>▁▁</td></tr><tr><td>adp_learning_rate</td><td>▁</td></tr><tr><td>average_actor_loss</td><td>█▁</td></tr><tr><td>average_adapt_loss</td><td>▁</td></tr><tr><td>average_critic_loss</td><td>█▁</td></tr><tr><td>average_episode_rewards</td><td>█▁</td></tr><tr><td>critic_learning_rate</td><td>▁▁</td></tr><tr><td>maximum_validation_reward</td><td>▁</td></tr><tr><td>simulated_iterations</td><td>▁█▁</td></tr><tr><td>validation_duration</td><td>▁</td></tr><tr><td>validation_rewards</td><td>▁</td></tr></table><br/></div><div class=\"wandb-col\"><h3>Run summary:</h3><br/><table class=\"wandb\"><tr><td>actor_learning_rate</td><td>0.005</td></tr><tr><td>adp_learning_rate</td><td>0.005</td></tr><tr><td>average_actor_loss</td><td>-0.21148</td></tr><tr><td>average_adapt_loss</td><td>25.67567</td></tr><tr><td>average_critic_loss</td><td>838.93981</td></tr><tr><td>average_episode_rewards</td><td>-211.3405</td></tr><tr><td>critic_learning_rate</td><td>0.0075</td></tr><tr><td>iteration_compute</td><td>3.17</td></tr><tr><td>maximum_validation_reward</td><td>0</td></tr><tr><td>simulated_iterations</td><td>1</td></tr><tr><td>validation_duration</td><td>74.55</td></tr><tr><td>validation_rewards</td><td>-309.20729</td></tr></table><br/></div></div>"
      ],
      "text/plain": [
       "<IPython.core.display.HTML object>"
      ]
     },
     "metadata": {},
     "output_type": "display_data"
    },
    {
     "data": {
      "text/html": [
       " View run <strong style=\"color:#cdcd00\">fiery-sweep-2</strong> at: <a href='https://wandb.ai/pmsaraiva2712-tum/lunar/runs/7vsaeqdu' target=\"_blank\">https://wandb.ai/pmsaraiva2712-tum/lunar/runs/7vsaeqdu</a><br/> View project at: <a href='https://wandb.ai/pmsaraiva2712-tum/lunar' target=\"_blank\">https://wandb.ai/pmsaraiva2712-tum/lunar</a><br/>Synced 5 W&B file(s), 0 media file(s), 0 artifact file(s) and 1 other file(s)"
      ],
      "text/plain": [
       "<IPython.core.display.HTML object>"
      ]
     },
     "metadata": {},
     "output_type": "display_data"
    },
    {
     "data": {
      "text/html": [
       "Find logs at: <code>./wandb/run-20241216_230647-7vsaeqdu/logs</code>"
      ],
      "text/plain": [
       "<IPython.core.display.HTML object>"
      ]
     },
     "metadata": {},
     "output_type": "display_data"
    },
    {
     "name": "stderr",
     "output_type": "stream",
     "text": [
      "\u001b[34m\u001b[1mwandb\u001b[0m: Agent Starting Run: noi0l1ny with config:\n",
      "\u001b[34m\u001b[1mwandb\u001b[0m: \tactor_lr: 0.020620860360601415\n",
      "\u001b[34m\u001b[1mwandb\u001b[0m: \tadp_lr: 0.03751154163613607\n",
      "\u001b[34m\u001b[1mwandb\u001b[0m: \tadp_num_steps: 470\n",
      "\u001b[34m\u001b[1mwandb\u001b[0m: \tanneal_discount: 140\n",
      "\u001b[34m\u001b[1mwandb\u001b[0m: \tanneal_lr: False\n",
      "\u001b[34m\u001b[1mwandb\u001b[0m: \tbatches: 268\n",
      "\u001b[34m\u001b[1mwandb\u001b[0m: \tcritic_lr: 0.0779457820396566\n",
      "\u001b[34m\u001b[1mwandb\u001b[0m: \tgamma: 0.9445757929097592\n",
      "\u001b[34m\u001b[1mwandb\u001b[0m: \tlam: 0.9746994330879308\n",
      "\u001b[34m\u001b[1mwandb\u001b[0m: \tmax_grad_norm: 7.072838382419765\n",
      "\u001b[34m\u001b[1mwandb\u001b[0m: \tn_updates_per_iteration: 19\n",
      "\u001b[34m\u001b[1mwandb\u001b[0m: \tnum_envs: 27\n",
      "\u001b[34m\u001b[1mwandb\u001b[0m: \tnum_steps: 1800\n",
      "\u001b[34m\u001b[1mwandb\u001b[0m: \u001b[33mWARNING\u001b[0m Ignored wandb.init() arg project when running a sweep.\n"
     ]
    },
    {
     "data": {
      "text/html": [
       "Tracking run with wandb version 0.18.7"
      ],
      "text/plain": [
       "<IPython.core.display.HTML object>"
      ]
     },
     "metadata": {},
     "output_type": "display_data"
    },
    {
     "data": {
      "text/html": [
       "Run data is saved locally in <code>/home/mohamedrostom62/ADLR/tum-adlr-ws25-16/wandb/run-20241216_230712-noi0l1ny</code>"
      ],
      "text/plain": [
       "<IPython.core.display.HTML object>"
      ]
     },
     "metadata": {},
     "output_type": "display_data"
    },
    {
     "data": {
      "text/html": [
       "Syncing run <strong><a href='https://wandb.ai/pmsaraiva2712-tum/lunar/runs/noi0l1ny' target=\"_blank\">olive-sweep-3</a></strong> to <a href='https://wandb.ai/pmsaraiva2712-tum/lunar' target=\"_blank\">Weights & Biases</a> (<a href='https://wandb.me/developer-guide' target=\"_blank\">docs</a>)<br/>Sweep page: <a href='https://wandb.ai/pmsaraiva2712-tum/lunar/sweeps/q44u0ys7' target=\"_blank\">https://wandb.ai/pmsaraiva2712-tum/lunar/sweeps/q44u0ys7</a>"
      ],
      "text/plain": [
       "<IPython.core.display.HTML object>"
      ]
     },
     "metadata": {},
     "output_type": "display_data"
    },
    {
     "data": {
      "text/html": [
       " View project at <a href='https://wandb.ai/pmsaraiva2712-tum/lunar' target=\"_blank\">https://wandb.ai/pmsaraiva2712-tum/lunar</a>"
      ],
      "text/plain": [
       "<IPython.core.display.HTML object>"
      ]
     },
     "metadata": {},
     "output_type": "display_data"
    },
    {
     "data": {
      "text/html": [
       " View sweep at <a href='https://wandb.ai/pmsaraiva2712-tum/lunar/sweeps/q44u0ys7' target=\"_blank\">https://wandb.ai/pmsaraiva2712-tum/lunar/sweeps/q44u0ys7</a>"
      ],
      "text/plain": [
       "<IPython.core.display.HTML object>"
      ]
     },
     "metadata": {},
     "output_type": "display_data"
    },
    {
     "data": {
      "text/html": [
       " View run at <a href='https://wandb.ai/pmsaraiva2712-tum/lunar/runs/noi0l1ny' target=\"_blank\">https://wandb.ai/pmsaraiva2712-tum/lunar/runs/noi0l1ny</a>"
      ],
      "text/plain": [
       "<IPython.core.display.HTML object>"
      ]
     },
     "metadata": {},
     "output_type": "display_data"
    },
    {
     "name": "stdout",
     "output_type": "stream",
     "text": [
      "\n",
      "-------------------- Iteration #1 --------------------\n",
      "Average Episodic Return: -308.93\n",
      "Average Actor Loss: -0.21156\n",
      "Average Critic Loss: 1609.3566147437461\n",
      "Average KL Divergence: 0.010778687480174434\n",
      "Iteration took: 3.14 secs, of which rollout took 2.56 secs and gradient updates took 0.58 secs\n",
      "Current actor learning rate: 0.005\n",
      "Current critic learning rate: 0.0075\n",
      "------------------------------------------------------\n",
      "\n",
      "\n",
      "-------------------- Iteration #2 --------------------\n",
      "Average Episodic Return: -158.13\n",
      "Average Actor Loss: -0.2142\n",
      "Average Critic Loss: 1179.60073192303\n",
      "Average KL Divergence: 0.009272936225883873\n",
      "Iteration took: 3.13 secs, of which rollout took 2.55 secs and gradient updates took 0.57 secs\n",
      "Current actor learning rate: 0.005\n",
      "Current critic learning rate: 0.0075\n",
      "------------------------------------------------------\n",
      "\n",
      "\n",
      "-------------------- Iteration #1 --------------------\n",
      "Average adp Loss: 28.15251\n",
      "Iteration took: 2.46 secs, of which rollout took 2.2 secs and gradient updates took 0.25 secs\n",
      "Current adp learning rate: 0.005\n",
      "------------------------------------------------------\n",
      "\n"
     ]
    },
    {
     "name": "stderr",
     "output_type": "stream",
     "text": [
      "/home/mohamedrostom62/ADLR/tum-adlr-ws25-16/.venv/lib/python3.11/site-packages/gym/wrappers/record_video.py:75: UserWarning: \u001b[33mWARN: Overwriting existing videos at /home/mohamedrostom62/ADLR/tum-adlr-ws25-16/videos folder (try specifying a different `video_folder` for the `RecordVideo` wrapper if this is not desired)\u001b[0m\n",
      "  logger.warn(\n"
     ]
    },
    {
     "name": "stdout",
     "output_type": "stream",
     "text": [
      "MoviePy - Building video /home/mohamedrostom62/ADLR/tum-adlr-ws25-16/videos/rl-video16-episode-0.mp4.\n",
      "MoviePy - Writing video /home/mohamedrostom62/ADLR/tum-adlr-ws25-16/videos/rl-video16-episode-0.mp4\n",
      "\n"
     ]
    },
    {
     "name": "stderr",
     "output_type": "stream",
     "text": [
      "                                                                       "
     ]
    },
    {
     "name": "stdout",
     "output_type": "stream",
     "text": [
      "MoviePy - Done !\n",
      "MoviePy - video ready /home/mohamedrostom62/ADLR/tum-adlr-ws25-16/videos/rl-video16-episode-0.mp4\n"
     ]
    },
    {
     "name": "stderr",
     "output_type": "stream",
     "text": [
      "\r"
     ]
    },
    {
     "name": "stdout",
     "output_type": "stream",
     "text": [
      "MoviePy - Building video /home/mohamedrostom62/ADLR/tum-adlr-ws25-16/videos/rl-video19-episode-0.mp4.\n",
      "MoviePy - Writing video /home/mohamedrostom62/ADLR/tum-adlr-ws25-16/videos/rl-video19-episode-0.mp4\n",
      "\n"
     ]
    },
    {
     "name": "stderr",
     "output_type": "stream",
     "text": [
      "                                                                       \r"
     ]
    },
    {
     "name": "stdout",
     "output_type": "stream",
     "text": [
      "MoviePy - Done !\n",
      "MoviePy - video ready /home/mohamedrostom62/ADLR/tum-adlr-ws25-16/videos/rl-video19-episode-0.mp4\n",
      "MoviePy - Building video /home/mohamedrostom62/ADLR/tum-adlr-ws25-16/videos/rl-video8-episode-0.mp4.\n",
      "MoviePy - Writing video /home/mohamedrostom62/ADLR/tum-adlr-ws25-16/videos/rl-video8-episode-0.mp4\n",
      "\n"
     ]
    },
    {
     "name": "stderr",
     "output_type": "stream",
     "text": [
      "                                                                       \r"
     ]
    },
    {
     "name": "stdout",
     "output_type": "stream",
     "text": [
      "MoviePy - Done !\n",
      "MoviePy - video ready /home/mohamedrostom62/ADLR/tum-adlr-ws25-16/videos/rl-video8-episode-0.mp4\n",
      "MoviePy - Building video /home/mohamedrostom62/ADLR/tum-adlr-ws25-16/videos/rl-video2-episode-0.mp4.\n",
      "MoviePy - Writing video /home/mohamedrostom62/ADLR/tum-adlr-ws25-16/videos/rl-video2-episode-0.mp4\n",
      "\n"
     ]
    },
    {
     "name": "stderr",
     "output_type": "stream",
     "text": [
      "                                                                       "
     ]
    },
    {
     "name": "stdout",
     "output_type": "stream",
     "text": [
      "MoviePy - Done !\n",
      "MoviePy - video ready /home/mohamedrostom62/ADLR/tum-adlr-ws25-16/videos/rl-video2-episode-0.mp4\n"
     ]
    },
    {
     "name": "stderr",
     "output_type": "stream",
     "text": [
      "\r"
     ]
    },
    {
     "name": "stdout",
     "output_type": "stream",
     "text": [
      "MoviePy - Building video /home/mohamedrostom62/ADLR/tum-adlr-ws25-16/videos/rl-video3-episode-0.mp4.\n",
      "MoviePy - Writing video /home/mohamedrostom62/ADLR/tum-adlr-ws25-16/videos/rl-video3-episode-0.mp4\n",
      "\n"
     ]
    },
    {
     "name": "stderr",
     "output_type": "stream",
     "text": [
      "                                                                       \r"
     ]
    },
    {
     "name": "stdout",
     "output_type": "stream",
     "text": [
      "MoviePy - Done !\n",
      "MoviePy - video ready /home/mohamedrostom62/ADLR/tum-adlr-ws25-16/videos/rl-video3-episode-0.mp4\n",
      "MoviePy - Building video /home/mohamedrostom62/ADLR/tum-adlr-ws25-16/videos/rl-video11-episode-0.mp4.\n",
      "MoviePy - Writing video /home/mohamedrostom62/ADLR/tum-adlr-ws25-16/videos/rl-video11-episode-0.mp4\n",
      "\n"
     ]
    },
    {
     "name": "stderr",
     "output_type": "stream",
     "text": [
      "                                                                       "
     ]
    },
    {
     "name": "stdout",
     "output_type": "stream",
     "text": [
      "MoviePy - Done !\n",
      "MoviePy - video ready /home/mohamedrostom62/ADLR/tum-adlr-ws25-16/videos/rl-video11-episode-0.mp4\n"
     ]
    },
    {
     "name": "stderr",
     "output_type": "stream",
     "text": [
      "\r"
     ]
    },
    {
     "name": "stdout",
     "output_type": "stream",
     "text": [
      "MoviePy - Building video /home/mohamedrostom62/ADLR/tum-adlr-ws25-16/videos/rl-video6-episode-0.mp4.\n",
      "MoviePy - Writing video /home/mohamedrostom62/ADLR/tum-adlr-ws25-16/videos/rl-video6-episode-0.mp4\n",
      "\n"
     ]
    },
    {
     "name": "stderr",
     "output_type": "stream",
     "text": [
      "                                                                       "
     ]
    },
    {
     "name": "stdout",
     "output_type": "stream",
     "text": [
      "MoviePy - Done !\n",
      "MoviePy - video ready /home/mohamedrostom62/ADLR/tum-adlr-ws25-16/videos/rl-video6-episode-0.mp4\n"
     ]
    },
    {
     "name": "stderr",
     "output_type": "stream",
     "text": [
      "\r"
     ]
    },
    {
     "name": "stdout",
     "output_type": "stream",
     "text": [
      "MoviePy - Building video /home/mohamedrostom62/ADLR/tum-adlr-ws25-16/videos/rl-video4-episode-0.mp4.\n",
      "MoviePy - Writing video /home/mohamedrostom62/ADLR/tum-adlr-ws25-16/videos/rl-video4-episode-0.mp4\n",
      "\n"
     ]
    },
    {
     "name": "stderr",
     "output_type": "stream",
     "text": [
      "                                                                       "
     ]
    },
    {
     "name": "stdout",
     "output_type": "stream",
     "text": [
      "MoviePy - Done !\n",
      "MoviePy - video ready /home/mohamedrostom62/ADLR/tum-adlr-ws25-16/videos/rl-video4-episode-0.mp4\n"
     ]
    },
    {
     "name": "stderr",
     "output_type": "stream",
     "text": [
      "\r"
     ]
    },
    {
     "name": "stdout",
     "output_type": "stream",
     "text": [
      "MoviePy - Building video /home/mohamedrostom62/ADLR/tum-adlr-ws25-16/videos/rl-video14-episode-0.mp4.\n",
      "MoviePy - Writing video /home/mohamedrostom62/ADLR/tum-adlr-ws25-16/videos/rl-video14-episode-0.mp4\n",
      "\n"
     ]
    },
    {
     "name": "stderr",
     "output_type": "stream",
     "text": [
      "                                                                       "
     ]
    },
    {
     "name": "stdout",
     "output_type": "stream",
     "text": [
      "MoviePy - Done !\n",
      "MoviePy - video ready /home/mohamedrostom62/ADLR/tum-adlr-ws25-16/videos/rl-video14-episode-0.mp4\n"
     ]
    },
    {
     "name": "stderr",
     "output_type": "stream",
     "text": [
      "\r"
     ]
    },
    {
     "name": "stdout",
     "output_type": "stream",
     "text": [
      "MoviePy - Building video /home/mohamedrostom62/ADLR/tum-adlr-ws25-16/videos/rl-video13-episode-0.mp4.\n",
      "MoviePy - Writing video /home/mohamedrostom62/ADLR/tum-adlr-ws25-16/videos/rl-video13-episode-0.mp4\n",
      "\n"
     ]
    },
    {
     "name": "stderr",
     "output_type": "stream",
     "text": [
      "                                                                       "
     ]
    },
    {
     "name": "stdout",
     "output_type": "stream",
     "text": [
      "MoviePy - Done !\n",
      "MoviePy - video ready /home/mohamedrostom62/ADLR/tum-adlr-ws25-16/videos/rl-video13-episode-0.mp4\n"
     ]
    },
    {
     "name": "stderr",
     "output_type": "stream",
     "text": [
      "\r"
     ]
    },
    {
     "name": "stdout",
     "output_type": "stream",
     "text": [
      "MoviePy - Building video /home/mohamedrostom62/ADLR/tum-adlr-ws25-16/videos/rl-video1-episode-0.mp4.\n",
      "MoviePy - Writing video /home/mohamedrostom62/ADLR/tum-adlr-ws25-16/videos/rl-video1-episode-0.mp4\n",
      "\n"
     ]
    },
    {
     "name": "stderr",
     "output_type": "stream",
     "text": [
      "                                                                       "
     ]
    },
    {
     "name": "stdout",
     "output_type": "stream",
     "text": [
      "MoviePy - Done !\n",
      "MoviePy - video ready /home/mohamedrostom62/ADLR/tum-adlr-ws25-16/videos/rl-video1-episode-0.mp4\n"
     ]
    },
    {
     "name": "stderr",
     "output_type": "stream",
     "text": [
      "\r"
     ]
    },
    {
     "name": "stdout",
     "output_type": "stream",
     "text": [
      "MoviePy - Building video /home/mohamedrostom62/ADLR/tum-adlr-ws25-16/videos/rl-video12-episode-0.mp4.\n",
      "MoviePy - Writing video /home/mohamedrostom62/ADLR/tum-adlr-ws25-16/videos/rl-video12-episode-0.mp4\n",
      "\n"
     ]
    },
    {
     "name": "stderr",
     "output_type": "stream",
     "text": [
      "                                                                       "
     ]
    },
    {
     "name": "stdout",
     "output_type": "stream",
     "text": [
      "MoviePy - Done !\n",
      "MoviePy - video ready /home/mohamedrostom62/ADLR/tum-adlr-ws25-16/videos/rl-video12-episode-0.mp4\n"
     ]
    },
    {
     "name": "stderr",
     "output_type": "stream",
     "text": [
      "\r"
     ]
    },
    {
     "name": "stdout",
     "output_type": "stream",
     "text": [
      "MoviePy - Building video /home/mohamedrostom62/ADLR/tum-adlr-ws25-16/videos/rl-video10-episode-0.mp4.\n",
      "MoviePy - Writing video /home/mohamedrostom62/ADLR/tum-adlr-ws25-16/videos/rl-video10-episode-0.mp4\n",
      "\n"
     ]
    },
    {
     "name": "stderr",
     "output_type": "stream",
     "text": [
      "                                                                       "
     ]
    },
    {
     "name": "stdout",
     "output_type": "stream",
     "text": [
      "MoviePy - Done !"
     ]
    },
    {
     "name": "stderr",
     "output_type": "stream",
     "text": [
      "\r"
     ]
    },
    {
     "name": "stdout",
     "output_type": "stream",
     "text": [
      "\n",
      "MoviePy - video ready /home/mohamedrostom62/ADLR/tum-adlr-ws25-16/videos/rl-video10-episode-0.mp4\n",
      "MoviePy - Building video /home/mohamedrostom62/ADLR/tum-adlr-ws25-16/videos/rl-video7-episode-0.mp4.\n",
      "MoviePy - Writing video /home/mohamedrostom62/ADLR/tum-adlr-ws25-16/videos/rl-video7-episode-0.mp4\n",
      "\n"
     ]
    },
    {
     "name": "stderr",
     "output_type": "stream",
     "text": [
      "                                                                       \r"
     ]
    },
    {
     "name": "stdout",
     "output_type": "stream",
     "text": [
      "MoviePy - Done !\n",
      "MoviePy - video ready /home/mohamedrostom62/ADLR/tum-adlr-ws25-16/videos/rl-video7-episode-0.mp4\n",
      "MoviePy - Building video /home/mohamedrostom62/ADLR/tum-adlr-ws25-16/videos/rl-video15-episode-0.mp4.\n",
      "MoviePy - Writing video /home/mohamedrostom62/ADLR/tum-adlr-ws25-16/videos/rl-video15-episode-0.mp4\n",
      "\n"
     ]
    },
    {
     "name": "stderr",
     "output_type": "stream",
     "text": [
      "                                                                       \r"
     ]
    },
    {
     "name": "stdout",
     "output_type": "stream",
     "text": [
      "MoviePy - Done !\n",
      "MoviePy - video ready /home/mohamedrostom62/ADLR/tum-adlr-ws25-16/videos/rl-video15-episode-0.mp4\n",
      "MoviePy - Building video /home/mohamedrostom62/ADLR/tum-adlr-ws25-16/videos/rl-video18-episode-0.mp4.\n",
      "MoviePy - Writing video /home/mohamedrostom62/ADLR/tum-adlr-ws25-16/videos/rl-video18-episode-0.mp4\n",
      "\n"
     ]
    },
    {
     "name": "stderr",
     "output_type": "stream",
     "text": [
      "                                                                       \r"
     ]
    },
    {
     "name": "stdout",
     "output_type": "stream",
     "text": [
      "MoviePy - Done !\n",
      "MoviePy - video ready /home/mohamedrostom62/ADLR/tum-adlr-ws25-16/videos/rl-video18-episode-0.mp4\n",
      "MoviePy - Building video /home/mohamedrostom62/ADLR/tum-adlr-ws25-16/videos/rl-video5-episode-0.mp4.\n",
      "MoviePy - Writing video /home/mohamedrostom62/ADLR/tum-adlr-ws25-16/videos/rl-video5-episode-0.mp4\n",
      "\n"
     ]
    },
    {
     "name": "stderr",
     "output_type": "stream",
     "text": [
      "                                                                       \r"
     ]
    },
    {
     "name": "stdout",
     "output_type": "stream",
     "text": [
      "MoviePy - Done !\n",
      "MoviePy - video ready /home/mohamedrostom62/ADLR/tum-adlr-ws25-16/videos/rl-video5-episode-0.mp4\n",
      "MoviePy - Building video /home/mohamedrostom62/ADLR/tum-adlr-ws25-16/videos/rl-video9-episode-0.mp4.\n",
      "MoviePy - Writing video /home/mohamedrostom62/ADLR/tum-adlr-ws25-16/videos/rl-video9-episode-0.mp4\n",
      "\n"
     ]
    },
    {
     "name": "stderr",
     "output_type": "stream",
     "text": [
      "                                                                       \r"
     ]
    },
    {
     "name": "stdout",
     "output_type": "stream",
     "text": [
      "MoviePy - Done !\n",
      "MoviePy - video ready /home/mohamedrostom62/ADLR/tum-adlr-ws25-16/videos/rl-video9-episode-0.mp4\n",
      "MoviePy - Building video /home/mohamedrostom62/ADLR/tum-adlr-ws25-16/videos/rl-video0-episode-0.mp4.\n",
      "MoviePy - Writing video /home/mohamedrostom62/ADLR/tum-adlr-ws25-16/videos/rl-video0-episode-0.mp4\n",
      "\n"
     ]
    },
    {
     "name": "stderr",
     "output_type": "stream",
     "text": [
      "                                                                         \r"
     ]
    },
    {
     "name": "stdout",
     "output_type": "stream",
     "text": [
      "MoviePy - Done !\n",
      "MoviePy - video ready /home/mohamedrostom62/ADLR/tum-adlr-ws25-16/videos/rl-video0-episode-0.mp4\n",
      "MoviePy - Building video /home/mohamedrostom62/ADLR/tum-adlr-ws25-16/videos/rl-video8-episode-1.mp4.\n",
      "MoviePy - Writing video /home/mohamedrostom62/ADLR/tum-adlr-ws25-16/videos/rl-video8-episode-1.mp4\n",
      "\n"
     ]
    },
    {
     "name": "stderr",
     "output_type": "stream",
     "text": [
      "                                                                       \r"
     ]
    },
    {
     "name": "stdout",
     "output_type": "stream",
     "text": [
      "MoviePy - Done !\n",
      "MoviePy - video ready /home/mohamedrostom62/ADLR/tum-adlr-ws25-16/videos/rl-video8-episode-1.mp4\n",
      "MoviePy - Building video /home/mohamedrostom62/ADLR/tum-adlr-ws25-16/videos/rl-video16-episode-1.mp4.\n",
      "MoviePy - Writing video /home/mohamedrostom62/ADLR/tum-adlr-ws25-16/videos/rl-video16-episode-1.mp4\n",
      "\n"
     ]
    },
    {
     "name": "stderr",
     "output_type": "stream",
     "text": [
      "                                                                       \r"
     ]
    },
    {
     "name": "stdout",
     "output_type": "stream",
     "text": [
      "MoviePy - Done !\n",
      "MoviePy - video ready /home/mohamedrostom62/ADLR/tum-adlr-ws25-16/videos/rl-video16-episode-1.mp4\n",
      "MoviePy - Building video /home/mohamedrostom62/ADLR/tum-adlr-ws25-16/videos/rl-video4-episode-1.mp4.\n",
      "MoviePy - Writing video /home/mohamedrostom62/ADLR/tum-adlr-ws25-16/videos/rl-video4-episode-1.mp4\n",
      "\n"
     ]
    },
    {
     "name": "stderr",
     "output_type": "stream",
     "text": [
      "                                                                       "
     ]
    },
    {
     "name": "stdout",
     "output_type": "stream",
     "text": [
      "MoviePy - Done !\n",
      "MoviePy - video ready /home/mohamedrostom62/ADLR/tum-adlr-ws25-16/videos/rl-video4-episode-1.mp4\n"
     ]
    },
    {
     "name": "stderr",
     "output_type": "stream",
     "text": [
      "\r"
     ]
    },
    {
     "name": "stdout",
     "output_type": "stream",
     "text": [
      "MoviePy - Building video /home/mohamedrostom62/ADLR/tum-adlr-ws25-16/videos/rl-video13-episode-1.mp4.\n",
      "MoviePy - Writing video /home/mohamedrostom62/ADLR/tum-adlr-ws25-16/videos/rl-video13-episode-1.mp4\n",
      "\n"
     ]
    },
    {
     "name": "stderr",
     "output_type": "stream",
     "text": [
      "                                                                       "
     ]
    },
    {
     "name": "stdout",
     "output_type": "stream",
     "text": [
      "MoviePy - Done !\n",
      "MoviePy - video ready /home/mohamedrostom62/ADLR/tum-adlr-ws25-16/videos/rl-video13-episode-1.mp4\n"
     ]
    },
    {
     "name": "stderr",
     "output_type": "stream",
     "text": [
      "\r"
     ]
    },
    {
     "name": "stdout",
     "output_type": "stream",
     "text": [
      "MoviePy - Building video /home/mohamedrostom62/ADLR/tum-adlr-ws25-16/videos/rl-video2-episode-1.mp4.\n",
      "MoviePy - Writing video /home/mohamedrostom62/ADLR/tum-adlr-ws25-16/videos/rl-video2-episode-1.mp4\n",
      "\n"
     ]
    },
    {
     "name": "stderr",
     "output_type": "stream",
     "text": [
      "                                                                       "
     ]
    },
    {
     "name": "stdout",
     "output_type": "stream",
     "text": [
      "MoviePy - Done !\n",
      "MoviePy - video ready /home/mohamedrostom62/ADLR/tum-adlr-ws25-16/videos/rl-video2-episode-1.mp4\n"
     ]
    },
    {
     "name": "stderr",
     "output_type": "stream",
     "text": [
      "\r"
     ]
    },
    {
     "name": "stdout",
     "output_type": "stream",
     "text": [
      "MoviePy - Building video /home/mohamedrostom62/ADLR/tum-adlr-ws25-16/videos/rl-video19-episode-1.mp4.\n",
      "MoviePy - Writing video /home/mohamedrostom62/ADLR/tum-adlr-ws25-16/videos/rl-video19-episode-1.mp4\n",
      "\n"
     ]
    },
    {
     "name": "stderr",
     "output_type": "stream",
     "text": [
      "                                                                       "
     ]
    },
    {
     "name": "stdout",
     "output_type": "stream",
     "text": [
      "MoviePy - Done !\n",
      "MoviePy - video ready /home/mohamedrostom62/ADLR/tum-adlr-ws25-16/videos/rl-video19-episode-1.mp4\n"
     ]
    },
    {
     "name": "stderr",
     "output_type": "stream",
     "text": [
      "\r"
     ]
    },
    {
     "name": "stdout",
     "output_type": "stream",
     "text": [
      "MoviePy - Building video /home/mohamedrostom62/ADLR/tum-adlr-ws25-16/videos/rl-video3-episode-1.mp4.\n",
      "MoviePy - Writing video /home/mohamedrostom62/ADLR/tum-adlr-ws25-16/videos/rl-video3-episode-1.mp4\n",
      "\n"
     ]
    },
    {
     "name": "stderr",
     "output_type": "stream",
     "text": [
      "                                                                       \r"
     ]
    },
    {
     "name": "stdout",
     "output_type": "stream",
     "text": [
      "MoviePy - Done !\n",
      "MoviePy - video ready /home/mohamedrostom62/ADLR/tum-adlr-ws25-16/videos/rl-video3-episode-1.mp4\n",
      "MoviePy - Building video /home/mohamedrostom62/ADLR/tum-adlr-ws25-16/videos/rl-video17-episode-0.mp4.\n",
      "MoviePy - Writing video /home/mohamedrostom62/ADLR/tum-adlr-ws25-16/videos/rl-video17-episode-0.mp4\n",
      "\n"
     ]
    },
    {
     "name": "stderr",
     "output_type": "stream",
     "text": [
      "\u001b[34m\u001b[1mwandb\u001b[0m: \u001b[33mWARNING\u001b[0m `fps` argument does not affect the frame rate of the video when providing a file path or raw bytes.\n"
     ]
    },
    {
     "name": "stdout",
     "output_type": "stream",
     "text": [
      "MoviePy - Done !\n",
      "MoviePy - video ready /home/mohamedrostom62/ADLR/tum-adlr-ws25-16/videos/rl-video17-episode-0.mp4\n"
     ]
    },
    {
     "data": {
      "text/html": [
       "\n",
       "    <style>\n",
       "        .wandb-row {\n",
       "            display: flex;\n",
       "            flex-direction: row;\n",
       "            flex-wrap: wrap;\n",
       "            justify-content: flex-start;\n",
       "            width: 100%;\n",
       "        }\n",
       "        .wandb-col {\n",
       "            display: flex;\n",
       "            flex-direction: column;\n",
       "            flex-basis: 100%;\n",
       "            flex: 1;\n",
       "            padding: 10px;\n",
       "        }\n",
       "    </style>\n",
       "<div class=\"wandb-row\"><div class=\"wandb-col\"><h3>Run history:</h3><br/><table class=\"wandb\"><tr><td>actor_learning_rate</td><td>▁▁</td></tr><tr><td>adp_learning_rate</td><td>▁</td></tr><tr><td>average_actor_loss</td><td>█▁</td></tr><tr><td>average_adapt_loss</td><td>▁</td></tr><tr><td>average_critic_loss</td><td>█▁</td></tr><tr><td>average_episode_rewards</td><td>▁█</td></tr><tr><td>critic_learning_rate</td><td>▁▁</td></tr><tr><td>maximum_validation_reward</td><td>▁</td></tr><tr><td>simulated_iterations</td><td>▁█▁</td></tr><tr><td>validation_duration</td><td>▁</td></tr><tr><td>validation_rewards</td><td>▁</td></tr></table><br/></div><div class=\"wandb-col\"><h3>Run summary:</h3><br/><table class=\"wandb\"><tr><td>actor_learning_rate</td><td>0.005</td></tr><tr><td>adp_learning_rate</td><td>0.005</td></tr><tr><td>average_actor_loss</td><td>-0.2142</td></tr><tr><td>average_adapt_loss</td><td>28.15251</td></tr><tr><td>average_critic_loss</td><td>1179.60073</td></tr><tr><td>average_episode_rewards</td><td>-158.13014</td></tr><tr><td>critic_learning_rate</td><td>0.0075</td></tr><tr><td>iteration_compute</td><td>2.46</td></tr><tr><td>maximum_validation_reward</td><td>0</td></tr><tr><td>simulated_iterations</td><td>1</td></tr><tr><td>validation_duration</td><td>81.2</td></tr><tr><td>validation_rewards</td><td>-313.5894</td></tr></table><br/></div></div>"
      ],
      "text/plain": [
       "<IPython.core.display.HTML object>"
      ]
     },
     "metadata": {},
     "output_type": "display_data"
    },
    {
     "data": {
      "text/html": [
       " View run <strong style=\"color:#cdcd00\">olive-sweep-3</strong> at: <a href='https://wandb.ai/pmsaraiva2712-tum/lunar/runs/noi0l1ny' target=\"_blank\">https://wandb.ai/pmsaraiva2712-tum/lunar/runs/noi0l1ny</a><br/> View project at: <a href='https://wandb.ai/pmsaraiva2712-tum/lunar' target=\"_blank\">https://wandb.ai/pmsaraiva2712-tum/lunar</a><br/>Synced 5 W&B file(s), 0 media file(s), 0 artifact file(s) and 1 other file(s)"
      ],
      "text/plain": [
       "<IPython.core.display.HTML object>"
      ]
     },
     "metadata": {},
     "output_type": "display_data"
    },
    {
     "data": {
      "text/html": [
       "Find logs at: <code>./wandb/run-20241216_230712-noi0l1ny/logs</code>"
      ],
      "text/plain": [
       "<IPython.core.display.HTML object>"
      ]
     },
     "metadata": {},
     "output_type": "display_data"
    },
    {
     "name": "stderr",
     "output_type": "stream",
     "text": [
      "\u001b[34m\u001b[1mwandb\u001b[0m: Agent Starting Run: cj89uwxo with config:\n",
      "\u001b[34m\u001b[1mwandb\u001b[0m: \tactor_lr: 0.024606345234675257\n",
      "\u001b[34m\u001b[1mwandb\u001b[0m: \tadp_lr: 0.025172456409093196\n",
      "\u001b[34m\u001b[1mwandb\u001b[0m: \tadp_num_steps: 820\n",
      "\u001b[34m\u001b[1mwandb\u001b[0m: \tanneal_discount: 180\n",
      "\u001b[34m\u001b[1mwandb\u001b[0m: \tanneal_lr: False\n",
      "\u001b[34m\u001b[1mwandb\u001b[0m: \tbatches: 788\n",
      "\u001b[34m\u001b[1mwandb\u001b[0m: \tcritic_lr: 0.05257378764330456\n",
      "\u001b[34m\u001b[1mwandb\u001b[0m: \tgamma: 0.9374913764547572\n",
      "\u001b[34m\u001b[1mwandb\u001b[0m: \tlam: 0.9656347807649304\n",
      "\u001b[34m\u001b[1mwandb\u001b[0m: \tmax_grad_norm: 7.848039241143208\n",
      "\u001b[34m\u001b[1mwandb\u001b[0m: \tn_updates_per_iteration: 19\n",
      "\u001b[34m\u001b[1mwandb\u001b[0m: \tnum_envs: 30\n",
      "\u001b[34m\u001b[1mwandb\u001b[0m: \tnum_steps: 1100\n",
      "\u001b[34m\u001b[1mwandb\u001b[0m: \u001b[33mWARNING\u001b[0m Ignored wandb.init() arg project when running a sweep.\n"
     ]
    },
    {
     "data": {
      "text/html": [
       "Tracking run with wandb version 0.18.7"
      ],
      "text/plain": [
       "<IPython.core.display.HTML object>"
      ]
     },
     "metadata": {},
     "output_type": "display_data"
    },
    {
     "data": {
      "text/html": [
       "Run data is saved locally in <code>/home/mohamedrostom62/ADLR/tum-adlr-ws25-16/wandb/run-20241216_230738-cj89uwxo</code>"
      ],
      "text/plain": [
       "<IPython.core.display.HTML object>"
      ]
     },
     "metadata": {},
     "output_type": "display_data"
    },
    {
     "data": {
      "text/html": [
       "Syncing run <strong><a href='https://wandb.ai/pmsaraiva2712-tum/lunar/runs/cj89uwxo' target=\"_blank\">sleek-sweep-4</a></strong> to <a href='https://wandb.ai/pmsaraiva2712-tum/lunar' target=\"_blank\">Weights & Biases</a> (<a href='https://wandb.me/developer-guide' target=\"_blank\">docs</a>)<br/>Sweep page: <a href='https://wandb.ai/pmsaraiva2712-tum/lunar/sweeps/q44u0ys7' target=\"_blank\">https://wandb.ai/pmsaraiva2712-tum/lunar/sweeps/q44u0ys7</a>"
      ],
      "text/plain": [
       "<IPython.core.display.HTML object>"
      ]
     },
     "metadata": {},
     "output_type": "display_data"
    },
    {
     "data": {
      "text/html": [
       " View project at <a href='https://wandb.ai/pmsaraiva2712-tum/lunar' target=\"_blank\">https://wandb.ai/pmsaraiva2712-tum/lunar</a>"
      ],
      "text/plain": [
       "<IPython.core.display.HTML object>"
      ]
     },
     "metadata": {},
     "output_type": "display_data"
    },
    {
     "data": {
      "text/html": [
       " View sweep at <a href='https://wandb.ai/pmsaraiva2712-tum/lunar/sweeps/q44u0ys7' target=\"_blank\">https://wandb.ai/pmsaraiva2712-tum/lunar/sweeps/q44u0ys7</a>"
      ],
      "text/plain": [
       "<IPython.core.display.HTML object>"
      ]
     },
     "metadata": {},
     "output_type": "display_data"
    },
    {
     "data": {
      "text/html": [
       " View run at <a href='https://wandb.ai/pmsaraiva2712-tum/lunar/runs/cj89uwxo' target=\"_blank\">https://wandb.ai/pmsaraiva2712-tum/lunar/runs/cj89uwxo</a>"
      ],
      "text/plain": [
       "<IPython.core.display.HTML object>"
      ]
     },
     "metadata": {},
     "output_type": "display_data"
    },
    {
     "name": "stdout",
     "output_type": "stream",
     "text": [
      "\n",
      "-------------------- Iteration #1 --------------------\n",
      "Average Episodic Return: -313.75\n",
      "Average Actor Loss: -0.21144\n",
      "Average Critic Loss: 2039.8928665161134\n",
      "Average KL Divergence: 0.00936701982595528\n",
      "Iteration took: 3.2 secs, of which rollout took 2.61 secs and gradient updates took 0.59 secs\n",
      "Current actor learning rate: 0.005\n",
      "Current critic learning rate: 0.0075\n",
      "------------------------------------------------------\n",
      "\n",
      "\n",
      "-------------------- Iteration #2 --------------------\n",
      "Average Episodic Return: -203.73\n",
      "Average Actor Loss: -0.21258\n",
      "Average Critic Loss: 1499.259181858943\n",
      "Average KL Divergence: 0.008870134143412893\n",
      "Iteration took: 3.19 secs, of which rollout took 2.61 secs and gradient updates took 0.57 secs\n",
      "Current actor learning rate: 0.005\n",
      "Current critic learning rate: 0.0075\n",
      "------------------------------------------------------\n",
      "\n",
      "\n",
      "-------------------- Iteration #1 --------------------\n",
      "Average adp Loss: 27.28223\n",
      "Iteration took: 2.51 secs, of which rollout took 2.24 secs and gradient updates took 0.25 secs\n",
      "Current adp learning rate: 0.005\n",
      "------------------------------------------------------\n",
      "\n"
     ]
    },
    {
     "name": "stderr",
     "output_type": "stream",
     "text": [
      "/home/mohamedrostom62/ADLR/tum-adlr-ws25-16/.venv/lib/python3.11/site-packages/gym/wrappers/record_video.py:75: UserWarning: \u001b[33mWARN: Overwriting existing videos at /home/mohamedrostom62/ADLR/tum-adlr-ws25-16/videos folder (try specifying a different `video_folder` for the `RecordVideo` wrapper if this is not desired)\u001b[0m\n",
      "  logger.warn(\n"
     ]
    },
    {
     "name": "stdout",
     "output_type": "stream",
     "text": [
      "MoviePy - Building video /home/mohamedrostom62/ADLR/tum-adlr-ws25-16/videos/rl-video12-episode-0.mp4.\n",
      "MoviePy - Writing video /home/mohamedrostom62/ADLR/tum-adlr-ws25-16/videos/rl-video12-episode-0.mp4\n",
      "\n"
     ]
    },
    {
     "name": "stderr",
     "output_type": "stream",
     "text": [
      "                                                                       "
     ]
    },
    {
     "name": "stdout",
     "output_type": "stream",
     "text": [
      "MoviePy - Done !\n",
      "MoviePy - video ready /home/mohamedrostom62/ADLR/tum-adlr-ws25-16/videos/rl-video12-episode-0.mp4\n"
     ]
    },
    {
     "name": "stderr",
     "output_type": "stream",
     "text": [
      "\r"
     ]
    },
    {
     "name": "stdout",
     "output_type": "stream",
     "text": [
      "MoviePy - Building video /home/mohamedrostom62/ADLR/tum-adlr-ws25-16/videos/rl-video13-episode-0.mp4.\n",
      "MoviePy - Writing video /home/mohamedrostom62/ADLR/tum-adlr-ws25-16/videos/rl-video13-episode-0.mp4\n",
      "\n"
     ]
    },
    {
     "name": "stderr",
     "output_type": "stream",
     "text": [
      "                                                                       "
     ]
    },
    {
     "name": "stdout",
     "output_type": "stream",
     "text": [
      "MoviePy - Done !\n",
      "MoviePy - video ready /home/mohamedrostom62/ADLR/tum-adlr-ws25-16/videos/rl-video13-episode-0.mp4\n"
     ]
    },
    {
     "name": "stderr",
     "output_type": "stream",
     "text": [
      "\r"
     ]
    },
    {
     "name": "stdout",
     "output_type": "stream",
     "text": [
      "MoviePy - Building video /home/mohamedrostom62/ADLR/tum-adlr-ws25-16/videos/rl-video14-episode-0.mp4.\n",
      "MoviePy - Writing video /home/mohamedrostom62/ADLR/tum-adlr-ws25-16/videos/rl-video14-episode-0.mp4\n",
      "\n"
     ]
    },
    {
     "name": "stderr",
     "output_type": "stream",
     "text": [
      "                                                                       "
     ]
    },
    {
     "name": "stdout",
     "output_type": "stream",
     "text": [
      "MoviePy - Done !\n",
      "MoviePy - video ready /home/mohamedrostom62/ADLR/tum-adlr-ws25-16/videos/rl-video14-episode-0.mp4\n"
     ]
    },
    {
     "name": "stderr",
     "output_type": "stream",
     "text": [
      "\r"
     ]
    },
    {
     "name": "stdout",
     "output_type": "stream",
     "text": [
      "MoviePy - Building video /home/mohamedrostom62/ADLR/tum-adlr-ws25-16/videos/rl-video10-episode-0.mp4.\n",
      "MoviePy - Writing video /home/mohamedrostom62/ADLR/tum-adlr-ws25-16/videos/rl-video10-episode-0.mp4\n",
      "\n"
     ]
    },
    {
     "name": "stderr",
     "output_type": "stream",
     "text": [
      "                                                                       "
     ]
    },
    {
     "name": "stdout",
     "output_type": "stream",
     "text": [
      "MoviePy - Done !\n",
      "MoviePy - video ready /home/mohamedrostom62/ADLR/tum-adlr-ws25-16/videos/rl-video10-episode-0.mp4\n"
     ]
    },
    {
     "name": "stderr",
     "output_type": "stream",
     "text": [
      "\r"
     ]
    },
    {
     "name": "stdout",
     "output_type": "stream",
     "text": [
      "MoviePy - Building video /home/mohamedrostom62/ADLR/tum-adlr-ws25-16/videos/rl-video15-episode-0.mp4.\n",
      "MoviePy - Writing video /home/mohamedrostom62/ADLR/tum-adlr-ws25-16/videos/rl-video15-episode-0.mp4\n",
      "\n"
     ]
    },
    {
     "name": "stderr",
     "output_type": "stream",
     "text": [
      "                                                                       "
     ]
    },
    {
     "name": "stdout",
     "output_type": "stream",
     "text": [
      "MoviePy - Done !\n",
      "MoviePy - video ready /home/mohamedrostom62/ADLR/tum-adlr-ws25-16/videos/rl-video15-episode-0.mp4\n"
     ]
    },
    {
     "name": "stderr",
     "output_type": "stream",
     "text": [
      "\r"
     ]
    },
    {
     "name": "stdout",
     "output_type": "stream",
     "text": [
      "MoviePy - Building video /home/mohamedrostom62/ADLR/tum-adlr-ws25-16/videos/rl-video18-episode-0.mp4.\n",
      "MoviePy - Writing video /home/mohamedrostom62/ADLR/tum-adlr-ws25-16/videos/rl-video18-episode-0.mp4\n",
      "\n"
     ]
    },
    {
     "name": "stderr",
     "output_type": "stream",
     "text": [
      "                                                                       "
     ]
    },
    {
     "name": "stdout",
     "output_type": "stream",
     "text": [
      "MoviePy - Done !\n",
      "MoviePy - video ready /home/mohamedrostom62/ADLR/tum-adlr-ws25-16/videos/rl-video18-episode-0.mp4\n"
     ]
    },
    {
     "name": "stderr",
     "output_type": "stream",
     "text": [
      "\r"
     ]
    },
    {
     "name": "stdout",
     "output_type": "stream",
     "text": [
      "MoviePy - Building video /home/mohamedrostom62/ADLR/tum-adlr-ws25-16/videos/rl-video8-episode-0.mp4.\n",
      "MoviePy - Writing video /home/mohamedrostom62/ADLR/tum-adlr-ws25-16/videos/rl-video8-episode-0.mp4\n",
      "\n"
     ]
    },
    {
     "name": "stderr",
     "output_type": "stream",
     "text": [
      "                                                                       "
     ]
    },
    {
     "name": "stdout",
     "output_type": "stream",
     "text": [
      "MoviePy - Done !\n",
      "MoviePy - video ready /home/mohamedrostom62/ADLR/tum-adlr-ws25-16/videos/rl-video8-episode-0.mp4\n"
     ]
    },
    {
     "name": "stderr",
     "output_type": "stream",
     "text": [
      "\r"
     ]
    },
    {
     "name": "stdout",
     "output_type": "stream",
     "text": [
      "MoviePy - Building video /home/mohamedrostom62/ADLR/tum-adlr-ws25-16/videos/rl-video4-episode-0.mp4.\n",
      "MoviePy - Writing video /home/mohamedrostom62/ADLR/tum-adlr-ws25-16/videos/rl-video4-episode-0.mp4\n",
      "\n"
     ]
    },
    {
     "name": "stderr",
     "output_type": "stream",
     "text": [
      "                                                                       "
     ]
    },
    {
     "name": "stdout",
     "output_type": "stream",
     "text": [
      "MoviePy - Done !\n",
      "MoviePy - video ready /home/mohamedrostom62/ADLR/tum-adlr-ws25-16/videos/rl-video4-episode-0.mp4\n"
     ]
    },
    {
     "name": "stderr",
     "output_type": "stream",
     "text": [
      "\r"
     ]
    },
    {
     "name": "stdout",
     "output_type": "stream",
     "text": [
      "MoviePy - Building video /home/mohamedrostom62/ADLR/tum-adlr-ws25-16/videos/rl-video1-episode-0.mp4.\n",
      "MoviePy - Writing video /home/mohamedrostom62/ADLR/tum-adlr-ws25-16/videos/rl-video1-episode-0.mp4\n",
      "\n"
     ]
    },
    {
     "name": "stderr",
     "output_type": "stream",
     "text": [
      "                                                                       "
     ]
    },
    {
     "name": "stdout",
     "output_type": "stream",
     "text": [
      "MoviePy - Done !\n",
      "MoviePy - video ready /home/mohamedrostom62/ADLR/tum-adlr-ws25-16/videos/rl-video1-episode-0.mp4\n"
     ]
    },
    {
     "name": "stderr",
     "output_type": "stream",
     "text": [
      "\r"
     ]
    },
    {
     "name": "stdout",
     "output_type": "stream",
     "text": [
      "MoviePy - Building video /home/mohamedrostom62/ADLR/tum-adlr-ws25-16/videos/rl-video9-episode-0.mp4.\n",
      "MoviePy - Writing video /home/mohamedrostom62/ADLR/tum-adlr-ws25-16/videos/rl-video9-episode-0.mp4\n",
      "\n"
     ]
    },
    {
     "name": "stderr",
     "output_type": "stream",
     "text": [
      "                                                                       \r"
     ]
    },
    {
     "name": "stdout",
     "output_type": "stream",
     "text": [
      "MoviePy - Done !\n",
      "MoviePy - video ready /home/mohamedrostom62/ADLR/tum-adlr-ws25-16/videos/rl-video9-episode-0.mp4\n",
      "MoviePy - Building video /home/mohamedrostom62/ADLR/tum-adlr-ws25-16/videos/rl-video5-episode-0.mp4.\n",
      "MoviePy - Writing video /home/mohamedrostom62/ADLR/tum-adlr-ws25-16/videos/rl-video5-episode-0.mp4\n",
      "\n"
     ]
    },
    {
     "name": "stderr",
     "output_type": "stream",
     "text": [
      "                                                                       \r"
     ]
    },
    {
     "name": "stdout",
     "output_type": "stream",
     "text": [
      "MoviePy - Done !\n",
      "MoviePy - video ready /home/mohamedrostom62/ADLR/tum-adlr-ws25-16/videos/rl-video5-episode-0.mp4\n",
      "MoviePy - Building video /home/mohamedrostom62/ADLR/tum-adlr-ws25-16/videos/rl-video2-episode-0.mp4.\n",
      "MoviePy - Writing video /home/mohamedrostom62/ADLR/tum-adlr-ws25-16/videos/rl-video2-episode-0.mp4\n",
      "\n"
     ]
    },
    {
     "name": "stderr",
     "output_type": "stream",
     "text": [
      "                                                                       \r"
     ]
    },
    {
     "name": "stdout",
     "output_type": "stream",
     "text": [
      "MoviePy - Done !\n",
      "MoviePy - video ready /home/mohamedrostom62/ADLR/tum-adlr-ws25-16/videos/rl-video2-episode-0.mp4\n",
      "MoviePy - Building video /home/mohamedrostom62/ADLR/tum-adlr-ws25-16/videos/rl-video11-episode-0.mp4.\n",
      "MoviePy - Writing video /home/mohamedrostom62/ADLR/tum-adlr-ws25-16/videos/rl-video11-episode-0.mp4\n",
      "\n"
     ]
    },
    {
     "name": "stderr",
     "output_type": "stream",
     "text": [
      "                                                                       \r"
     ]
    },
    {
     "name": "stdout",
     "output_type": "stream",
     "text": [
      "MoviePy - Done !\n",
      "MoviePy - video ready /home/mohamedrostom62/ADLR/tum-adlr-ws25-16/videos/rl-video11-episode-0.mp4\n",
      "MoviePy - Building video /home/mohamedrostom62/ADLR/tum-adlr-ws25-16/videos/rl-video3-episode-0.mp4.\n",
      "MoviePy - Writing video /home/mohamedrostom62/ADLR/tum-adlr-ws25-16/videos/rl-video3-episode-0.mp4\n",
      "\n"
     ]
    },
    {
     "name": "stderr",
     "output_type": "stream",
     "text": [
      "                                                                       \r"
     ]
    },
    {
     "name": "stdout",
     "output_type": "stream",
     "text": [
      "MoviePy - Done !\n",
      "MoviePy - video ready /home/mohamedrostom62/ADLR/tum-adlr-ws25-16/videos/rl-video3-episode-0.mp4\n",
      "MoviePy - Building video /home/mohamedrostom62/ADLR/tum-adlr-ws25-16/videos/rl-video17-episode-0.mp4.\n",
      "MoviePy - Writing video /home/mohamedrostom62/ADLR/tum-adlr-ws25-16/videos/rl-video17-episode-0.mp4\n",
      "\n"
     ]
    },
    {
     "name": "stderr",
     "output_type": "stream",
     "text": [
      "                                                                       \r"
     ]
    },
    {
     "name": "stdout",
     "output_type": "stream",
     "text": [
      "MoviePy - Done !\n",
      "MoviePy - video ready /home/mohamedrostom62/ADLR/tum-adlr-ws25-16/videos/rl-video17-episode-0.mp4\n",
      "MoviePy - Building video /home/mohamedrostom62/ADLR/tum-adlr-ws25-16/videos/rl-video16-episode-0.mp4.\n",
      "MoviePy - Writing video /home/mohamedrostom62/ADLR/tum-adlr-ws25-16/videos/rl-video16-episode-0.mp4\n",
      "\n"
     ]
    },
    {
     "name": "stderr",
     "output_type": "stream",
     "text": [
      "                                                                        \r"
     ]
    },
    {
     "name": "stdout",
     "output_type": "stream",
     "text": [
      "MoviePy - Done !\n",
      "MoviePy - video ready /home/mohamedrostom62/ADLR/tum-adlr-ws25-16/videos/rl-video16-episode-0.mp4\n",
      "MoviePy - Building video /home/mohamedrostom62/ADLR/tum-adlr-ws25-16/videos/rl-video6-episode-0.mp4.\n",
      "MoviePy - Writing video /home/mohamedrostom62/ADLR/tum-adlr-ws25-16/videos/rl-video6-episode-0.mp4\n",
      "\n"
     ]
    },
    {
     "name": "stderr",
     "output_type": "stream",
     "text": [
      "                                                                        \r"
     ]
    },
    {
     "name": "stdout",
     "output_type": "stream",
     "text": [
      "MoviePy - Done !\n",
      "MoviePy - video ready /home/mohamedrostom62/ADLR/tum-adlr-ws25-16/videos/rl-video6-episode-0.mp4\n",
      "MoviePy - Building video /home/mohamedrostom62/ADLR/tum-adlr-ws25-16/videos/rl-video7-episode-0.mp4.\n",
      "MoviePy - Writing video /home/mohamedrostom62/ADLR/tum-adlr-ws25-16/videos/rl-video7-episode-0.mp4\n",
      "\n"
     ]
    },
    {
     "name": "stderr",
     "output_type": "stream",
     "text": [
      "                                                                        \r"
     ]
    },
    {
     "name": "stdout",
     "output_type": "stream",
     "text": [
      "MoviePy - Done !\n",
      "MoviePy - video ready /home/mohamedrostom62/ADLR/tum-adlr-ws25-16/videos/rl-video7-episode-0.mp4\n",
      "MoviePy - Building video /home/mohamedrostom62/ADLR/tum-adlr-ws25-16/videos/rl-video19-episode-0.mp4.\n",
      "MoviePy - Writing video /home/mohamedrostom62/ADLR/tum-adlr-ws25-16/videos/rl-video19-episode-0.mp4\n",
      "\n"
     ]
    },
    {
     "name": "stderr",
     "output_type": "stream",
     "text": [
      "                                                                        \r"
     ]
    },
    {
     "name": "stdout",
     "output_type": "stream",
     "text": [
      "MoviePy - Done !\n",
      "MoviePy - video ready /home/mohamedrostom62/ADLR/tum-adlr-ws25-16/videos/rl-video19-episode-0.mp4\n",
      "MoviePy - Building video /home/mohamedrostom62/ADLR/tum-adlr-ws25-16/videos/rl-video13-episode-1.mp4.\n",
      "MoviePy - Writing video /home/mohamedrostom62/ADLR/tum-adlr-ws25-16/videos/rl-video13-episode-1.mp4\n",
      "\n"
     ]
    },
    {
     "name": "stderr",
     "output_type": "stream",
     "text": [
      "                                                                       "
     ]
    },
    {
     "name": "stdout",
     "output_type": "stream",
     "text": [
      "MoviePy - Done !\n",
      "MoviePy - video ready /home/mohamedrostom62/ADLR/tum-adlr-ws25-16/videos/rl-video13-episode-1.mp4\n"
     ]
    },
    {
     "name": "stderr",
     "output_type": "stream",
     "text": [
      "\r"
     ]
    },
    {
     "name": "stdout",
     "output_type": "stream",
     "text": [
      "MoviePy - Building video /home/mohamedrostom62/ADLR/tum-adlr-ws25-16/videos/rl-video12-episode-1.mp4.\n",
      "MoviePy - Writing video /home/mohamedrostom62/ADLR/tum-adlr-ws25-16/videos/rl-video12-episode-1.mp4\n",
      "\n"
     ]
    },
    {
     "name": "stderr",
     "output_type": "stream",
     "text": [
      "                                                                       "
     ]
    },
    {
     "name": "stdout",
     "output_type": "stream",
     "text": [
      "MoviePy - Done !\n",
      "MoviePy - video ready /home/mohamedrostom62/ADLR/tum-adlr-ws25-16/videos/rl-video12-episode-1.mp4\n"
     ]
    },
    {
     "name": "stderr",
     "output_type": "stream",
     "text": [
      "\r"
     ]
    },
    {
     "name": "stdout",
     "output_type": "stream",
     "text": [
      "MoviePy - Building video /home/mohamedrostom62/ADLR/tum-adlr-ws25-16/videos/rl-video0-episode-0.mp4.\n",
      "MoviePy - Writing video /home/mohamedrostom62/ADLR/tum-adlr-ws25-16/videos/rl-video0-episode-0.mp4\n",
      "\n"
     ]
    },
    {
     "name": "stderr",
     "output_type": "stream",
     "text": [
      "\u001b[34m\u001b[1mwandb\u001b[0m: \u001b[33mWARNING\u001b[0m `fps` argument does not affect the frame rate of the video when providing a file path or raw bytes.\n"
     ]
    },
    {
     "name": "stdout",
     "output_type": "stream",
     "text": [
      "MoviePy - Done !\n",
      "MoviePy - video ready /home/mohamedrostom62/ADLR/tum-adlr-ws25-16/videos/rl-video0-episode-0.mp4\n"
     ]
    },
    {
     "data": {
      "text/html": [
       "\n",
       "    <style>\n",
       "        .wandb-row {\n",
       "            display: flex;\n",
       "            flex-direction: row;\n",
       "            flex-wrap: wrap;\n",
       "            justify-content: flex-start;\n",
       "            width: 100%;\n",
       "        }\n",
       "        .wandb-col {\n",
       "            display: flex;\n",
       "            flex-direction: column;\n",
       "            flex-basis: 100%;\n",
       "            flex: 1;\n",
       "            padding: 10px;\n",
       "        }\n",
       "    </style>\n",
       "<div class=\"wandb-row\"><div class=\"wandb-col\"><h3>Run history:</h3><br/><table class=\"wandb\"><tr><td>actor_learning_rate</td><td>▁▁</td></tr><tr><td>adp_learning_rate</td><td>▁</td></tr><tr><td>average_actor_loss</td><td>█▁</td></tr><tr><td>average_adapt_loss</td><td>▁</td></tr><tr><td>average_critic_loss</td><td>█▁</td></tr><tr><td>average_episode_rewards</td><td>▁█</td></tr><tr><td>critic_learning_rate</td><td>▁▁</td></tr><tr><td>maximum_validation_reward</td><td>▁</td></tr><tr><td>simulated_iterations</td><td>▁█▁</td></tr><tr><td>validation_duration</td><td>▁</td></tr><tr><td>validation_rewards</td><td>▁</td></tr></table><br/></div><div class=\"wandb-col\"><h3>Run summary:</h3><br/><table class=\"wandb\"><tr><td>actor_learning_rate</td><td>0.005</td></tr><tr><td>adp_learning_rate</td><td>0.005</td></tr><tr><td>average_actor_loss</td><td>-0.21258</td></tr><tr><td>average_adapt_loss</td><td>27.28223</td></tr><tr><td>average_critic_loss</td><td>1499.25918</td></tr><tr><td>average_episode_rewards</td><td>-203.72722</td></tr><tr><td>critic_learning_rate</td><td>0.0075</td></tr><tr><td>iteration_compute</td><td>2.51</td></tr><tr><td>maximum_validation_reward</td><td>0</td></tr><tr><td>simulated_iterations</td><td>1</td></tr><tr><td>validation_duration</td><td>83.4</td></tr><tr><td>validation_rewards</td><td>-322.77214</td></tr></table><br/></div></div>"
      ],
      "text/plain": [
       "<IPython.core.display.HTML object>"
      ]
     },
     "metadata": {},
     "output_type": "display_data"
    },
    {
     "data": {
      "text/html": [
       " View run <strong style=\"color:#cdcd00\">sleek-sweep-4</strong> at: <a href='https://wandb.ai/pmsaraiva2712-tum/lunar/runs/cj89uwxo' target=\"_blank\">https://wandb.ai/pmsaraiva2712-tum/lunar/runs/cj89uwxo</a><br/> View project at: <a href='https://wandb.ai/pmsaraiva2712-tum/lunar' target=\"_blank\">https://wandb.ai/pmsaraiva2712-tum/lunar</a><br/>Synced 5 W&B file(s), 0 media file(s), 0 artifact file(s) and 1 other file(s)"
      ],
      "text/plain": [
       "<IPython.core.display.HTML object>"
      ]
     },
     "metadata": {},
     "output_type": "display_data"
    },
    {
     "data": {
      "text/html": [
       "Find logs at: <code>./wandb/run-20241216_230738-cj89uwxo/logs</code>"
      ],
      "text/plain": [
       "<IPython.core.display.HTML object>"
      ]
     },
     "metadata": {},
     "output_type": "display_data"
    },
    {
     "name": "stderr",
     "output_type": "stream",
     "text": [
      "\u001b[34m\u001b[1mwandb\u001b[0m: Ctrl + C detected. Stopping sweep.\n"
     ]
    }
   ],
   "source": [
    "sweep_id = wandb.sweep(sweep_config, project=\"lunar\")\n",
    "wandb.agent(sweep_id, function=train_model, count=MAX_RUN_COUNT)"
   ]
  },
  {
   "cell_type": "code",
   "execution_count": null,
   "metadata": {},
   "outputs": [
    {
     "name": "stdout",
     "output_type": "stream",
     "text": [
      "Best Hyperparameters: {'lam': 0.9821062547914114, 'gamma': 0.913815261726064, 'adp_lr': 0.08626140546523067, 'batches': 516, 'actor_lr': 0.034561042911770035, 'num_envs': 59, 'anneal_lr': True, 'critic_lr': 0.002892075552063189, 'num_steps': 2000, 'adp_num_steps': 910, 'max_grad_norm': 1.084814579512531, 'anneal_discount': 50, 'n_updates_per_iteration': 20}\n",
      "Best Metrics: {'_runtime': 2934.173429823, '_step': 303, '_timestamp': 1734325500.5551257, '_wandb': {'runtime': 2934}, 'actor_learning_rate': 0.005, 'adp_learning_rate': 0.005, 'average_actor_loss': -0.21090720078392097, 'average_adapt_loss': 4.623626652312884, 'average_critic_loss': 64.72636713956297, 'average_episode_rewards': 186.6697540283203, 'critic_learning_rate': 0.0075, 'iteration_compute': '12.23', 'simulated_iterations': 84, 'val_durs': 901, 'val_rews': 155.49781812688917}\n"
     ]
    }
   ],
   "source": [
    "api = wandb.Api()\n",
    "\n",
    "# Fetch the sweep object\n",
    "sweep = api.sweep(f\"pmsaraiva2712-tum/lunar/{sweep_id}\")\n",
    "\n",
    "# Fetch all runs from the sweep\n",
    "runs = sweep.runs\n",
    "\n",
    "# Sort runs by the metric you are optimizing for, e.g., 'val_loss'\n",
    "best_run = sorted(runs, key=lambda run: run.summary.get('val_rewards', float('-inf')), reverse=True)[0]\n",
    "\n",
    "# Extract best hyperparameters and metrics\n",
    "best_params = best_run.config\n",
    "best_metrics = best_run.summary\n",
    "\n",
    "# Print the best hyperparameters and metrics\n",
    "print(\"Best Hyperparameters:\", best_params)\n",
    "print(\"Best Metrics:\", best_metrics)"
   ]
  }
 ],
 "metadata": {
  "kernelspec": {
   "display_name": ".venv",
   "language": "python",
   "name": "python3"
  },
  "language_info": {
   "codemirror_mode": {
    "name": "ipython",
    "version": 3
   },
   "file_extension": ".py",
   "mimetype": "text/x-python",
   "name": "python",
   "nbconvert_exporter": "python",
   "pygments_lexer": "ipython3",
   "version": "3.11.2"
  }
 },
 "nbformat": 4,
 "nbformat_minor": 4
}
