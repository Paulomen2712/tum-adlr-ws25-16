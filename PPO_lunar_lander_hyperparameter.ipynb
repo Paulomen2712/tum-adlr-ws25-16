{
 "cells": [
  {
   "cell_type": "markdown",
   "metadata": {},
   "source": [
    "# PPO\n",
    "---\n",
    "\n",
    "### 1. Import the Necessary Packages"
   ]
  },
  {
   "cell_type": "code",
   "execution_count": 1,
   "metadata": {},
   "outputs": [],
   "source": [
    "%matplotlib inline\n",
    "import wandb\n",
    "\n",
    "from model.ppo_2 import PPO\n",
    "from env.wrappers import LunarContinuous, LunarLanderWithUnknownWind,LunarLanderWithKnownWind\n",
    "from utils.logger import WandbSummaryWritter"
   ]
  },
  {
   "cell_type": "markdown",
   "metadata": {},
   "source": [
    "### 2. Instantiate the Model"
   ]
  },
  {
   "cell_type": "markdown",
   "metadata": {},
   "source": [
    "Setup the hyperparameters in the code cell below."
   ]
  },
  {
   "cell_type": "code",
   "execution_count": 2,
   "metadata": {},
   "outputs": [],
   "source": [
    "misc_hyperparameters = {\n",
    "    'save_freq': 0 ,  \n",
    "    'val_freq': 10,\n",
    "    'val_iter': 10,\n",
    "    'env': LunarLanderWithKnownWind\n",
    "}"
   ]
  },
  {
   "cell_type": "markdown",
   "metadata": {},
   "source": [
    "Initialise wandb session in the code cell below."
   ]
  },
  {
   "cell_type": "code",
   "execution_count": 3,
   "metadata": {},
   "outputs": [],
   "source": [
    "MAX_TOTAL_TIMESTEPS_TO_TRAIN = 500\n",
    "VAL_ITER = 20\n",
    "MAX_RUN_COUNT = 30\n",
    "sweep_config = {\n",
    "    'method': 'bayes', \n",
    "    'metric': {\n",
    "        'name': 'validation_rewards',\n",
    "        'goal': 'maximize'\n",
    "    },\n",
    "    'parameters': {\n",
    "        'actor_lr': {\n",
    "            \"distribution\": \"uniform\",\n",
    "            \"min\": 1e-5,\n",
    "            \"max\": 0.1\n",
    "        },\n",
    "        'critic_lr': {\n",
    "            \"distribution\": \"uniform\",\n",
    "            \"min\": 1e-5,\n",
    "            \"max\": 0.1\n",
    "        },\n",
    "        'adp_lr': {\n",
    "            \"distribution\": \"uniform\",\n",
    "            \"min\": 1e-5,\n",
    "            \"max\": 0.1\n",
    "        },\n",
    "        'gamma': {\n",
    "            'min': 0.9,\n",
    "            'max': 1.\n",
    "        },\n",
    "        'lam': {\n",
    "            'min': 0.9,\n",
    "            'max': 1.\n",
    "        },\n",
    "        'max_grad_norm': {\n",
    "            \"min\": 0.1,\n",
    "            \"max\": 10., \n",
    "        },\n",
    "        'n_updates_per_iteration': {\n",
    "            'values': list(range(1, 21))\n",
    "        },\n",
    "        'num_envs': {\n",
    "            'values': list(range(1, 200))\n",
    "        },\n",
    "        'anneal_lr': {\n",
    "            'values': [True, False]\n",
    "        },\n",
    "        'num_steps': {\n",
    "            'distribution': 'q_uniform',\n",
    "            'min': 300,\n",
    "            'max': 1500,\n",
    "            'q': 100\n",
    "        },\n",
    "        'adp_num_steps': {\n",
    "            'distribution': 'q_uniform',\n",
    "            'min': 200,\n",
    "            'max': 1000,\n",
    "            'q': 10\n",
    "        },\n",
    "        'anneal_discount': {\n",
    "            'distribution': 'q_uniform',\n",
    "            'min': 1,\n",
    "            'max': 1000,\n",
    "            'q': 10\n",
    "        },\n",
    "        'batches': {\n",
    "            'distribution': 'q_uniform',\n",
    "            \"min\": 1,     # 2^0\n",
    "            \"max\": 1024,  # 2^10\n",
    "            \"q\": 2 \n",
    "        }\n",
    "    }\n",
    "}"
   ]
  },
  {
   "cell_type": "code",
   "execution_count": 4,
   "metadata": {},
   "outputs": [],
   "source": [
    "def train_model(config = None):\n",
    "    logger = WandbSummaryWritter(project='lunar', config =config)\n",
    "    ppo = ppo = PPO(logger,**misc_hyperparameters) if config is None else PPO(summary_writter=logger, **config, **misc_hyperparameters)\n",
    "    ppo.train()\n",
    "\n",
    "    val_rews, val_dur = ppo.validate(VAL_ITER, True, True)\n",
    "    ppo.env.close()\n",
    "    wandb.log({\n",
    "        \"validation_rewards\": val_rews,\n",
    "        \"validation_duration\": val_dur\n",
    "        # \"max_reward_video\": wandb.Video(f\"videos\\\\rl-video-episode-{np.argmax(val_rews)}.mp4\", fps=4, format=\"mp4\")\n",
    "    })"
   ]
  },
  {
   "cell_type": "markdown",
   "metadata": {},
   "source": [
    "Initialise the model fo the desired timestamps. Alternatively can specify a checkpoint to continue training."
   ]
  },
  {
   "cell_type": "code",
   "execution_count": null,
   "metadata": {},
   "outputs": [
    {
     "name": "stderr",
     "output_type": "stream",
     "text": [
      "\u001b[34m\u001b[1mwandb\u001b[0m: Using wandb-core as the SDK backend.  Please refer to https://wandb.me/wandb-core for more information.\n"
     ]
    },
    {
     "name": "stdout",
     "output_type": "stream",
     "text": [
      "Create sweep with ID: 13u9gqns\n",
      "Sweep URL: https://wandb.ai/pmsaraiva2712-tum/lunar/sweeps/13u9gqns\n"
     ]
    },
    {
     "name": "stderr",
     "output_type": "stream",
     "text": [
      "\u001b[34m\u001b[1mwandb\u001b[0m: Agent Starting Run: qe2m2ooh with config:\n",
      "\u001b[34m\u001b[1mwandb\u001b[0m: \tactor_lr: 0.08383349737953438\n",
      "\u001b[34m\u001b[1mwandb\u001b[0m: \tadp_lr: 0.08241424225906509\n",
      "\u001b[34m\u001b[1mwandb\u001b[0m: \tadp_num_steps: 930\n",
      "\u001b[34m\u001b[1mwandb\u001b[0m: \tanneal_discount: 740\n",
      "\u001b[34m\u001b[1mwandb\u001b[0m: \tanneal_lr: False\n",
      "\u001b[34m\u001b[1mwandb\u001b[0m: \tbatches: 72\n",
      "\u001b[34m\u001b[1mwandb\u001b[0m: \tcritic_lr: 0.015833762392584806\n",
      "\u001b[34m\u001b[1mwandb\u001b[0m: \tgamma: 0.9007168266877504\n",
      "\u001b[34m\u001b[1mwandb\u001b[0m: \tlam: 0.9684143868246466\n",
      "\u001b[34m\u001b[1mwandb\u001b[0m: \tmax_grad_norm: 8.605457036937478\n",
      "\u001b[34m\u001b[1mwandb\u001b[0m: \tn_updates_per_iteration: 15\n",
      "\u001b[34m\u001b[1mwandb\u001b[0m: \tnum_envs: 71\n",
      "\u001b[34m\u001b[1mwandb\u001b[0m: \tnum_steps: 1600\n",
      "\u001b[34m\u001b[1mwandb\u001b[0m: Currently logged in as: \u001b[33mpmsaraiva2712\u001b[0m (\u001b[33mpmsaraiva2712-tum\u001b[0m). Use \u001b[1m`wandb login --relogin`\u001b[0m to force relogin\n",
      "\u001b[34m\u001b[1mwandb\u001b[0m: \u001b[33mWARNING\u001b[0m Ignored wandb.init() arg project when running a sweep.\n"
     ]
    },
    {
     "data": {
      "text/html": [
       "Tracking run with wandb version 0.18.7"
      ],
      "text/plain": [
       "<IPython.core.display.HTML object>"
      ]
     },
     "metadata": {},
     "output_type": "display_data"
    },
    {
     "data": {
      "text/html": [
       "Run data is saved locally in <code>c:\\Users\\pmsar\\git\\tum-adlr-ws25-16\\wandb\\run-20241216_102010-qe2m2ooh</code>"
      ],
      "text/plain": [
       "<IPython.core.display.HTML object>"
      ]
     },
     "metadata": {},
     "output_type": "display_data"
    },
    {
     "data": {
      "text/html": [
       "Syncing run <strong><a href='https://wandb.ai/pmsaraiva2712-tum/lunar/runs/qe2m2ooh' target=\"_blank\">hearty-sweep-1</a></strong> to <a href='https://wandb.ai/pmsaraiva2712-tum/lunar' target=\"_blank\">Weights & Biases</a> (<a href='https://wandb.me/developer-guide' target=\"_blank\">docs</a>)<br/>Sweep page: <a href='https://wandb.ai/pmsaraiva2712-tum/lunar/sweeps/13u9gqns' target=\"_blank\">https://wandb.ai/pmsaraiva2712-tum/lunar/sweeps/13u9gqns</a>"
      ],
      "text/plain": [
       "<IPython.core.display.HTML object>"
      ]
     },
     "metadata": {},
     "output_type": "display_data"
    },
    {
     "data": {
      "text/html": [
       " View project at <a href='https://wandb.ai/pmsaraiva2712-tum/lunar' target=\"_blank\">https://wandb.ai/pmsaraiva2712-tum/lunar</a>"
      ],
      "text/plain": [
       "<IPython.core.display.HTML object>"
      ]
     },
     "metadata": {},
     "output_type": "display_data"
    },
    {
     "data": {
      "text/html": [
       " View sweep at <a href='https://wandb.ai/pmsaraiva2712-tum/lunar/sweeps/13u9gqns' target=\"_blank\">https://wandb.ai/pmsaraiva2712-tum/lunar/sweeps/13u9gqns</a>"
      ],
      "text/plain": [
       "<IPython.core.display.HTML object>"
      ]
     },
     "metadata": {},
     "output_type": "display_data"
    },
    {
     "data": {
      "text/html": [
       " View run at <a href='https://wandb.ai/pmsaraiva2712-tum/lunar/runs/qe2m2ooh' target=\"_blank\">https://wandb.ai/pmsaraiva2712-tum/lunar/runs/qe2m2ooh</a>"
      ],
      "text/plain": [
       "<IPython.core.display.HTML object>"
      ]
     },
     "metadata": {},
     "output_type": "display_data"
    },
    {
     "name": "stdout",
     "output_type": "stream",
     "text": [
      "\n",
      "-------------------- Iteration #1 --------------------\n",
      "Average Episodic Return: -261.65\n",
      "Average Actor Loss: -0.20565\n",
      "Average Critic Loss: 1944.5666525033805\n",
      "Average KL Divergence: 0.010875932283950254\n",
      "Iteration took: 10.99 secs, of which rollout took 8.97 secs and gradient updates took 2.01 secs\n",
      "Current actor learning rate: 0.005\n",
      "Current critic learning rate: 0.0075\n",
      "------------------------------------------------------\n",
      "\n",
      "\n",
      "-------------------- Iteration #2 --------------------\n",
      "Average Episodic Return: -256.82\n",
      "Average Actor Loss: -0.21023\n",
      "Average Critic Loss: 1361.0319314809947\n",
      "Average KL Divergence: 0.009142016275514975\n",
      "Iteration took: 11.84 secs, of which rollout took 9.99 secs and gradient updates took 1.83 secs\n",
      "Current actor learning rate: 0.005\n",
      "Current critic learning rate: 0.0075\n",
      "------------------------------------------------------\n",
      "\n",
      "\n",
      "-------------------- Iteration #1 --------------------\n",
      "Average adp Loss: 2.66335\n",
      "Iteration took: 208.82 secs, of which rollout took 7.69 secs and gradient updates took 201.12 secs\n",
      "Current adp learning rate: 0.005\n",
      "------------------------------------------------------\n",
      "\n"
     ]
    },
    {
     "name": "stderr",
     "output_type": "stream",
     "text": [
      "c:\\Users\\pmsar\\.conda\\envs\\adlr\\lib\\site-packages\\gym\\wrappers\\record_video.py:75: UserWarning: \u001b[33mWARN: Overwriting existing videos at c:\\Users\\pmsar\\git\\tum-adlr-ws25-16\\videos folder (try specifying a different `video_folder` for the `RecordVideo` wrapper if this is not desired)\u001b[0m\n",
      "  logger.warn(\n"
     ]
    },
    {
     "name": "stdout",
     "output_type": "stream",
     "text": [
      "MoviePy - Building video c:\\Users\\pmsar\\git\\tum-adlr-ws25-16\\videos\\rl-video6-episode-0.mp4.\n",
      "MoviePy - Writing video c:\\Users\\pmsar\\git\\tum-adlr-ws25-16\\videos\\rl-video6-episode-0.mp4\n",
      "\n"
     ]
    },
    {
     "name": "stderr",
     "output_type": "stream",
     "text": [
      "                                                                       "
     ]
    },
    {
     "name": "stdout",
     "output_type": "stream",
     "text": [
      "MoviePy - Done !\n",
      "MoviePy - video ready c:\\Users\\pmsar\\git\\tum-adlr-ws25-16\\videos\\rl-video6-episode-0.mp4\n"
     ]
    },
    {
     "name": "stderr",
     "output_type": "stream",
     "text": [
      "\r"
     ]
    },
    {
     "name": "stdout",
     "output_type": "stream",
     "text": [
      "MoviePy - Building video c:\\Users\\pmsar\\git\\tum-adlr-ws25-16\\videos\\rl-video3-episode-0.mp4.\n",
      "MoviePy - Writing video c:\\Users\\pmsar\\git\\tum-adlr-ws25-16\\videos\\rl-video3-episode-0.mp4\n",
      "\n"
     ]
    },
    {
     "name": "stderr",
     "output_type": "stream",
     "text": [
      "                                                                       "
     ]
    },
    {
     "name": "stdout",
     "output_type": "stream",
     "text": [
      "MoviePy - Done !\n",
      "MoviePy - video ready c:\\Users\\pmsar\\git\\tum-adlr-ws25-16\\videos\\rl-video3-episode-0.mp4\n"
     ]
    },
    {
     "name": "stderr",
     "output_type": "stream",
     "text": [
      "\r"
     ]
    },
    {
     "name": "stdout",
     "output_type": "stream",
     "text": [
      "MoviePy - Building video c:\\Users\\pmsar\\git\\tum-adlr-ws25-16\\videos\\rl-video9-episode-0.mp4.\n",
      "MoviePy - Writing video c:\\Users\\pmsar\\git\\tum-adlr-ws25-16\\videos\\rl-video9-episode-0.mp4\n",
      "\n"
     ]
    },
    {
     "name": "stderr",
     "output_type": "stream",
     "text": [
      "                                                                       "
     ]
    },
    {
     "name": "stdout",
     "output_type": "stream",
     "text": [
      "MoviePy - Done !"
     ]
    },
    {
     "name": "stderr",
     "output_type": "stream",
     "text": [
      "\r"
     ]
    },
    {
     "name": "stdout",
     "output_type": "stream",
     "text": [
      "\n",
      "MoviePy - video ready c:\\Users\\pmsar\\git\\tum-adlr-ws25-16\\videos\\rl-video9-episode-0.mp4\n",
      "MoviePy - Building video c:\\Users\\pmsar\\git\\tum-adlr-ws25-16\\videos\\rl-video12-episode-0.mp4.\n",
      "MoviePy - Writing video c:\\Users\\pmsar\\git\\tum-adlr-ws25-16\\videos\\rl-video12-episode-0.mp4\n",
      "\n"
     ]
    },
    {
     "name": "stderr",
     "output_type": "stream",
     "text": [
      "                                                                       "
     ]
    },
    {
     "name": "stdout",
     "output_type": "stream",
     "text": [
      "MoviePy - Done !"
     ]
    },
    {
     "name": "stderr",
     "output_type": "stream",
     "text": [
      "\r"
     ]
    },
    {
     "name": "stdout",
     "output_type": "stream",
     "text": [
      "\n",
      "MoviePy - video ready c:\\Users\\pmsar\\git\\tum-adlr-ws25-16\\videos\\rl-video12-episode-0.mp4\n",
      "MoviePy - Building video c:\\Users\\pmsar\\git\\tum-adlr-ws25-16\\videos\\rl-video4-episode-0.mp4.\n",
      "MoviePy - Writing video c:\\Users\\pmsar\\git\\tum-adlr-ws25-16\\videos\\rl-video4-episode-0.mp4\n",
      "\n"
     ]
    },
    {
     "name": "stderr",
     "output_type": "stream",
     "text": [
      "                                                                       "
     ]
    },
    {
     "name": "stdout",
     "output_type": "stream",
     "text": [
      "MoviePy - Done !"
     ]
    },
    {
     "name": "stderr",
     "output_type": "stream",
     "text": [
      "\r"
     ]
    },
    {
     "name": "stdout",
     "output_type": "stream",
     "text": [
      "\n",
      "MoviePy - video ready c:\\Users\\pmsar\\git\\tum-adlr-ws25-16\\videos\\rl-video4-episode-0.mp4\n",
      "MoviePy - Building video c:\\Users\\pmsar\\git\\tum-adlr-ws25-16\\videos\\rl-video19-episode-0.mp4.\n",
      "MoviePy - Writing video c:\\Users\\pmsar\\git\\tum-adlr-ws25-16\\videos\\rl-video19-episode-0.mp4\n",
      "\n"
     ]
    },
    {
     "name": "stderr",
     "output_type": "stream",
     "text": [
      "                                                                       \r"
     ]
    },
    {
     "name": "stdout",
     "output_type": "stream",
     "text": [
      "MoviePy - Done !\n",
      "MoviePy - video ready c:\\Users\\pmsar\\git\\tum-adlr-ws25-16\\videos\\rl-video19-episode-0.mp4\n",
      "MoviePy - Building video c:\\Users\\pmsar\\git\\tum-adlr-ws25-16\\videos\\rl-video11-episode-0.mp4.\n",
      "MoviePy - Writing video c:\\Users\\pmsar\\git\\tum-adlr-ws25-16\\videos\\rl-video11-episode-0.mp4\n",
      "\n"
     ]
    },
    {
     "name": "stderr",
     "output_type": "stream",
     "text": [
      "                                                                       \r"
     ]
    },
    {
     "name": "stdout",
     "output_type": "stream",
     "text": [
      "MoviePy - Done !\n",
      "MoviePy - video ready c:\\Users\\pmsar\\git\\tum-adlr-ws25-16\\videos\\rl-video11-episode-0.mp4\n",
      "MoviePy - Building video c:\\Users\\pmsar\\git\\tum-adlr-ws25-16\\videos\\rl-video2-episode-0.mp4.\n",
      "MoviePy - Writing video c:\\Users\\pmsar\\git\\tum-adlr-ws25-16\\videos\\rl-video2-episode-0.mp4\n",
      "\n"
     ]
    },
    {
     "name": "stderr",
     "output_type": "stream",
     "text": [
      "                                                                       \r"
     ]
    },
    {
     "name": "stdout",
     "output_type": "stream",
     "text": [
      "MoviePy - Done !\n",
      "MoviePy - video ready c:\\Users\\pmsar\\git\\tum-adlr-ws25-16\\videos\\rl-video2-episode-0.mp4\n",
      "MoviePy - Building video c:\\Users\\pmsar\\git\\tum-adlr-ws25-16\\videos\\rl-video13-episode-0.mp4.\n",
      "MoviePy - Writing video c:\\Users\\pmsar\\git\\tum-adlr-ws25-16\\videos\\rl-video13-episode-0.mp4\n",
      "\n"
     ]
    },
    {
     "name": "stderr",
     "output_type": "stream",
     "text": [
      "                                                                        \r"
     ]
    },
    {
     "name": "stdout",
     "output_type": "stream",
     "text": [
      "MoviePy - Done !\n",
      "MoviePy - video ready c:\\Users\\pmsar\\git\\tum-adlr-ws25-16\\videos\\rl-video13-episode-0.mp4\n",
      "MoviePy - Building video c:\\Users\\pmsar\\git\\tum-adlr-ws25-16\\videos\\rl-video8-episode-0.mp4.\n",
      "MoviePy - Writing video c:\\Users\\pmsar\\git\\tum-adlr-ws25-16\\videos\\rl-video8-episode-0.mp4\n",
      "\n"
     ]
    },
    {
     "name": "stderr",
     "output_type": "stream",
     "text": [
      "                                                                        \r"
     ]
    },
    {
     "name": "stdout",
     "output_type": "stream",
     "text": [
      "MoviePy - Done !\n",
      "MoviePy - video ready c:\\Users\\pmsar\\git\\tum-adlr-ws25-16\\videos\\rl-video8-episode-0.mp4\n",
      "MoviePy - Building video c:\\Users\\pmsar\\git\\tum-adlr-ws25-16\\videos\\rl-video14-episode-0.mp4.\n",
      "MoviePy - Writing video c:\\Users\\pmsar\\git\\tum-adlr-ws25-16\\videos\\rl-video14-episode-0.mp4\n",
      "\n"
     ]
    },
    {
     "name": "stderr",
     "output_type": "stream",
     "text": [
      "                                                                        \r"
     ]
    },
    {
     "name": "stdout",
     "output_type": "stream",
     "text": [
      "MoviePy - Done !\n",
      "MoviePy - video ready c:\\Users\\pmsar\\git\\tum-adlr-ws25-16\\videos\\rl-video14-episode-0.mp4\n",
      "MoviePy - Building video c:\\Users\\pmsar\\git\\tum-adlr-ws25-16\\videos\\rl-video7-episode-0.mp4.\n",
      "MoviePy - Writing video c:\\Users\\pmsar\\git\\tum-adlr-ws25-16\\videos\\rl-video7-episode-0.mp4\n",
      "\n"
     ]
    },
    {
     "name": "stderr",
     "output_type": "stream",
     "text": [
      "                                                                        \r"
     ]
    },
    {
     "name": "stdout",
     "output_type": "stream",
     "text": [
      "MoviePy - Done !\n",
      "MoviePy - video ready c:\\Users\\pmsar\\git\\tum-adlr-ws25-16\\videos\\rl-video7-episode-0.mp4\n",
      "MoviePy - Building video c:\\Users\\pmsar\\git\\tum-adlr-ws25-16\\videos\\rl-video17-episode-0.mp4.\n",
      "MoviePy - Writing video c:\\Users\\pmsar\\git\\tum-adlr-ws25-16\\videos\\rl-video17-episode-0.mp4\n",
      "\n"
     ]
    },
    {
     "name": "stderr",
     "output_type": "stream",
     "text": [
      "                                                                        \r"
     ]
    },
    {
     "name": "stdout",
     "output_type": "stream",
     "text": [
      "MoviePy - Done !\n",
      "MoviePy - video ready c:\\Users\\pmsar\\git\\tum-adlr-ws25-16\\videos\\rl-video17-episode-0.mp4\n",
      "MoviePy - Building video c:\\Users\\pmsar\\git\\tum-adlr-ws25-16\\videos\\rl-video16-episode-0.mp4.\n",
      "MoviePy - Writing video c:\\Users\\pmsar\\git\\tum-adlr-ws25-16\\videos\\rl-video16-episode-0.mp4\n",
      "\n"
     ]
    },
    {
     "name": "stderr",
     "output_type": "stream",
     "text": [
      "                                                                        \r"
     ]
    },
    {
     "name": "stdout",
     "output_type": "stream",
     "text": [
      "MoviePy - Done !\n",
      "MoviePy - video ready c:\\Users\\pmsar\\git\\tum-adlr-ws25-16\\videos\\rl-video16-episode-0.mp4\n",
      "MoviePy - Building video c:\\Users\\pmsar\\git\\tum-adlr-ws25-16\\videos\\rl-video10-episode-0.mp4.\n",
      "MoviePy - Writing video c:\\Users\\pmsar\\git\\tum-adlr-ws25-16\\videos\\rl-video10-episode-0.mp4\n",
      "\n"
     ]
    },
    {
     "name": "stderr",
     "output_type": "stream",
     "text": [
      "                                                                        \r"
     ]
    },
    {
     "name": "stdout",
     "output_type": "stream",
     "text": [
      "MoviePy - Done !\n",
      "MoviePy - video ready c:\\Users\\pmsar\\git\\tum-adlr-ws25-16\\videos\\rl-video10-episode-0.mp4\n",
      "MoviePy - Building video c:\\Users\\pmsar\\git\\tum-adlr-ws25-16\\videos\\rl-video1-episode-0.mp4.\n",
      "MoviePy - Writing video c:\\Users\\pmsar\\git\\tum-adlr-ws25-16\\videos\\rl-video1-episode-0.mp4\n",
      "\n"
     ]
    },
    {
     "name": "stderr",
     "output_type": "stream",
     "text": [
      "                                                                        \r"
     ]
    },
    {
     "name": "stdout",
     "output_type": "stream",
     "text": [
      "MoviePy - Done !\n",
      "MoviePy - video ready c:\\Users\\pmsar\\git\\tum-adlr-ws25-16\\videos\\rl-video1-episode-0.mp4\n",
      "MoviePy - Building video c:\\Users\\pmsar\\git\\tum-adlr-ws25-16\\videos\\rl-video5-episode-0.mp4.\n",
      "MoviePy - Writing video c:\\Users\\pmsar\\git\\tum-adlr-ws25-16\\videos\\rl-video5-episode-0.mp4\n",
      "\n"
     ]
    },
    {
     "name": "stderr",
     "output_type": "stream",
     "text": [
      "                                                                        \r"
     ]
    },
    {
     "name": "stdout",
     "output_type": "stream",
     "text": [
      "MoviePy - Done !\n",
      "MoviePy - video ready c:\\Users\\pmsar\\git\\tum-adlr-ws25-16\\videos\\rl-video5-episode-0.mp4\n",
      "MoviePy - Building video c:\\Users\\pmsar\\git\\tum-adlr-ws25-16\\videos\\rl-video18-episode-0.mp4.\n",
      "MoviePy - Writing video c:\\Users\\pmsar\\git\\tum-adlr-ws25-16\\videos\\rl-video18-episode-0.mp4\n",
      "\n"
     ]
    },
    {
     "name": "stderr",
     "output_type": "stream",
     "text": [
      "                                                                         \r"
     ]
    },
    {
     "name": "stdout",
     "output_type": "stream",
     "text": [
      "MoviePy - Done !\n",
      "MoviePy - video ready c:\\Users\\pmsar\\git\\tum-adlr-ws25-16\\videos\\rl-video18-episode-0.mp4\n",
      "MoviePy - Building video c:\\Users\\pmsar\\git\\tum-adlr-ws25-16\\videos\\rl-video15-episode-0.mp4.\n",
      "MoviePy - Writing video c:\\Users\\pmsar\\git\\tum-adlr-ws25-16\\videos\\rl-video15-episode-0.mp4\n",
      "\n"
     ]
    },
    {
     "name": "stderr",
     "output_type": "stream",
     "text": [
      "                                                                         \r"
     ]
    },
    {
     "name": "stdout",
     "output_type": "stream",
     "text": [
      "MoviePy - Done !\n",
      "MoviePy - video ready c:\\Users\\pmsar\\git\\tum-adlr-ws25-16\\videos\\rl-video15-episode-0.mp4\n",
      "MoviePy - Building video c:\\Users\\pmsar\\git\\tum-adlr-ws25-16\\videos\\rl-video0-episode-0.mp4.\n",
      "MoviePy - Writing video c:\\Users\\pmsar\\git\\tum-adlr-ws25-16\\videos\\rl-video0-episode-0.mp4\n",
      "\n"
     ]
    },
    {
     "name": "stderr",
     "output_type": "stream",
     "text": [
      "                                                                        \r"
     ]
    },
    {
     "name": "stdout",
     "output_type": "stream",
     "text": [
      "MoviePy - Done !\n",
      "MoviePy - video ready c:\\Users\\pmsar\\git\\tum-adlr-ws25-16\\videos\\rl-video0-episode-0.mp4\n"
     ]
    },
    {
     "data": {
      "text/html": [
       "\n",
       "    <style>\n",
       "        .wandb-row {\n",
       "            display: flex;\n",
       "            flex-direction: row;\n",
       "            flex-wrap: wrap;\n",
       "            justify-content: flex-start;\n",
       "            width: 100%;\n",
       "        }\n",
       "        .wandb-col {\n",
       "            display: flex;\n",
       "            flex-direction: column;\n",
       "            flex-basis: 100%;\n",
       "            flex: 1;\n",
       "            padding: 10px;\n",
       "        }\n",
       "    </style>\n",
       "<div class=\"wandb-row\"><div class=\"wandb-col\"><h3>Run history:</h3><br/><table class=\"wandb\"><tr><td>actor_learning_rate</td><td>▁▁</td></tr><tr><td>adp_learning_rate</td><td>▁</td></tr><tr><td>average_actor_loss</td><td>█▁</td></tr><tr><td>average_adapt_loss</td><td>▁</td></tr><tr><td>average_critic_loss</td><td>█▁</td></tr><tr><td>average_episode_rewards</td><td>▁█</td></tr><tr><td>critic_learning_rate</td><td>▁▁</td></tr><tr><td>simulated_iterations</td><td>▁█▁</td></tr><tr><td>validation_duration</td><td>▁</td></tr><tr><td>validation_rewards</td><td>▁</td></tr></table><br/></div><div class=\"wandb-col\"><h3>Run summary:</h3><br/><table class=\"wandb\"><tr><td>actor_learning_rate</td><td>0.005</td></tr><tr><td>adp_learning_rate</td><td>0.005</td></tr><tr><td>average_actor_loss</td><td>-0.21023</td></tr><tr><td>average_adapt_loss</td><td>2.66335</td></tr><tr><td>average_critic_loss</td><td>1361.03193</td></tr><tr><td>average_episode_rewards</td><td>-256.8183</td></tr><tr><td>critic_learning_rate</td><td>0.0075</td></tr><tr><td>iteration_compute</td><td>208.82</td></tr><tr><td>simulated_iterations</td><td>1</td></tr><tr><td>validation_duration</td><td>100.8</td></tr><tr><td>validation_rewards</td><td>-247.84237</td></tr></table><br/></div></div>"
      ],
      "text/plain": [
       "<IPython.core.display.HTML object>"
      ]
     },
     "metadata": {},
     "output_type": "display_data"
    },
    {
     "data": {
      "text/html": [
       " View run <strong style=\"color:#cdcd00\">hearty-sweep-1</strong> at: <a href='https://wandb.ai/pmsaraiva2712-tum/lunar/runs/qe2m2ooh' target=\"_blank\">https://wandb.ai/pmsaraiva2712-tum/lunar/runs/qe2m2ooh</a><br/> View project at: <a href='https://wandb.ai/pmsaraiva2712-tum/lunar' target=\"_blank\">https://wandb.ai/pmsaraiva2712-tum/lunar</a><br/>Synced 5 W&B file(s), 0 media file(s), 0 artifact file(s) and 0 other file(s)"
      ],
      "text/plain": [
       "<IPython.core.display.HTML object>"
      ]
     },
     "metadata": {},
     "output_type": "display_data"
    },
    {
     "data": {
      "text/html": [
       "Find logs at: <code>.\\wandb\\run-20241216_102010-qe2m2ooh\\logs</code>"
      ],
      "text/plain": [
       "<IPython.core.display.HTML object>"
      ]
     },
     "metadata": {},
     "output_type": "display_data"
    }
   ],
   "source": [
    "sweep_id = wandb.sweep(sweep_config, project=\"lunar\")\n",
    "wandb.agent(sweep_id, function=train_model, count=MAX_RUN_COUNT)"
   ]
  },
  {
   "cell_type": "code",
   "execution_count": 6,
   "metadata": {},
   "outputs": [
    {
     "name": "stdout",
     "output_type": "stream",
     "text": [
      "Best Hyperparameters: {'lam': 0.9650829007037264, 'gamma': 0.9876871229575696, 'adp_lr': 0.08048877951140997, 'batches': 124, 'actor_lr': 0.08648813825739048, 'num_envs': 10, 'anneal_lr': True, 'critic_lr': 0.013400647936257531, 'num_steps': 2900, 'adp_num_steps': 800, 'max_grad_norm': 7.196879928655128, 'anneal_discount': 610, 'n_updates_per_iteration': 3}\n",
      "Best Metrics: {'_runtime': 31.2162513, '_step': 2, '_timestamp': 1734340538.4323287, '_wandb': {'runtime': 31}, 'actor_learning_rate': 0.005, 'adp_learning_rate': 0.005, 'average_actor_loss': -0.2136077562920176, 'average_adapt_loss': 3.3120418178889217, 'average_critic_loss': 735.8095331632173, 'average_episode_rewards': -219.5822296142578, 'critic_learning_rate': 0.0075, 'iteration_compute': '8.55', 'simulated_iterations': 1}\n"
     ]
    }
   ],
   "source": [
    "api = wandb.Api()\n",
    "\n",
    "# Fetch the sweep object\n",
    "sweep = api.sweep(f\"pmsaraiva2712-tum/lunar/{sweep_id}\")\n",
    "\n",
    "# Fetch all runs from the sweep\n",
    "runs = sweep.runs\n",
    "\n",
    "# Sort runs by the metric you are optimizing for, e.g., 'val_loss'\n",
    "best_run = sorted(runs, key=lambda run: run.summary.get('val_rewards', float('-inf')), reverse=True)[0]\n",
    "\n",
    "# Extract best hyperparameters and metrics\n",
    "best_params = best_run.config\n",
    "best_metrics = best_run.summary\n",
    "\n",
    "# Print the best hyperparameters and metrics\n",
    "print(\"Best Hyperparameters:\", best_params)\n",
    "print(\"Best Metrics:\", best_metrics)"
   ]
  }
 ],
 "metadata": {
  "kernelspec": {
   "display_name": "adlr",
   "language": "python",
   "name": "python3"
  },
  "language_info": {
   "codemirror_mode": {
    "name": "ipython",
    "version": 3
   },
   "file_extension": ".py",
   "mimetype": "text/x-python",
   "name": "python",
   "nbconvert_exporter": "python",
   "pygments_lexer": "ipython3",
   "version": "3.10.15"
  }
 },
 "nbformat": 4,
 "nbformat_minor": 4
}
