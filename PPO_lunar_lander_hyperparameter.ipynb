{
 "cells": [
  {
   "cell_type": "markdown",
   "metadata": {},
   "source": [
    "# PPO\n",
    "---\n",
    "\n",
    "### 1. Import the Necessary Packages"
   ]
  },
  {
   "cell_type": "code",
   "execution_count": 1,
   "metadata": {},
   "outputs": [],
   "source": [
    "%matplotlib inline\n",
    "import wandb\n",
    "import torch\n",
    "from model.ppo_3 import PPO\n",
    "import numpy as np\n",
    "from env.wrappers import LunarContinuous, LunarLanderWithUnknownWind,LunarLanderWithKnownWind\n",
    "from utils.logger import WandbSummaryWritter"
   ]
  },
  {
   "cell_type": "markdown",
   "metadata": {},
   "source": [
    "### 2. Instantiate the Model"
   ]
  },
  {
   "cell_type": "markdown",
   "metadata": {},
   "source": [
    "Setup the hyperparameters in the code cell below."
   ]
  },
  {
   "cell_type": "code",
   "execution_count": 2,
   "metadata": {},
   "outputs": [],
   "source": [
    "misc_hyperparameters = {\n",
    "    'save_freq': 0 ,  \n",
    "    'val_freq': 10,\n",
    "    'val_iter': 10,\n",
    "    'env': LunarLanderWithUnknownWind\n",
    "}"
   ]
  },
  {
   "cell_type": "markdown",
   "metadata": {},
   "source": [
    "Initialise wandb session in the code cell below."
   ]
  },
  {
   "cell_type": "code",
   "execution_count": 3,
   "metadata": {},
   "outputs": [],
   "source": [
    "VAL_ITER = 100\n",
    "MAX_RUN_COUNT = 30\n",
    "sweep_config = {\n",
    "    'method': 'bayes', \n",
    "    'metric': {\n",
    "        'name': 'validation_rewards',\n",
    "        'goal': 'maximize'\n",
    "    },\n",
    "    'parameters': {\n",
    "        'actor_lr': {\n",
    "            \"distribution\": \"uniform\",\n",
    "            \"min\": 1e-5,\n",
    "            \"max\": 0.1\n",
    "        },\n",
    "        'critic_lr': {\n",
    "            \"distribution\": \"uniform\",\n",
    "            \"min\": 1e-5,\n",
    "            \"max\": 0.1\n",
    "        },\n",
    "        'adp_lr': {\n",
    "            \"distribution\": \"uniform\",\n",
    "            \"min\": 1e-5,\n",
    "            \"max\": 0.1\n",
    "        },\n",
    "        'gamma': {\n",
    "            'min': 0.9,\n",
    "            'max': 1.\n",
    "        },\n",
    "        'lam': {\n",
    "            'min': 0.9,\n",
    "            'max': 1.\n",
    "        },\n",
    "        'max_grad_norm': {\n",
    "            \"min\": 0.1,\n",
    "            \"max\": 10.0, \n",
    "        },\n",
    "        'n_updates_per_iteration': {\n",
    "            'values': list(range(1, 21))\n",
    "        },\n",
    "        'num_envs': {\n",
    "            'values': list(range(1, 100))\n",
    "        },\n",
    "        'anneal_lr': {\n",
    "            'values': [True, False]\n",
    "        },\n",
    "        # 'num_steps': {\n",
    "        #     'distribution': 'q_uniform',\n",
    "        #     'min': 300,\n",
    "        #     'max': 4000,\n",
    "        #     'q': 100\n",
    "        # },\n",
    "        # 'adp_num_steps': {\n",
    "        #     'distribution': 'q_uniform',\n",
    "        #     'min': 200,\n",
    "        #     'max': 1000,\n",
    "        #     'q': 10\n",
    "        # },\n",
    "        'num_steps': {\n",
    "            'distribution': 'q_uniform',\n",
    "            'min': 3,\n",
    "            'max': 4,\n",
    "            'q': 1\n",
    "        },\n",
    "        'adp_num_steps': {\n",
    "            'distribution': 'q_uniform',\n",
    "            'min': 2,\n",
    "            'max': 10,\n",
    "            'q': 1\n",
    "        },\n",
    "        'anneal_discount': {\n",
    "            'distribution': 'q_uniform',\n",
    "            'min': 1,\n",
    "            'max': 1000,\n",
    "            'q': 10\n",
    "        },\n",
    "        'batches': {\n",
    "            'distribution': 'q_uniform',\n",
    "            \"min\": 1,     # 2^0\n",
    "            \"max\": 1024,  # 2^10\n",
    "            \"q\": 2 \n",
    "        }\n",
    "    }\n",
    "}"
   ]
  },
  {
   "cell_type": "code",
   "execution_count": 4,
   "metadata": {},
   "outputs": [],
   "source": [
    "def train_model(config = None):\n",
    "    logger = WandbSummaryWritter(project='lunar', config =config)\n",
    "    ppo = PPO(logger,**misc_hyperparameters) if config is None else PPO(summary_writter=logger, **config, **misc_hyperparameters)\n",
    "    ppo.train()\n",
    "\n",
    "    base_val_rews, base_val_dur = ppo.validate(VAL_ITER, False, False)\n",
    "    adp_val_rews, adp_val_dur = ppo.validate(VAL_ITER, False, True)\n",
    "    # wind_vals, base_z, adpt_z = ppo.validate_encoders()\n",
    "    ppo.env.close()\n",
    "\n",
    "    # hist, bin_edges = np.histogram(val_rews, bins=20)\n",
    "    # print(f\"Len bin_edges: {len(bin_edges)}\")\n",
    "    # Debugging prints\n",
    "    wandb.log({\n",
    "        \"validation_rewards\": base_val_rews,\n",
    "        \"validation_duration\": base_val_dur,\n",
    "        \"maximum_base_validation_reward\": np.max(base_val_rews),\n",
    "        \"adp_validation_rewards\": adp_val_rews,\n",
    "        \"adp_validation_duration\": adp_val_dur,\n",
    "        \"adp_maximum_base_validation_reward\": np.max(adp_val_rews),\n",
    "\n",
    "        # \"Encoder Outputs\": wandb.plot.line_series(\n",
    "        #         xs=wind_vals,\n",
    "        #         ys=[base_z, adpt_z],\n",
    "        #         keys=[\"Base Encoder\", \"Adaptive Encoder\"],\n",
    "        #         title=\"Encoder Outputs vs Wind\",\n",
    "        #         xname=\"Wind Value\"\n",
    "        #     )\n",
    "\n",
    "        # \"max_reward_video\": wandb.Video(f\"./videos/rl-video{np.argmax(adp_val_rews)}-episode-{np.argmax(adp_val_rews)}.mp4\", fps=4, format=\"mp4\")\n",
    "    })\n",
    "    logger.save_histogram(base_val_rews, \"Base Validation Rewards\")\n",
    "    logger.save_histogram(base_val_dur, \"Base Validation Duration\")\n",
    "    logger.save_histogram(adp_val_rews, \"Adaptive Validation Rewards\")\n",
    "    logger.save_histogram(adp_val_dur, \"Adaptive Validation Duration\")\n",
    "    logger.save_model(ppo.policy, \"base_model\")\n",
    "    logger.save_model(ppo.adapt_policy, \"adp_model\")"
   ]
  },
  {
   "cell_type": "markdown",
   "metadata": {},
   "source": [
    "Initialise the model fo the desired timestamps. Alternatively can specify a checkpoint to continue training."
   ]
  },
  {
   "cell_type": "code",
   "execution_count": null,
   "metadata": {},
   "outputs": [
    {
     "name": "stderr",
     "output_type": "stream",
     "text": [
      "\u001b[34m\u001b[1mwandb\u001b[0m: Using wandb-core as the SDK backend.  Please refer to https://wandb.me/wandb-core for more information.\n"
     ]
    },
    {
     "name": "stdout",
     "output_type": "stream",
     "text": [
      "Create sweep with ID: din7yjzt\n",
      "Sweep URL: https://wandb.ai/pmsaraiva2712-tum/lunar/sweeps/din7yjzt\n"
     ]
    },
    {
     "name": "stderr",
     "output_type": "stream",
     "text": [
      "\u001b[34m\u001b[1mwandb\u001b[0m: Agent Starting Run: 7qjjo3pm with config:\n",
      "\u001b[34m\u001b[1mwandb\u001b[0m: \tactor_lr: 0.01750460963455694\n",
      "\u001b[34m\u001b[1mwandb\u001b[0m: \tadp_lr: 0.06976077981411181\n",
      "\u001b[34m\u001b[1mwandb\u001b[0m: \tadp_num_steps: 9\n",
      "\u001b[34m\u001b[1mwandb\u001b[0m: \tanneal_discount: 130\n",
      "\u001b[34m\u001b[1mwandb\u001b[0m: \tanneal_lr: False\n",
      "\u001b[34m\u001b[1mwandb\u001b[0m: \tbatches: 270\n",
      "\u001b[34m\u001b[1mwandb\u001b[0m: \tcritic_lr: 0.017762192683779543\n",
      "\u001b[34m\u001b[1mwandb\u001b[0m: \tgamma: 0.966874864109502\n",
      "\u001b[34m\u001b[1mwandb\u001b[0m: \tlam: 0.9216071602403736\n",
      "\u001b[34m\u001b[1mwandb\u001b[0m: \tmax_grad_norm: 3.7877046862925456\n",
      "\u001b[34m\u001b[1mwandb\u001b[0m: \tn_updates_per_iteration: 18\n",
      "\u001b[34m\u001b[1mwandb\u001b[0m: \tnum_envs: 74\n",
      "\u001b[34m\u001b[1mwandb\u001b[0m: \tnum_steps: 3\n",
      "\u001b[34m\u001b[1mwandb\u001b[0m: Currently logged in as: \u001b[33mpmsaraiva2712\u001b[0m (\u001b[33mpmsaraiva2712-tum\u001b[0m). Use \u001b[1m`wandb login --relogin`\u001b[0m to force relogin\n",
      "\u001b[34m\u001b[1mwandb\u001b[0m: \u001b[33mWARNING\u001b[0m Ignored wandb.init() arg project when running a sweep.\n"
     ]
    },
    {
     "data": {
      "text/html": [
       "Tracking run with wandb version 0.18.7"
      ],
      "text/plain": [
       "<IPython.core.display.HTML object>"
      ]
     },
     "metadata": {},
     "output_type": "display_data"
    },
    {
     "data": {
      "text/html": [
       "Run data is saved locally in <code>c:\\Users\\pmsar\\git\\tum-adlr-ws25-16\\wandb\\run-20250110_180723-7qjjo3pm</code>"
      ],
      "text/plain": [
       "<IPython.core.display.HTML object>"
      ]
     },
     "metadata": {},
     "output_type": "display_data"
    },
    {
     "data": {
      "text/html": [
       "Syncing run <strong><a href='https://wandb.ai/pmsaraiva2712-tum/lunar/runs/7qjjo3pm' target=\"_blank\">jolly-sweep-1</a></strong> to <a href='https://wandb.ai/pmsaraiva2712-tum/lunar' target=\"_blank\">Weights & Biases</a> (<a href='https://wandb.me/developer-guide' target=\"_blank\">docs</a>)<br/>Sweep page: <a href='https://wandb.ai/pmsaraiva2712-tum/lunar/sweeps/din7yjzt' target=\"_blank\">https://wandb.ai/pmsaraiva2712-tum/lunar/sweeps/din7yjzt</a>"
      ],
      "text/plain": [
       "<IPython.core.display.HTML object>"
      ]
     },
     "metadata": {},
     "output_type": "display_data"
    },
    {
     "data": {
      "text/html": [
       " View project at <a href='https://wandb.ai/pmsaraiva2712-tum/lunar' target=\"_blank\">https://wandb.ai/pmsaraiva2712-tum/lunar</a>"
      ],
      "text/plain": [
       "<IPython.core.display.HTML object>"
      ]
     },
     "metadata": {},
     "output_type": "display_data"
    },
    {
     "data": {
      "text/html": [
       " View sweep at <a href='https://wandb.ai/pmsaraiva2712-tum/lunar/sweeps/din7yjzt' target=\"_blank\">https://wandb.ai/pmsaraiva2712-tum/lunar/sweeps/din7yjzt</a>"
      ],
      "text/plain": [
       "<IPython.core.display.HTML object>"
      ]
     },
     "metadata": {},
     "output_type": "display_data"
    },
    {
     "data": {
      "text/html": [
       " View run at <a href='https://wandb.ai/pmsaraiva2712-tum/lunar/runs/7qjjo3pm' target=\"_blank\">https://wandb.ai/pmsaraiva2712-tum/lunar/runs/7qjjo3pm</a>"
      ],
      "text/plain": [
       "<IPython.core.display.HTML object>"
      ]
     },
     "metadata": {},
     "output_type": "display_data"
    },
    {
     "name": "stdout",
     "output_type": "stream",
     "text": [
      "\n",
      "-------------------- Iteration #1 --------------------\n",
      "Average Episodic Return: -159.36\n",
      "Average Actor Loss: -0.21156\n",
      "Average Critic Loss: 1063.2504741375262\n",
      "Average KL Divergence: 0.011137695863502672\n",
      "Iteration took: 11.37 secs, of which rollout took 9.22 secs and gradient updates took 2.14 secs\n",
      "Current actor learning rate: 0.005\n",
      "Current critic learning rate: 0.0075\n",
      "------------------------------------------------------\n",
      "\n",
      "\n",
      "-------------------- Iteration #1 --------------------\n",
      "Average adp Loss: 0.00424\n",
      "Iteration took: 9.97 secs, of which rollout took 9.23 secs and gradient updates took 0.72 secs\n",
      "Current adp learning rate: 0.005\n",
      "------------------------------------------------------\n",
      "\n"
     ]
    },
    {
     "data": {
      "text/html": [
       "\n",
       "    <style>\n",
       "        .wandb-row {\n",
       "            display: flex;\n",
       "            flex-direction: row;\n",
       "            flex-wrap: wrap;\n",
       "            justify-content: flex-start;\n",
       "            width: 100%;\n",
       "        }\n",
       "        .wandb-col {\n",
       "            display: flex;\n",
       "            flex-direction: column;\n",
       "            flex-basis: 100%;\n",
       "            flex: 1;\n",
       "            padding: 10px;\n",
       "        }\n",
       "    </style>\n",
       "<div class=\"wandb-row\"><div class=\"wandb-col\"><h3>Run history:</h3><br/><table class=\"wandb\"><tr><td>actor_learning_rate</td><td>▁</td></tr><tr><td>adp_learning_rate</td><td>▁</td></tr><tr><td>adp_maximum_base_validation_reward</td><td>▁</td></tr><tr><td>average_actor_loss</td><td>▁</td></tr><tr><td>average_adapt_loss</td><td>▁</td></tr><tr><td>average_critic_loss</td><td>▁</td></tr><tr><td>average_episode_rewards</td><td>▁</td></tr><tr><td>critic_learning_rate</td><td>▁</td></tr><tr><td>iteration_compute</td><td>█▁</td></tr><tr><td>maximum_base_validation_reward</td><td>▁</td></tr><tr><td>simulated_iterations</td><td>▁▁</td></tr></table><br/></div><div class=\"wandb-col\"><h3>Run summary:</h3><br/><table class=\"wandb\"><tr><td>actor_learning_rate</td><td>0.005</td></tr><tr><td>adp_learning_rate</td><td>0.005</td></tr><tr><td>adp_maximum_base_validation_reward</td><td>13.43401</td></tr><tr><td>average_actor_loss</td><td>-0.21156</td></tr><tr><td>average_adapt_loss</td><td>0.00424</td></tr><tr><td>average_critic_loss</td><td>1063.25047</td></tr><tr><td>average_episode_rewards</td><td>-159.36046</td></tr><tr><td>critic_learning_rate</td><td>0.0075</td></tr><tr><td>iteration_compute</td><td>9.9688</td></tr><tr><td>maximum_base_validation_reward</td><td>-14.63432</td></tr><tr><td>simulated_iterations</td><td>1</td></tr></table><br/></div></div>"
      ],
      "text/plain": [
       "<IPython.core.display.HTML object>"
      ]
     },
     "metadata": {},
     "output_type": "display_data"
    },
    {
     "data": {
      "text/html": [
       " View run <strong style=\"color:#cdcd00\">jolly-sweep-1</strong> at: <a href='https://wandb.ai/pmsaraiva2712-tum/lunar/runs/7qjjo3pm' target=\"_blank\">https://wandb.ai/pmsaraiva2712-tum/lunar/runs/7qjjo3pm</a><br/> View project at: <a href='https://wandb.ai/pmsaraiva2712-tum/lunar' target=\"_blank\">https://wandb.ai/pmsaraiva2712-tum/lunar</a><br/>Synced 5 W&B file(s), 0 media file(s), 4 artifact file(s) and 4 other file(s)"
      ],
      "text/plain": [
       "<IPython.core.display.HTML object>"
      ]
     },
     "metadata": {},
     "output_type": "display_data"
    },
    {
     "data": {
      "text/html": [
       "Find logs at: <code>.\\wandb\\run-20250110_180723-7qjjo3pm\\logs</code>"
      ],
      "text/plain": [
       "<IPython.core.display.HTML object>"
      ]
     },
     "metadata": {},
     "output_type": "display_data"
    },
    {
     "name": "stderr",
     "output_type": "stream",
     "text": [
      "\u001b[34m\u001b[1mwandb\u001b[0m: Agent Starting Run: fl2v6ixe with config:\n",
      "\u001b[34m\u001b[1mwandb\u001b[0m: \tactor_lr: 0.06342674451654909\n",
      "\u001b[34m\u001b[1mwandb\u001b[0m: \tadp_lr: 0.05996598873493763\n",
      "\u001b[34m\u001b[1mwandb\u001b[0m: \tadp_num_steps: 4\n",
      "\u001b[34m\u001b[1mwandb\u001b[0m: \tanneal_discount: 170\n",
      "\u001b[34m\u001b[1mwandb\u001b[0m: \tanneal_lr: True\n",
      "\u001b[34m\u001b[1mwandb\u001b[0m: \tbatches: 730\n",
      "\u001b[34m\u001b[1mwandb\u001b[0m: \tcritic_lr: 0.037878897529723246\n",
      "\u001b[34m\u001b[1mwandb\u001b[0m: \tgamma: 0.9104554043857758\n",
      "\u001b[34m\u001b[1mwandb\u001b[0m: \tlam: 0.9961020943532246\n",
      "\u001b[34m\u001b[1mwandb\u001b[0m: \tmax_grad_norm: 2.9220242655710686\n",
      "\u001b[34m\u001b[1mwandb\u001b[0m: \tn_updates_per_iteration: 2\n",
      "\u001b[34m\u001b[1mwandb\u001b[0m: \tnum_envs: 17\n",
      "\u001b[34m\u001b[1mwandb\u001b[0m: \tnum_steps: 3\n",
      "\u001b[34m\u001b[1mwandb\u001b[0m: \u001b[33mWARNING\u001b[0m Ignored wandb.init() arg project when running a sweep.\n"
     ]
    },
    {
     "data": {
      "text/html": [
       "Tracking run with wandb version 0.18.7"
      ],
      "text/plain": [
       "<IPython.core.display.HTML object>"
      ]
     },
     "metadata": {},
     "output_type": "display_data"
    },
    {
     "data": {
      "text/html": [
       "Run data is saved locally in <code>c:\\Users\\pmsar\\git\\tum-adlr-ws25-16\\wandb\\run-20250110_180810-fl2v6ixe</code>"
      ],
      "text/plain": [
       "<IPython.core.display.HTML object>"
      ]
     },
     "metadata": {},
     "output_type": "display_data"
    },
    {
     "data": {
      "text/html": [
       "Syncing run <strong><a href='https://wandb.ai/pmsaraiva2712-tum/lunar/runs/fl2v6ixe' target=\"_blank\">ruby-sweep-2</a></strong> to <a href='https://wandb.ai/pmsaraiva2712-tum/lunar' target=\"_blank\">Weights & Biases</a> (<a href='https://wandb.me/developer-guide' target=\"_blank\">docs</a>)<br/>Sweep page: <a href='https://wandb.ai/pmsaraiva2712-tum/lunar/sweeps/din7yjzt' target=\"_blank\">https://wandb.ai/pmsaraiva2712-tum/lunar/sweeps/din7yjzt</a>"
      ],
      "text/plain": [
       "<IPython.core.display.HTML object>"
      ]
     },
     "metadata": {},
     "output_type": "display_data"
    },
    {
     "data": {
      "text/html": [
       " View project at <a href='https://wandb.ai/pmsaraiva2712-tum/lunar' target=\"_blank\">https://wandb.ai/pmsaraiva2712-tum/lunar</a>"
      ],
      "text/plain": [
       "<IPython.core.display.HTML object>"
      ]
     },
     "metadata": {},
     "output_type": "display_data"
    },
    {
     "data": {
      "text/html": [
       " View sweep at <a href='https://wandb.ai/pmsaraiva2712-tum/lunar/sweeps/din7yjzt' target=\"_blank\">https://wandb.ai/pmsaraiva2712-tum/lunar/sweeps/din7yjzt</a>"
      ],
      "text/plain": [
       "<IPython.core.display.HTML object>"
      ]
     },
     "metadata": {},
     "output_type": "display_data"
    },
    {
     "data": {
      "text/html": [
       " View run at <a href='https://wandb.ai/pmsaraiva2712-tum/lunar/runs/fl2v6ixe' target=\"_blank\">https://wandb.ai/pmsaraiva2712-tum/lunar/runs/fl2v6ixe</a>"
      ],
      "text/plain": [
       "<IPython.core.display.HTML object>"
      ]
     },
     "metadata": {},
     "output_type": "display_data"
    },
    {
     "name": "stdout",
     "output_type": "stream",
     "text": [
      "\n",
      "-------------------- Iteration #1 --------------------\n",
      "Average Episodic Return: -345.0\n",
      "Average Actor Loss: -0.20789\n",
      "Average Critic Loss: 1433.663720350999\n",
      "Average KL Divergence: 0.010454763821326197\n",
      "Iteration took: 12.07 secs, of which rollout took 10.11 secs and gradient updates took 1.96 secs\n",
      "Current actor learning rate: 0.005\n",
      "Current critic learning rate: 0.0075\n",
      "------------------------------------------------------\n",
      "\n",
      "\n",
      "-------------------- Iteration #1 --------------------\n",
      "Average adp Loss: 0.00088\n",
      "Iteration took: 9.94 secs, of which rollout took 9.29 secs and gradient updates took 0.64 secs\n",
      "Current adp learning rate: 0.005\n",
      "------------------------------------------------------\n",
      "\n"
     ]
    },
    {
     "data": {
      "text/html": [
       "\n",
       "    <style>\n",
       "        .wandb-row {\n",
       "            display: flex;\n",
       "            flex-direction: row;\n",
       "            flex-wrap: wrap;\n",
       "            justify-content: flex-start;\n",
       "            width: 100%;\n",
       "        }\n",
       "        .wandb-col {\n",
       "            display: flex;\n",
       "            flex-direction: column;\n",
       "            flex-basis: 100%;\n",
       "            flex: 1;\n",
       "            padding: 10px;\n",
       "        }\n",
       "    </style>\n",
       "<div class=\"wandb-row\"><div class=\"wandb-col\"><h3>Run history:</h3><br/><table class=\"wandb\"><tr><td>actor_learning_rate</td><td>▁</td></tr><tr><td>adp_learning_rate</td><td>▁</td></tr><tr><td>adp_maximum_base_validation_reward</td><td>▁</td></tr><tr><td>average_actor_loss</td><td>▁</td></tr><tr><td>average_adapt_loss</td><td>▁</td></tr><tr><td>average_critic_loss</td><td>▁</td></tr><tr><td>average_episode_rewards</td><td>▁</td></tr><tr><td>critic_learning_rate</td><td>▁</td></tr><tr><td>iteration_compute</td><td>█▁</td></tr><tr><td>maximum_base_validation_reward</td><td>▁</td></tr><tr><td>simulated_iterations</td><td>▁▁</td></tr></table><br/></div><div class=\"wandb-col\"><h3>Run summary:</h3><br/><table class=\"wandb\"><tr><td>actor_learning_rate</td><td>0.005</td></tr><tr><td>adp_learning_rate</td><td>0.005</td></tr><tr><td>adp_maximum_base_validation_reward</td><td>-29.69527</td></tr><tr><td>average_actor_loss</td><td>-0.20789</td></tr><tr><td>average_adapt_loss</td><td>0.00088</td></tr><tr><td>average_critic_loss</td><td>1433.66372</td></tr><tr><td>average_episode_rewards</td><td>-345.00226</td></tr><tr><td>critic_learning_rate</td><td>0.0075</td></tr><tr><td>iteration_compute</td><td>9.9416</td></tr><tr><td>maximum_base_validation_reward</td><td>-13.35134</td></tr><tr><td>simulated_iterations</td><td>1</td></tr></table><br/></div></div>"
      ],
      "text/plain": [
       "<IPython.core.display.HTML object>"
      ]
     },
     "metadata": {},
     "output_type": "display_data"
    },
    {
     "data": {
      "text/html": [
       " View run <strong style=\"color:#cdcd00\">ruby-sweep-2</strong> at: <a href='https://wandb.ai/pmsaraiva2712-tum/lunar/runs/fl2v6ixe' target=\"_blank\">https://wandb.ai/pmsaraiva2712-tum/lunar/runs/fl2v6ixe</a><br/> View project at: <a href='https://wandb.ai/pmsaraiva2712-tum/lunar' target=\"_blank\">https://wandb.ai/pmsaraiva2712-tum/lunar</a><br/>Synced 5 W&B file(s), 0 media file(s), 4 artifact file(s) and 4 other file(s)"
      ],
      "text/plain": [
       "<IPython.core.display.HTML object>"
      ]
     },
     "metadata": {},
     "output_type": "display_data"
    },
    {
     "data": {
      "text/html": [
       "Find logs at: <code>.\\wandb\\run-20250110_180810-fl2v6ixe\\logs</code>"
      ],
      "text/plain": [
       "<IPython.core.display.HTML object>"
      ]
     },
     "metadata": {},
     "output_type": "display_data"
    },
    {
     "name": "stderr",
     "output_type": "stream",
     "text": [
      "\u001b[34m\u001b[1mwandb\u001b[0m: Agent Starting Run: h86xf14d with config:\n",
      "\u001b[34m\u001b[1mwandb\u001b[0m: \tactor_lr: 0.0887682885830194\n",
      "\u001b[34m\u001b[1mwandb\u001b[0m: \tadp_lr: 0.005795469900956493\n",
      "\u001b[34m\u001b[1mwandb\u001b[0m: \tadp_num_steps: 3\n",
      "\u001b[34m\u001b[1mwandb\u001b[0m: \tanneal_discount: 10\n",
      "\u001b[34m\u001b[1mwandb\u001b[0m: \tanneal_lr: True\n",
      "\u001b[34m\u001b[1mwandb\u001b[0m: \tbatches: 320\n",
      "\u001b[34m\u001b[1mwandb\u001b[0m: \tcritic_lr: 0.05119560384515642\n",
      "\u001b[34m\u001b[1mwandb\u001b[0m: \tgamma: 0.9264558666258343\n",
      "\u001b[34m\u001b[1mwandb\u001b[0m: \tlam: 0.9972288249757916\n",
      "\u001b[34m\u001b[1mwandb\u001b[0m: \tmax_grad_norm: 6.938674129869852\n",
      "\u001b[34m\u001b[1mwandb\u001b[0m: \tn_updates_per_iteration: 11\n",
      "\u001b[34m\u001b[1mwandb\u001b[0m: \tnum_envs: 37\n",
      "\u001b[34m\u001b[1mwandb\u001b[0m: \tnum_steps: 3\n",
      "\u001b[34m\u001b[1mwandb\u001b[0m: \u001b[33mWARNING\u001b[0m Ignored wandb.init() arg project when running a sweep.\n"
     ]
    },
    {
     "data": {
      "text/html": [
       "Tracking run with wandb version 0.18.7"
      ],
      "text/plain": [
       "<IPython.core.display.HTML object>"
      ]
     },
     "metadata": {},
     "output_type": "display_data"
    },
    {
     "data": {
      "text/html": [
       "Run data is saved locally in <code>c:\\Users\\pmsar\\git\\tum-adlr-ws25-16\\wandb\\run-20250110_180858-h86xf14d</code>"
      ],
      "text/plain": [
       "<IPython.core.display.HTML object>"
      ]
     },
     "metadata": {},
     "output_type": "display_data"
    },
    {
     "data": {
      "text/html": [
       "Syncing run <strong><a href='https://wandb.ai/pmsaraiva2712-tum/lunar/runs/h86xf14d' target=\"_blank\">vital-sweep-3</a></strong> to <a href='https://wandb.ai/pmsaraiva2712-tum/lunar' target=\"_blank\">Weights & Biases</a> (<a href='https://wandb.me/developer-guide' target=\"_blank\">docs</a>)<br/>Sweep page: <a href='https://wandb.ai/pmsaraiva2712-tum/lunar/sweeps/din7yjzt' target=\"_blank\">https://wandb.ai/pmsaraiva2712-tum/lunar/sweeps/din7yjzt</a>"
      ],
      "text/plain": [
       "<IPython.core.display.HTML object>"
      ]
     },
     "metadata": {},
     "output_type": "display_data"
    },
    {
     "data": {
      "text/html": [
       " View project at <a href='https://wandb.ai/pmsaraiva2712-tum/lunar' target=\"_blank\">https://wandb.ai/pmsaraiva2712-tum/lunar</a>"
      ],
      "text/plain": [
       "<IPython.core.display.HTML object>"
      ]
     },
     "metadata": {},
     "output_type": "display_data"
    },
    {
     "data": {
      "text/html": [
       " View sweep at <a href='https://wandb.ai/pmsaraiva2712-tum/lunar/sweeps/din7yjzt' target=\"_blank\">https://wandb.ai/pmsaraiva2712-tum/lunar/sweeps/din7yjzt</a>"
      ],
      "text/plain": [
       "<IPython.core.display.HTML object>"
      ]
     },
     "metadata": {},
     "output_type": "display_data"
    },
    {
     "data": {
      "text/html": [
       " View run at <a href='https://wandb.ai/pmsaraiva2712-tum/lunar/runs/h86xf14d' target=\"_blank\">https://wandb.ai/pmsaraiva2712-tum/lunar/runs/h86xf14d</a>"
      ],
      "text/plain": [
       "<IPython.core.display.HTML object>"
      ]
     },
     "metadata": {},
     "output_type": "display_data"
    },
    {
     "name": "stdout",
     "output_type": "stream",
     "text": [
      "\n",
      "-------------------- Iteration #1 --------------------\n",
      "Average Episodic Return: -244.69\n",
      "Average Actor Loss: -0.20861\n",
      "Average Critic Loss: 2235.108587881235\n",
      "Average KL Divergence: 0.012463074138996978\n",
      "Iteration took: 12.06 secs, of which rollout took 10.12 secs and gradient updates took 1.94 secs\n",
      "Current actor learning rate: 0.005\n",
      "Current critic learning rate: 0.0075\n",
      "------------------------------------------------------\n",
      "\n"
     ]
    }
   ],
   "source": [
    "sweep_id = wandb.sweep(sweep_config, project=\"lunar\")\n",
    "wandb.agent(sweep_id, function=train_model, count=MAX_RUN_COUNT)"
   ]
  },
  {
   "cell_type": "code",
   "execution_count": 6,
   "metadata": {},
   "outputs": [
    {
     "name": "stderr",
     "output_type": "stream",
     "text": [
      "Exception in thread Exception in threading.excepthook:\n",
      "Exception ignored in thread started by: <bound method Thread._bootstrap of <Thread(Thread-26 (_run_job), stopped 140260891666112)>>\n",
      "Traceback (most recent call last):\n",
      "  File \"/usr/lib/python3.11/threading.py\", line 995, in _bootstrap\n",
      "    self._bootstrap_inner()\n",
      "  File \"/usr/lib/python3.11/threading.py\", line 1040, in _bootstrap_inner\n",
      "    self._invoke_excepthook(self)\n",
      "  File \"/usr/lib/python3.11/threading.py\", line 1352, in invoke_excepthook\n",
      "    local_print(\"Exception in threading.excepthook:\",\n",
      "  File \"/home/mohamedrostom62/ADLR/tum-adlr-ws25-16/.venv/lib/python3.11/site-packages/ipykernel/iostream.py\", line 604, in flush\n",
      "    self.pub_thread.schedule(self._flush)\n",
      "  File \"/home/mohamedrostom62/ADLR/tum-adlr-ws25-16/.venv/lib/python3.11/site-packages/ipykernel/iostream.py\", line 267, in schedule\n",
      "    self._event_pipe.send(b\"\")\n",
      "  File \"/home/mohamedrostom62/ADLR/tum-adlr-ws25-16/.venv/lib/python3.11/site-packages/zmq/sugar/socket.py\", line 701, in send\n",
      "    return super().send(data, flags=flags, copy=copy, track=track)\n",
      "           ^^^^^^^^^^^^^^^^^^^^^^^^^^^^^^^^^^^^^^^^^^^^^^^^^^^^^^^\n",
      "  File \"_zmq.py\", line 1092, in zmq.backend.cython._zmq.Socket.send\n",
      "  File \"_zmq.py\", line 1134, in zmq.backend.cython._zmq.Socket.send\n",
      "  File \"_zmq.py\", line 1209, in zmq.backend.cython._zmq._check_closed\n",
      "zmq.error.ZMQError: Socket operation on non-socket\n",
      "Exception ignored in sys.unraisablehook: <built-in function unraisablehook>\n",
      "Traceback (most recent call last):\n",
      "  File \"/home/mohamedrostom62/ADLR/tum-adlr-ws25-16/.venv/lib/python3.11/site-packages/ipykernel/iostream.py\", line 604, in flush\n",
      "    self.pub_thread.schedule(self._flush)\n",
      "  File \"/home/mohamedrostom62/ADLR/tum-adlr-ws25-16/.venv/lib/python3.11/site-packages/ipykernel/iostream.py\", line 267, in schedule\n",
      "    self._event_pipe.send(b\"\")\n",
      "  File \"/home/mohamedrostom62/ADLR/tum-adlr-ws25-16/.venv/lib/python3.11/site-packages/zmq/sugar/socket.py\", line 701, in send\n",
      "    return super().send(data, flags=flags, copy=copy, track=track)\n",
      "           ^^^^^^^^^^^^^^^^^^^^^^^^^^^^^^^^^^^^^^^^^^^^^^^^^^^^^^^\n",
      "  File \"_zmq.py\", line 1092, in zmq.backend.cython._zmq.Socket.send\n",
      "  File \"_zmq.py\", line 1134, in zmq.backend.cython._zmq.Socket.send\n",
      "  File \"_zmq.py\", line 1209, in zmq.backend.cython._zmq._check_closed\n",
      "zmq.error.ZMQError: Socket operation on non-socket\n"
     ]
    },
    {
     "name": "stdout",
     "output_type": "stream",
     "text": [
      "Best Hyperparameters: {'lam': 0.972831062901546, 'gamma': 0.9762351550544416, 'adp_lr': 0.09927788245027704, 'batches': 332, 'actor_lr': 0.09110289758146364, 'num_envs': 57, 'anneal_lr': False, 'critic_lr': 0.07641949481794698, 'num_steps': 400, 'adp_num_steps': 800, 'max_grad_norm': 0.9648681113993745, 'anneal_discount': 330, 'n_updates_per_iteration': 7}\n",
      "Best Metrics: {'_runtime': 1381.245859275, '_step': 129, '_timestamp': 1736364925.640216, '_wandb': {'runtime': 1381}, 'actor_learning_rate': 0.005, 'average_actor_loss': -0.2133525514073367, 'average_critic_loss': 87.58824276961218, 'average_episode_rewards': 125.1359634399414, 'critic_learning_rate': 0.0075, 'iteration_compute': 7.647851373, 'simulated_iterations': 119, 'val_durs': 1201, 'val_rews': 124.9922409408134}\n"
     ]
    }
   ],
   "source": [
    "api = wandb.Api()\n",
    "\n",
    "# Fetch the sweep object\n",
    "sweep = api.sweep(f\"pmsaraiva2712-tum/lunar/{sweep_id}\")\n",
    "\n",
    "# Fetch all runs from the sweep\n",
    "runs = sweep.runs\n",
    "\n",
    "# Sort runs by the metric you are optimizing for, e.g., 'val_loss'\n",
    "best_run = sorted(runs, key=lambda run: run.summary.get('val_rewards', float('-inf')), reverse=True)[0]\n",
    "\n",
    "# Extract best hyperparameters and metrics\n",
    "best_params = best_run.config\n",
    "best_metrics = best_run.summary\n",
    "\n",
    "# Print the best hyperparameters and metrics\n",
    "print(\"Best Hyperparameters:\", best_params)\n",
    "print(\"Best Metrics:\", best_metrics)"
   ]
  },
  {
   "cell_type": "code",
   "execution_count": null,
   "metadata": {},
   "outputs": [
    {
     "data": {
      "image/png": "[encoded data removed]",
      "text/plain": [
       "<Figure size 640x480 with 1 Axes>"
      ]
     },
     "metadata": {},
     "output_type": "display_data"
    }
   ],
   "source": [
    "import numpy as np\n",
    "import matplotlib.pyplot as plt\n",
    "\n",
    "# Example NumPy array\n",
    "data = np.random.randint(0, 100, size=100)  # Random integers between 0 and 100\n",
    "\n",
    "# Calculate the median\n",
    "median_value = np.median(data)\n",
    "\n",
    "# Create histogram\n",
    "num_bins = 10  # Number of buckets\n",
    "plt.hist(data, bins=num_bins, edgecolor='black', alpha=0.7, label='Data')\n",
    "\n",
    "# Add a vertical line for the median\n",
    "plt.axvline(median_value, color='red', linestyle='dashed', linewidth=2, label=f'Median = {median_value}')\n",
    "\n",
    "# Add labels, title, and legend\n",
    "plt.xlabel('Value Range')\n",
    "plt.ylabel('Frequency')\n",
    "plt.title('Histogram with Buckets and Median')\n",
    "plt.legend()\n",
    "\n",
    "# Show the plot\n",
    "plt.show()"
   ]
  }
 ],
 "metadata": {
  "kernelspec": {
   "display_name": "adlr",
   "language": "python",
   "name": "python3"
  },
  "language_info": {
   "codemirror_mode": {
    "name": "ipython",
    "version": 3
   },
   "file_extension": ".py",
   "mimetype": "text/x-python",
   "name": "python",
   "nbconvert_exporter": "python",
   "pygments_lexer": "ipython3",
   "version": "3.10.15"
  }
 },
 "nbformat": 4,
 "nbformat_minor": 4
}
