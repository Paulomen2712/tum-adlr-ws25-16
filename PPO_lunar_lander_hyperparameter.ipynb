{
 "cells": [
  {
   "cell_type": "markdown",
   "metadata": {},
   "source": [
    "# PPO\n",
    "---\n",
    "\n",
    "### 1. Import the Necessary Packages"
   ]
  },
  {
   "cell_type": "code",
   "execution_count": null,
   "metadata": {},
   "outputs": [],
   "source": [
    "import gym\n",
    "import torch\n",
    "%matplotlib inline\n",
    "import wandb\n",
    "import numpy as np\n",
    "import os\n",
    "\n",
    "from model.ppo_parallel import PPO\n",
    "from model.network import ActorCritic\n",
    "from model.environments import LunarContinuous\n",
    "from gym.wrappers import RecordVideo"
   ]
  },
  {
   "cell_type": "markdown",
   "metadata": {},
   "source": [
    "### 2. Instantiate the Model"
   ]
  },
  {
   "cell_type": "markdown",
   "metadata": {},
   "source": [
    "Setup the hyperparameters in the code cell below."
   ]
  },
  {
   "cell_type": "code",
   "execution_count": 2,
   "metadata": {},
   "outputs": [],
   "source": [
    "misc_hyperparameters = {\n",
    "    'save_freq': 50  ,                           # How often we save in number of iterations\n",
    "    'num_workers': 8  ,\n",
    "    'seed': None \n",
    "}"
   ]
  },
  {
   "cell_type": "markdown",
   "metadata": {},
   "source": [
    "Initialise wandb session in the code cell below."
   ]
  },
  {
   "cell_type": "code",
   "execution_count": null,
   "metadata": {},
   "outputs": [],
   "source": [
    "TOTAL_TIMESTEPS_TO_TRAIN = 1_500_000\n",
    "VAL_ITER = 30\n",
    "sweep_config = {\n",
    "    'method': 'bayes', \n",
    "    'metric': {\n",
    "        'name': 'average_episode_rewards',\n",
    "        'goal': 'maximize'\n",
    "    },\n",
    "    'parameters': {\n",
    "        'lr': {\n",
    "            'min': 0.0001,\n",
    "            'max': 0.1\n",
    "        },\n",
    "        'gamma': {\n",
    "            'min': 0.9,\n",
    "            'max': 1.\n",
    "        },\n",
    "        'lr_gamma': {\n",
    "            'min': 0.999,\n",
    "            'max': 1.\n",
    "        },\n",
    "        'n_updates_per_iteration': {\n",
    "            'values': list(range(1, 21))\n",
    "        },\n",
    "        'max_timesteps_per_episode': {\n",
    "            'values': list(range(600, 2001, 200))\n",
    "        },\n",
    "        'timesteps_per_batch': {\n",
    "            'values': list(range(600, 5001, 200))\n",
    "        }\n",
    "    }\n",
    "}"
   ]
  },
  {
   "cell_type": "code",
   "execution_count": 9,
   "metadata": {},
   "outputs": [],
   "source": [
    "def train_model(config = None):\n",
    "    wandb.login()\n",
    "    run = wandb.init(\n",
    "        # Track hyperparameters and run metadata\n",
    "        config= config\n",
    "    )\n",
    "    ppo = ppo = PPO(**misc_hyperparameters) if config is None else PPO( lr = config.lr, gamma = config.gamma, n_updates_per_iteration = config.n_updates_per_iteration, max_timesteps_per_episode = config.max_timesteps_per_episode, **misc_hyperparameters)\n",
    "    ppo.learn(TOTAL_TIMESTEPS_TO_TRAIN)\n",
    "\n",
    "    val_rews = []\n",
    "    val_dur = []\n",
    "    env = LunarContinuous(render_mode='rgb_array').make_environment()\n",
    "    env = RecordVideo(env, video_folder=\"videos\", episode_trigger=lambda x: True)\n",
    "    for _ in range(0, VAL_ITER):\n",
    "            obs, _ = env.reset()\n",
    "            done = False\n",
    "\n",
    "            # number of timesteps so far\n",
    "            t = 0\n",
    "\n",
    "            ep_ret = 0            # episodic return\n",
    "\n",
    "            while not done:\n",
    "                t += 1\n",
    "\n",
    "                # Query deterministic action from policy and run it\n",
    "                action = ppo.actor(obs)\n",
    "                obs, rew, terminated, truncated, _ = env.step(action.detach().numpy())\n",
    "                done = terminated | truncated\n",
    "\n",
    "                # Sum all episodic rewards as we go along\n",
    "                ep_ret += rew\n",
    "                \n",
    "            # Track episodic length\n",
    "            val_rews.append(ep_ret)\n",
    "            val_dur.append(t)\n",
    "\n",
    "    wandb.log({\n",
    "        \"val_rewards\": np.mean(val_rews),\n",
    "        \"validation_duration\": np.mean(val_dur),\n",
    "        \"max_reward_video\": wandb.Video(f\"videos\\\\rl-video-episode-{np.argmax(val_rews)}.mp4\", fps=4, format=\"mp4\")\n",
    "    })"
   ]
  },
  {
   "cell_type": "markdown",
   "metadata": {},
   "source": [
    "Initialise the model fo the desired timestamps. Alternatively can specify a checkpoint to continue training."
   ]
  },
  {
   "cell_type": "code",
   "execution_count": 10,
   "metadata": {},
   "outputs": [
    {
     "name": "stdout",
     "output_type": "stream",
     "text": [
      "Create sweep with ID: h5g3bir3\n",
      "Sweep URL: https://wandb.ai/pmsaraiva2712-tum/lunar/sweeps/h5g3bir3\n"
     ]
    },
    {
     "name": "stderr",
     "output_type": "stream",
     "text": [
      "\u001b[34m\u001b[1mwandb\u001b[0m: Agent Starting Run: 6i5gfyid with config:\n",
      "\u001b[34m\u001b[1mwandb\u001b[0m: \tgamma: 0.9800051053356386\n",
      "\u001b[34m\u001b[1mwandb\u001b[0m: \tlr: 0.019919795713659736\n",
      "\u001b[34m\u001b[1mwandb\u001b[0m: \tlr_gamma: 0.999424832404954\n",
      "\u001b[34m\u001b[1mwandb\u001b[0m: \tmax_timesteps_per_episode: 600\n",
      "\u001b[34m\u001b[1mwandb\u001b[0m: \tn_updates_per_iteration: 8\n",
      "\u001b[34m\u001b[1mwandb\u001b[0m: \ttimesteps_per_batch: 3800\n"
     ]
    },
    {
     "data": {
      "text/html": [
       "Tracking run with wandb version 0.18.7"
      ],
      "text/plain": [
       "<IPython.core.display.HTML object>"
      ]
     },
     "metadata": {},
     "output_type": "display_data"
    },
    {
     "data": {
      "text/html": [
       "Run data is saved locally in <code>c:\\Users\\pmsar\\git\\tum-adlr-ws25-16\\wandb\\run-20241122_182001-6i5gfyid</code>"
      ],
      "text/plain": [
       "<IPython.core.display.HTML object>"
      ]
     },
     "metadata": {},
     "output_type": "display_data"
    },
    {
     "data": {
      "text/html": [
       "Syncing run <strong><a href='https://wandb.ai/pmsaraiva2712-tum/lunar/runs/6i5gfyid' target=\"_blank\">fiery-sweep-1</a></strong> to <a href='https://wandb.ai/pmsaraiva2712-tum/lunar' target=\"_blank\">Weights & Biases</a> (<a href='https://wandb.me/developer-guide' target=\"_blank\">docs</a>)<br/>Sweep page: <a href='https://wandb.ai/pmsaraiva2712-tum/lunar/sweeps/h5g3bir3' target=\"_blank\">https://wandb.ai/pmsaraiva2712-tum/lunar/sweeps/h5g3bir3</a>"
      ],
      "text/plain": [
       "<IPython.core.display.HTML object>"
      ]
     },
     "metadata": {},
     "output_type": "display_data"
    },
    {
     "data": {
      "text/html": [
       " View project at <a href='https://wandb.ai/pmsaraiva2712-tum/lunar' target=\"_blank\">https://wandb.ai/pmsaraiva2712-tum/lunar</a>"
      ],
      "text/plain": [
       "<IPython.core.display.HTML object>"
      ]
     },
     "metadata": {},
     "output_type": "display_data"
    },
    {
     "data": {
      "text/html": [
       " View sweep at <a href='https://wandb.ai/pmsaraiva2712-tum/lunar/sweeps/h5g3bir3' target=\"_blank\">https://wandb.ai/pmsaraiva2712-tum/lunar/sweeps/h5g3bir3</a>"
      ],
      "text/plain": [
       "<IPython.core.display.HTML object>"
      ]
     },
     "metadata": {},
     "output_type": "display_data"
    },
    {
     "data": {
      "text/html": [
       " View run at <a href='https://wandb.ai/pmsaraiva2712-tum/lunar/runs/6i5gfyid' target=\"_blank\">https://wandb.ai/pmsaraiva2712-tum/lunar/runs/6i5gfyid</a>"
      ],
      "text/plain": [
       "<IPython.core.display.HTML object>"
      ]
     },
     "metadata": {},
     "output_type": "display_data"
    },
    {
     "name": "stdout",
     "output_type": "stream",
     "text": [
      "\n",
      "-------------------- Iteration #1 --------------------\n",
      "Average Episodic Length: 121.72\n",
      "Average Episodic Return: -350.38\n",
      "Average Loss: 0.01266\n",
      "Timesteps So Far: 4869\n",
      "Iteration took: 7.72 secs\n",
      "Current learning rate: 0.0047549502495\n",
      "------------------------------------------------------\n",
      "\n"
     ]
    },
    {
     "name": "stderr",
     "output_type": "stream",
     "text": [
      "c:\\Users\\pmsar\\.conda\\envs\\adlr\\lib\\site-packages\\gym\\wrappers\\record_video.py:75: UserWarning: \u001b[33mWARN: Overwriting existing videos at c:\\Users\\pmsar\\git\\tum-adlr-ws25-16\\videos folder (try specifying a different `video_folder` for the `RecordVideo` wrapper if this is not desired)\u001b[0m\n",
      "  logger.warn(\n"
     ]
    },
    {
     "name": "stdout",
     "output_type": "stream",
     "text": [
      "MoviePy - Building video c:\\Users\\pmsar\\git\\tum-adlr-ws25-16\\videos\\rl-video-episode-0.mp4.\n",
      "MoviePy - Writing video c:\\Users\\pmsar\\git\\tum-adlr-ws25-16\\videos\\rl-video-episode-0.mp4\n",
      "\n"
     ]
    },
    {
     "name": "stderr",
     "output_type": "stream",
     "text": [
      "\u001b[34m\u001b[1mwandb\u001b[0m: \u001b[33mWARNING\u001b[0m `fps` argument does not affect the frame rate of the video when providing a file path or raw bytes.\n"
     ]
    },
    {
     "name": "stdout",
     "output_type": "stream",
     "text": [
      "MoviePy - Done !\n",
      "MoviePy - video ready c:\\Users\\pmsar\\git\\tum-adlr-ws25-16\\videos\\rl-video-episode-0.mp4\n"
     ]
    },
    {
     "data": {
      "text/html": [
       "\n",
       "    <style>\n",
       "        .wandb-row {\n",
       "            display: flex;\n",
       "            flex-direction: row;\n",
       "            flex-wrap: wrap;\n",
       "            justify-content: flex-start;\n",
       "            width: 100%;\n",
       "        }\n",
       "        .wandb-col {\n",
       "            display: flex;\n",
       "            flex-direction: column;\n",
       "            flex-basis: 100%;\n",
       "            flex: 1;\n",
       "            padding: 10px;\n",
       "        }\n",
       "    </style>\n",
       "<div class=\"wandb-row\"><div class=\"wandb-col\"><h3>Run history:</h3><br/><table class=\"wandb\"><tr><td>average_episode_lengths</td><td>▁</td></tr><tr><td>average_episode_rewards</td><td>▁</td></tr><tr><td>average_loss</td><td>▁</td></tr><tr><td>learning_rate</td><td>▁</td></tr><tr><td>simulated_iterations</td><td>▁</td></tr><tr><td>simulated_timesteps</td><td>▁</td></tr><tr><td>val_rewards</td><td>▁</td></tr><tr><td>validation_duration</td><td>▁</td></tr></table><br/></div><div class=\"wandb-col\"><h3>Run summary:</h3><br/><table class=\"wandb\"><tr><td>average_episode_lengths</td><td>121.725</td></tr><tr><td>average_episode_rewards</td><td>-350.38248</td></tr><tr><td>average_loss</td><td>0.01266</td></tr><tr><td>learning_rate</td><td>0.00475</td></tr><tr><td>simulated_iterations</td><td>1</td></tr><tr><td>simulated_timesteps</td><td>4869</td></tr><tr><td>val_rewards</td><td>-290.33231</td></tr><tr><td>validation_duration</td><td>99</td></tr></table><br/></div></div>"
      ],
      "text/plain": [
       "<IPython.core.display.HTML object>"
      ]
     },
     "metadata": {},
     "output_type": "display_data"
    },
    {
     "data": {
      "text/html": [
       " View run <strong style=\"color:#cdcd00\">fiery-sweep-1</strong> at: <a href='https://wandb.ai/pmsaraiva2712-tum/lunar/runs/6i5gfyid' target=\"_blank\">https://wandb.ai/pmsaraiva2712-tum/lunar/runs/6i5gfyid</a><br/> View project at: <a href='https://wandb.ai/pmsaraiva2712-tum/lunar' target=\"_blank\">https://wandb.ai/pmsaraiva2712-tum/lunar</a><br/>Synced 5 W&B file(s), 0 media file(s), 2 artifact file(s) and 1 other file(s)"
      ],
      "text/plain": [
       "<IPython.core.display.HTML object>"
      ]
     },
     "metadata": {},
     "output_type": "display_data"
    },
    {
     "data": {
      "text/html": [
       "Find logs at: <code>.\\wandb\\run-20241122_182001-6i5gfyid\\logs</code>"
      ],
      "text/plain": [
       "<IPython.core.display.HTML object>"
      ]
     },
     "metadata": {},
     "output_type": "display_data"
    },
    {
     "name": "stderr",
     "output_type": "stream",
     "text": [
      "\u001b[34m\u001b[1mwandb\u001b[0m: Agent Starting Run: 42j7iuz1 with config:\n",
      "\u001b[34m\u001b[1mwandb\u001b[0m: \tgamma: 0.9600376453036754\n",
      "\u001b[34m\u001b[1mwandb\u001b[0m: \tlr: 0.022120079771052095\n",
      "\u001b[34m\u001b[1mwandb\u001b[0m: \tlr_gamma: 0.999386020821564\n",
      "\u001b[34m\u001b[1mwandb\u001b[0m: \tmax_timesteps_per_episode: 800\n",
      "\u001b[34m\u001b[1mwandb\u001b[0m: \tn_updates_per_iteration: 13\n",
      "\u001b[34m\u001b[1mwandb\u001b[0m: \ttimesteps_per_batch: 1200\n"
     ]
    },
    {
     "data": {
      "text/html": [
       "Tracking run with wandb version 0.18.7"
      ],
      "text/plain": [
       "<IPython.core.display.HTML object>"
      ]
     },
     "metadata": {},
     "output_type": "display_data"
    },
    {
     "data": {
      "text/html": [
       "Run data is saved locally in <code>c:\\Users\\pmsar\\git\\tum-adlr-ws25-16\\wandb\\run-20241122_182017-42j7iuz1</code>"
      ],
      "text/plain": [
       "<IPython.core.display.HTML object>"
      ]
     },
     "metadata": {},
     "output_type": "display_data"
    },
    {
     "data": {
      "text/html": [
       "Syncing run <strong><a href='https://wandb.ai/pmsaraiva2712-tum/lunar/runs/42j7iuz1' target=\"_blank\">clear-sweep-2</a></strong> to <a href='https://wandb.ai/pmsaraiva2712-tum/lunar' target=\"_blank\">Weights & Biases</a> (<a href='https://wandb.me/developer-guide' target=\"_blank\">docs</a>)<br/>Sweep page: <a href='https://wandb.ai/pmsaraiva2712-tum/lunar/sweeps/h5g3bir3' target=\"_blank\">https://wandb.ai/pmsaraiva2712-tum/lunar/sweeps/h5g3bir3</a>"
      ],
      "text/plain": [
       "<IPython.core.display.HTML object>"
      ]
     },
     "metadata": {},
     "output_type": "display_data"
    },
    {
     "data": {
      "text/html": [
       " View project at <a href='https://wandb.ai/pmsaraiva2712-tum/lunar' target=\"_blank\">https://wandb.ai/pmsaraiva2712-tum/lunar</a>"
      ],
      "text/plain": [
       "<IPython.core.display.HTML object>"
      ]
     },
     "metadata": {},
     "output_type": "display_data"
    },
    {
     "data": {
      "text/html": [
       " View sweep at <a href='https://wandb.ai/pmsaraiva2712-tum/lunar/sweeps/h5g3bir3' target=\"_blank\">https://wandb.ai/pmsaraiva2712-tum/lunar/sweeps/h5g3bir3</a>"
      ],
      "text/plain": [
       "<IPython.core.display.HTML object>"
      ]
     },
     "metadata": {},
     "output_type": "display_data"
    },
    {
     "data": {
      "text/html": [
       " View run at <a href='https://wandb.ai/pmsaraiva2712-tum/lunar/runs/42j7iuz1' target=\"_blank\">https://wandb.ai/pmsaraiva2712-tum/lunar/runs/42j7iuz1</a>"
      ],
      "text/plain": [
       "<IPython.core.display.HTML object>"
      ]
     },
     "metadata": {},
     "output_type": "display_data"
    },
    {
     "name": "stdout",
     "output_type": "stream",
     "text": [
      "\n",
      "-------------------- Iteration #1 --------------------\n",
      "Average Episodic Length: 104.02\n",
      "Average Episodic Return: -186.91\n",
      "Average Loss: 0.01161\n",
      "Timesteps So Far: 4889\n",
      "Iteration took: 6.77 secs\n",
      "Current learning rate: 0.0047549502495\n",
      "------------------------------------------------------\n",
      "\n"
     ]
    },
    {
     "name": "stderr",
     "output_type": "stream",
     "text": [
      "c:\\Users\\pmsar\\.conda\\envs\\adlr\\lib\\site-packages\\gym\\wrappers\\record_video.py:75: UserWarning: \u001b[33mWARN: Overwriting existing videos at c:\\Users\\pmsar\\git\\tum-adlr-ws25-16\\videos folder (try specifying a different `video_folder` for the `RecordVideo` wrapper if this is not desired)\u001b[0m\n",
      "  logger.warn(\n"
     ]
    },
    {
     "name": "stdout",
     "output_type": "stream",
     "text": [
      "MoviePy - Building video c:\\Users\\pmsar\\git\\tum-adlr-ws25-16\\videos\\rl-video-episode-0.mp4.\n",
      "MoviePy - Writing video c:\\Users\\pmsar\\git\\tum-adlr-ws25-16\\videos\\rl-video-episode-0.mp4\n",
      "\n"
     ]
    },
    {
     "name": "stderr",
     "output_type": "stream",
     "text": [
      "                                                                       "
     ]
    },
    {
     "name": "stdout",
     "output_type": "stream",
     "text": [
      "MoviePy - Done !"
     ]
    },
    {
     "name": "stderr",
     "output_type": "stream",
     "text": [
      "\u001b[34m\u001b[1mwandb\u001b[0m: \u001b[33mWARNING\u001b[0m `fps` argument does not affect the frame rate of the video when providing a file path or raw bytes.\n"
     ]
    },
    {
     "name": "stdout",
     "output_type": "stream",
     "text": [
      "\n",
      "MoviePy - video ready c:\\Users\\pmsar\\git\\tum-adlr-ws25-16\\videos\\rl-video-episode-0.mp4\n"
     ]
    },
    {
     "data": {
      "text/html": [
       "\n",
       "    <style>\n",
       "        .wandb-row {\n",
       "            display: flex;\n",
       "            flex-direction: row;\n",
       "            flex-wrap: wrap;\n",
       "            justify-content: flex-start;\n",
       "            width: 100%;\n",
       "        }\n",
       "        .wandb-col {\n",
       "            display: flex;\n",
       "            flex-direction: column;\n",
       "            flex-basis: 100%;\n",
       "            flex: 1;\n",
       "            padding: 10px;\n",
       "        }\n",
       "    </style>\n",
       "<div class=\"wandb-row\"><div class=\"wandb-col\"><h3>Run history:</h3><br/><table class=\"wandb\"><tr><td>average_episode_lengths</td><td>▁</td></tr><tr><td>average_episode_rewards</td><td>▁</td></tr><tr><td>average_loss</td><td>▁</td></tr><tr><td>learning_rate</td><td>▁</td></tr><tr><td>simulated_iterations</td><td>▁</td></tr><tr><td>simulated_timesteps</td><td>▁</td></tr><tr><td>val_rewards</td><td>▁</td></tr><tr><td>validation_duration</td><td>▁</td></tr></table><br/></div><div class=\"wandb-col\"><h3>Run summary:</h3><br/><table class=\"wandb\"><tr><td>average_episode_lengths</td><td>104.02128</td></tr><tr><td>average_episode_rewards</td><td>-186.90621</td></tr><tr><td>average_loss</td><td>0.01161</td></tr><tr><td>learning_rate</td><td>0.00475</td></tr><tr><td>simulated_iterations</td><td>1</td></tr><tr><td>simulated_timesteps</td><td>4889</td></tr><tr><td>val_rewards</td><td>-89.42588</td></tr><tr><td>validation_duration</td><td>69</td></tr></table><br/></div></div>"
      ],
      "text/plain": [
       "<IPython.core.display.HTML object>"
      ]
     },
     "metadata": {},
     "output_type": "display_data"
    },
    {
     "data": {
      "text/html": [
       " View run <strong style=\"color:#cdcd00\">clear-sweep-2</strong> at: <a href='https://wandb.ai/pmsaraiva2712-tum/lunar/runs/42j7iuz1' target=\"_blank\">https://wandb.ai/pmsaraiva2712-tum/lunar/runs/42j7iuz1</a><br/> View project at: <a href='https://wandb.ai/pmsaraiva2712-tum/lunar' target=\"_blank\">https://wandb.ai/pmsaraiva2712-tum/lunar</a><br/>Synced 5 W&B file(s), 0 media file(s), 0 artifact file(s) and 1 other file(s)"
      ],
      "text/plain": [
       "<IPython.core.display.HTML object>"
      ]
     },
     "metadata": {},
     "output_type": "display_data"
    },
    {
     "data": {
      "text/html": [
       "Find logs at: <code>.\\wandb\\run-20241122_182017-42j7iuz1\\logs</code>"
      ],
      "text/plain": [
       "<IPython.core.display.HTML object>"
      ]
     },
     "metadata": {},
     "output_type": "display_data"
    },
    {
     "name": "stderr",
     "output_type": "stream",
     "text": [
      "\u001b[34m\u001b[1mwandb\u001b[0m: Sweep Agent: Waiting for job.\n",
      "\u001b[34m\u001b[1mwandb\u001b[0m: Ctrl + C detected. Stopping sweep.\n"
     ]
    }
   ],
   "source": [
    "sweep_id = wandb.sweep(sweep_config, project=\"lunar\")\n",
    "wandb.agent(sweep_id, function=train_model)"
   ]
  }
 ],
 "metadata": {
  "kernelspec": {
   "display_name": "adlr",
   "language": "python",
   "name": "python3"
  },
  "language_info": {
   "codemirror_mode": {
    "name": "ipython",
    "version": 3
   },
   "file_extension": ".py",
   "mimetype": "text/x-python",
   "name": "python",
   "nbconvert_exporter": "python",
   "pygments_lexer": "ipython3",
   "version": "3.10.15"
  }
 },
 "nbformat": 4,
 "nbformat_minor": 4
}
