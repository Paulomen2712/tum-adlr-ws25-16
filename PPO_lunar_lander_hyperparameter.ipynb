{
 "cells": [
  {
   "cell_type": "markdown",
   "metadata": {},
   "source": [
    "# PPO\n",
    "---\n",
    "\n",
    "### 1. Import the Necessary Packages"
   ]
  },
  {
   "cell_type": "code",
   "execution_count": 1,
   "metadata": {},
   "outputs": [],
   "source": [
    "import gym\n",
    "import torch\n",
    "%matplotlib inline\n",
    "import wandb\n",
    "import numpy as np\n",
    "import os\n",
    "\n",
    "from model.ppo_parallel import PPO\n",
    "from model.network import ActorCritic\n",
    "from model.environments import LunarContinuous\n",
    "from gym.wrappers import RecordVideo\n",
    "from logger import WandbSummaryWritter\n",
    "\n",
    "from model.environments import LunarLanderWithKnownWind, LunarLanderWithUnknownWind"
   ]
  },
  {
   "cell_type": "markdown",
   "metadata": {},
   "source": [
    "### 2. Instantiate the Model"
   ]
  },
  {
   "cell_type": "markdown",
   "metadata": {},
   "source": [
    "Setup the hyperparameters in the code cell below."
   ]
  },
  {
   "cell_type": "code",
   "execution_count": 2,
   "metadata": {},
   "outputs": [],
   "source": [
    "misc_hyperparameters = {\n",
    "    'save_freq': 100  ,                           # How often we save in number of iterations\n",
    "    'num_workers': 8  ,\n",
    "    'seed': None \n",
    "}"
   ]
  },
  {
   "cell_type": "markdown",
   "metadata": {},
   "source": [
    "Initialise wandb session in the code cell below."
   ]
  },
  {
   "cell_type": "code",
   "execution_count": 3,
   "metadata": {},
   "outputs": [],
   "source": [
    "TOTAL_TIMESTEPS_TO_TRAIN = 1_000_000\n",
    "VAL_ITER = 30\n",
    "sweep_config = {\n",
    "    'method': 'bayes', \n",
    "    'metric': {\n",
    "        'name': 'val_rewards',\n",
    "        'goal': 'maximize'\n",
    "    },\n",
    "    'parameters': {\n",
    "        'lr': {\n",
    "            'min': 0.004,\n",
    "            'max': 0.006\n",
    "        },\n",
    "       'gamma': {\n",
    "            'distribution': 'uniform',  # Use uniform instead of normal to respect min/max\n",
    "            'min': 0.9,\n",
    "            'max': 1.0\n",
    "        },\n",
    "        'lr_gamma': {\n",
    "            'distribution': 'uniform',  # Use uniform instead of normal\n",
    "            'min': 0.9,\n",
    "            'max': 1.0\n",
    "        },\n",
    "        'lam': {\n",
    "            'distribution': 'uniform',  # Use uniform instead of normal\n",
    "            'min': 0.9,\n",
    "            'max': 1.0\n",
    "        },\n",
    "        'n_updates_per_iteration': {\n",
    "            'values': list(range(1, 21))\n",
    "        },\n",
    "        'max_timesteps_per_episode': {\n",
    "            'values': list(range(600, 2001, 200))\n",
    "        },\n",
    "        'timesteps_per_batch': {\n",
    "            'values': list(range(600, 5001, 200))\n",
    "        },\n",
    "        'n_sgd_batches': {\n",
    "            'values': list(range(1, 17))\n",
    "        }\n",
    "    }\n",
    "}"
   ]
  },
  {
   "cell_type": "code",
   "execution_count": 4,
   "metadata": {},
   "outputs": [],
   "source": [
    "def train_model(config = None):\n",
    "    logger = WandbSummaryWritter(project='lunar', config =config)\n",
    "    ppo = PPO(logger,**misc_hyperparameters) if config is None else PPO(summary_writter=logger, **config, **misc_hyperparameters)\n",
    "    ppo.train(TOTAL_TIMESTEPS_TO_TRAIN)\n",
    "\n",
    "    val_rews, val_dur = ppo.validate(VAL_ITER, True)\n",
    "\n",
    "    wandb.log({\n",
    "        \"val_rewards\": np.mean(val_rews),\n",
    "        \"validation_duration\": np.mean(val_dur),\n",
    "        \"max_reward_video\": wandb.Video(f\"./videos/rl-video-episode-{np.argmax(val_rews)}.mp4\", fps=4, format=\"mp4\")\n",
    "    })"
   ]
  },
  {
   "cell_type": "markdown",
   "metadata": {},
   "source": [
    "Initialise the model fo the desired timestamps. Alternatively can specify a checkpoint to continue training."
   ]
  },
  {
   "cell_type": "code",
   "execution_count": null,
   "metadata": {},
   "outputs": [
    {
     "name": "stderr",
     "output_type": "stream",
     "text": [
      "\u001b[34m\u001b[1mwandb\u001b[0m: Using wandb-core as the SDK backend.  Please refer to https://wandb.me/wandb-core for more information.\n"
     ]
    },
    {
     "name": "stdout",
     "output_type": "stream",
     "text": [
      "Create sweep with ID: v4fw131s\n",
      "Sweep URL: https://wandb.ai/pmsaraiva2712-tum/lunar/sweeps/v4fw131s\n"
     ]
    },
    {
     "name": "stderr",
     "output_type": "stream",
     "text": [
      "\u001b[34m\u001b[1mwandb\u001b[0m: Agent Starting Run: it58ivuu with config:\n",
      "\u001b[34m\u001b[1mwandb\u001b[0m: \tgamma: 0.9992287987109416\n",
      "\u001b[34m\u001b[1mwandb\u001b[0m: \tlam: 0.9723586650838604\n",
      "\u001b[34m\u001b[1mwandb\u001b[0m: \tlr: 0.005224464224000474\n",
      "\u001b[34m\u001b[1mwandb\u001b[0m: \tlr_gamma: 0.9962441162469476\n",
      "\u001b[34m\u001b[1mwandb\u001b[0m: \tmax_timesteps_per_episode: 1400\n",
      "\u001b[34m\u001b[1mwandb\u001b[0m: \tn_sgd_batches: 1\n",
      "\u001b[34m\u001b[1mwandb\u001b[0m: \tn_updates_per_iteration: 8\n",
      "\u001b[34m\u001b[1mwandb\u001b[0m: \ttimesteps_per_batch: 4400\n",
      "\u001b[34m\u001b[1mwandb\u001b[0m: Currently logged in as: \u001b[33mmohamedrostom\u001b[0m (\u001b[33mpmsaraiva2712-tum\u001b[0m). Use \u001b[1m`wandb login --relogin`\u001b[0m to force relogin\n",
      "\u001b[34m\u001b[1mwandb\u001b[0m: \u001b[33mWARNING\u001b[0m Ignored wandb.init() arg project when running a sweep.\n"
     ]
    },
    {
     "data": {
      "text/html": [
       "Tracking run with wandb version 0.18.7"
      ],
      "text/plain": [
       "<IPython.core.display.HTML object>"
      ]
     },
     "metadata": {},
     "output_type": "display_data"
    },
    {
     "data": {
      "text/html": [
       "Run data is saved locally in <code>/home/mohamedrostom62/ADLR/tum-adlr-ws25-16/wandb/run-20241211_192629-it58ivuu</code>"
      ],
      "text/plain": [
       "<IPython.core.display.HTML object>"
      ]
     },
     "metadata": {},
     "output_type": "display_data"
    },
    {
     "data": {
      "text/html": [
       "Syncing run <strong><a href='https://wandb.ai/pmsaraiva2712-tum/lunar/runs/it58ivuu' target=\"_blank\">stellar-sweep-1</a></strong> to <a href='https://wandb.ai/pmsaraiva2712-tum/lunar' target=\"_blank\">Weights & Biases</a> (<a href='https://wandb.me/developer-guide' target=\"_blank\">docs</a>)<br/>Sweep page: <a href='https://wandb.ai/pmsaraiva2712-tum/lunar/sweeps/v4fw131s' target=\"_blank\">https://wandb.ai/pmsaraiva2712-tum/lunar/sweeps/v4fw131s</a>"
      ],
      "text/plain": [
       "<IPython.core.display.HTML object>"
      ]
     },
     "metadata": {},
     "output_type": "display_data"
    },
    {
     "data": {
      "text/html": [
       " View project at <a href='https://wandb.ai/pmsaraiva2712-tum/lunar' target=\"_blank\">https://wandb.ai/pmsaraiva2712-tum/lunar</a>"
      ],
      "text/plain": [
       "<IPython.core.display.HTML object>"
      ]
     },
     "metadata": {},
     "output_type": "display_data"
    },
    {
     "data": {
      "text/html": [
       " View sweep at <a href='https://wandb.ai/pmsaraiva2712-tum/lunar/sweeps/v4fw131s' target=\"_blank\">https://wandb.ai/pmsaraiva2712-tum/lunar/sweeps/v4fw131s</a>"
      ],
      "text/plain": [
       "<IPython.core.display.HTML object>"
      ]
     },
     "metadata": {},
     "output_type": "display_data"
    },
    {
     "data": {
      "text/html": [
       " View run at <a href='https://wandb.ai/pmsaraiva2712-tum/lunar/runs/it58ivuu' target=\"_blank\">https://wandb.ai/pmsaraiva2712-tum/lunar/runs/it58ivuu</a>"
      ],
      "text/plain": [
       "<IPython.core.display.HTML object>"
      ]
     },
     "metadata": {},
     "output_type": "display_data"
    },
    {
     "name": "stdout",
     "output_type": "stream",
     "text": [
      "\n",
      "-------------------- Iteration #1 --------------------\n",
      "Average Episodic Length: 111.0\n",
      "Average Episodic Return: -230.34\n",
      "Average Loss: 0.01301\n",
      "Timesteps So Far: 4884\n",
      "Iteration took: 5.68 secs\n",
      "Current learning rate: 0.0049950019996000405\n",
      "------------------------------------------------------\n",
      "\n",
      "\n",
      "-------------------- Iteration #2 --------------------\n",
      "Average Episodic Length: 114.53\n",
      "Average Episodic Return: -282.88\n",
      "Average Loss: 0.0054\n",
      "Timesteps So Far: 9809\n",
      "Iteration took: 5.91 secs\n",
      "Current learning rate: 0.004990008995201681\n",
      "------------------------------------------------------\n",
      "\n",
      "\n",
      "-------------------- Iteration #3 --------------------\n",
      "Average Episodic Length: 106.78\n",
      "Average Episodic Return: -211.54\n",
      "Average Loss: 0.00272\n",
      "Timesteps So Far: 14614\n",
      "Iteration took: 5.8 secs\n",
      "Current learning rate: 0.004985020981810917\n",
      "------------------------------------------------------\n",
      "\n",
      "\n",
      "-------------------- Iteration #4 --------------------\n",
      "Average Episodic Length: 103.87\n",
      "Average Episodic Return: -149.61\n",
      "Average Loss: 0.00126\n",
      "Timesteps So Far: 19496\n",
      "Iteration took: 5.72 secs\n",
      "Current learning rate: 0.004980037954438738\n",
      "------------------------------------------------------\n",
      "\n",
      "\n",
      "-------------------- Iteration #5 --------------------\n",
      "Average Episodic Length: 110.86\n",
      "Average Episodic Return: -131.67\n",
      "Average Loss: 0.00034\n",
      "Timesteps So Far: 24374\n",
      "Iteration took: 5.75 secs\n",
      "Current learning rate: 0.004975059908101118\n",
      "------------------------------------------------------\n",
      "\n"
     ]
    },
    {
     "name": "stderr",
     "output_type": "stream",
     "text": [
      "\u001b[34m\u001b[1mwandb\u001b[0m: Ctrl + C detected. Stopping sweep.\n"
     ]
    },
    {
     "name": "stdout",
     "output_type": "stream",
     "text": [
      "\n",
      "-------------------- Iteration #6 --------------------\n",
      "Average Episodic Length: 116.55\n",
      "Average Episodic Return: -112.02\n",
      "Average Loss: -0.00025\n",
      "Timesteps So Far: 29269\n",
      "Iteration took: 6.01 secs\n",
      "Current learning rate: 0.004970086837819016\n",
      "------------------------------------------------------\n",
      "\n"
     ]
    }
   ],
   "source": [
    "sweep_id = wandb.sweep(sweep_config, project=\"lunar\")\n",
    "wandb.agent(sweep_id, function=train_model, count=20)"
   ]
  }
 ],
 "metadata": {
  "kernelspec": {
   "display_name": ".venv",
   "language": "python",
   "name": "python3"
  },
  "language_info": {
   "codemirror_mode": {
    "name": "ipython",
    "version": 3
   },
   "file_extension": ".py",
   "mimetype": "text/x-python",
   "name": "python",
   "nbconvert_exporter": "python",
   "pygments_lexer": "ipython3",
   "version": "3.11.2"
  }
 },
 "nbformat": 4,
 "nbformat_minor": 4
}
