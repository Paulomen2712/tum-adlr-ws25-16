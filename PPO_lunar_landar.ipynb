{
 "cells": [
  {
   "cell_type": "markdown",
   "metadata": {},
   "source": [
    "# PPO\n",
    "---\n",
    "\n",
    "### 1. Import the Necessary Packages"
   ]
  },
  {
   "cell_type": "code",
   "execution_count": 1,
   "metadata": {},
   "outputs": [],
   "source": [
    "from model.ppo_2 import PPO\n",
    "from env.wrappers import LunarContinuous, LunarLanderWithUnknownWind,LunarLanderWithKnownWind\n",
    "from utils.logger import WandbSummaryWritter"
   ]
  },
  {
   "cell_type": "markdown",
   "metadata": {},
   "source": [
    "### 2. Instantiate the Model"
   ]
  },
  {
   "cell_type": "markdown",
   "metadata": {},
   "source": [
    "Setup the hyperparameters in the code cell below."
   ]
  },
  {
   "cell_type": "code",
   "execution_count": 2,
   "metadata": {},
   "outputs": [],
   "source": [
    "# hyperparameters = {\n",
    "#     'timesteps_per_batch': 1024 ,                # Number of timesteps to run per batch\n",
    "#     'max_timesteps_per_episode': 1200,           # Max number of timesteps per episode\n",
    "#     'n_updates_per_iteration': 5,                # Number of times to update actor/critic per iteration\n",
    "#     'lr': 2.5e-4 ,                                # Learning rate of actor optimizer\n",
    "#     'gamma': 0.95,                               # Discount factor to be applied when calculating Rewards-To-Go\n",
    "# }\n",
    "# hyperparameters = {'gamma': 0.999, 'lr_gamma': 0.995,\n",
    "#                    'max_timesteps_per_episode': 1200,'lr': 0.005 }\n",
    "\n",
    "hyperparameters = {}\n",
    "\n",
    "misc_hyperparameters = {\n",
    "    'env': LunarLanderWithUnknownWind\n",
    "}"
   ]
  },
  {
   "cell_type": "markdown",
   "metadata": {},
   "source": [
    "Initialise wandb session in the code cell below."
   ]
  },
  {
   "cell_type": "code",
   "execution_count": 3,
   "metadata": {},
   "outputs": [],
   "source": [
    "LOG = False\n",
    "if LOG:\n",
    "    logger = WandbSummaryWritter(project='lunar', config =hyperparameters)\n",
    "else:\n",
    "    logger=None"
   ]
  },
  {
   "cell_type": "markdown",
   "metadata": {},
   "source": [
    "Initialise the model fo the desired timestamps. Alternatively can specify a checkpoint to continue training."
   ]
  },
  {
   "cell_type": "code",
   "execution_count": 4,
   "metadata": {},
   "outputs": [],
   "source": [
    "checkpoint = 'ppo_parallel_checkpoints/charmed-armadillo-108/ppo_policy_960.pth'\n",
    "LOAD_MODEL = False\n",
    "\n",
    "ppo = PPO(logger, **hyperparameters, **misc_hyperparameters)\n",
    "\n",
    "if LOAD_MODEL:\n",
    "    ppo.restore_savestate(checkpoint)"
   ]
  },
  {
   "cell_type": "markdown",
   "metadata": {},
   "source": [
    "### 3. Train the Model\n",
    "\n",
    "Train model for specified amount of timestamps."
   ]
  },
  {
   "cell_type": "code",
   "execution_count": 5,
   "metadata": {},
   "outputs": [
    {
     "name": "stdout",
     "output_type": "stream",
     "text": [
      "\n",
      "-------------------- Iteration #1 --------------------\n",
      "Average Episodic Return: -364.59\n",
      "Average Loss: 0.00021\n",
      "Average KL Divergence: 0.005484048372062926\n",
      "Iteration took: 10.8 secs\n",
      "Current learning rate: 0.005\n",
      "------------------------------------------------------\n",
      "\n"
     ]
    },
    {
     "ename": "KeyboardInterrupt",
     "evalue": "",
     "output_type": "error",
     "traceback": [
      "\u001b[1;31m---------------------------------------------------------------------------\u001b[0m",
      "\u001b[1;31mKeyboardInterrupt\u001b[0m                         Traceback (most recent call last)",
      "Cell \u001b[1;32mIn[5], line 1\u001b[0m\n\u001b[1;32m----> 1\u001b[0m \u001b[43mppo\u001b[49m\u001b[38;5;241;43m.\u001b[39;49m\u001b[43mtrain\u001b[49m\u001b[43m(\u001b[49m\u001b[43m)\u001b[49m\n",
      "File \u001b[1;32mc:\\Users\\pmsar\\git\\tum-adlr-ws25-16\\model\\ppo_2.py:58\u001b[0m, in \u001b[0;36mPPO.train\u001b[1;34m(self)\u001b[0m\n\u001b[0;32m     55\u001b[0m \u001b[38;5;28mself\u001b[39m\u001b[38;5;241m.\u001b[39mlogger[\u001b[38;5;124m'\u001b[39m\u001b[38;5;124mdelta_t\u001b[39m\u001b[38;5;124m'\u001b[39m] \u001b[38;5;241m=\u001b[39m time\u001b[38;5;241m.\u001b[39mtime_ns()\n\u001b[0;32m     57\u001b[0m \u001b[38;5;28;01mfor\u001b[39;00m it \u001b[38;5;129;01min\u001b[39;00m \u001b[38;5;28mrange\u001b[39m(\u001b[38;5;241m0\u001b[39m, \u001b[38;5;28mself\u001b[39m\u001b[38;5;241m.\u001b[39mbase_train_it):   \n\u001b[1;32m---> 58\u001b[0m     obs, acts, log_probs, advantages, returns \u001b[38;5;241m=\u001b[39m \u001b[38;5;28;43mself\u001b[39;49m\u001b[38;5;241;43m.\u001b[39;49m\u001b[43mrollout\u001b[49m\u001b[43m(\u001b[49m\u001b[43m)\u001b[49m\n\u001b[0;32m     60\u001b[0m     \u001b[38;5;28mself\u001b[39m\u001b[38;5;241m.\u001b[39mlogger[\u001b[38;5;124m'\u001b[39m\u001b[38;5;124mi_so_far\u001b[39m\u001b[38;5;124m'\u001b[39m] \u001b[38;5;241m=\u001b[39m it \u001b[38;5;241m+\u001b[39m \u001b[38;5;241m1\u001b[39m\n\u001b[0;32m     61\u001b[0m     \u001b[38;5;28mself\u001b[39m\u001b[38;5;241m.\u001b[39mlogger[\u001b[38;5;124m'\u001b[39m\u001b[38;5;124mbatch_rews\u001b[39m\u001b[38;5;124m'\u001b[39m] \u001b[38;5;241m=\u001b[39m \u001b[38;5;28mself\u001b[39m\u001b[38;5;241m.\u001b[39mstorage\u001b[38;5;241m.\u001b[39mget_average_episode_rewards()\n",
      "File \u001b[1;32mc:\\Users\\pmsar\\git\\tum-adlr-ws25-16\\model\\ppo_2.py:189\u001b[0m, in \u001b[0;36mPPO.rollout\u001b[1;34m(self)\u001b[0m\n\u001b[0;32m    186\u001b[0m obs \u001b[38;5;241m=\u001b[39m next_obs\n\u001b[0;32m    187\u001b[0m dones \u001b[38;5;241m=\u001b[39m next_done\n\u001b[1;32m--> 189\u001b[0m actions, logprobs, values \u001b[38;5;241m=\u001b[39m \u001b[38;5;28;43mself\u001b[39;49m\u001b[38;5;241;43m.\u001b[39;49m\u001b[43mpolicy\u001b[49m\u001b[38;5;241;43m.\u001b[39;49m\u001b[43mact\u001b[49m\u001b[43m(\u001b[49m\u001b[43mtorch\u001b[49m\u001b[38;5;241;43m.\u001b[39;49m\u001b[43mfrom_numpy\u001b[49m\u001b[43m(\u001b[49m\u001b[43mnext_obs\u001b[49m\u001b[43m)\u001b[49m\u001b[43m)\u001b[49m\n\u001b[0;32m    190\u001b[0m next_obs, rewards, next_done \u001b[38;5;241m=\u001b[39m \u001b[38;5;28mself\u001b[39m\u001b[38;5;241m.\u001b[39menv\u001b[38;5;241m.\u001b[39mstep(actions\u001b[38;5;241m.\u001b[39mnumpy())\n\u001b[0;32m    192\u001b[0m \u001b[38;5;28mself\u001b[39m\u001b[38;5;241m.\u001b[39mstorage\u001b[38;5;241m.\u001b[39mstore_batch(obs, actions, logprobs, rewards, values, dones)\n",
      "File \u001b[1;32mc:\\Users\\pmsar\\.conda\\envs\\adlr\\lib\\site-packages\\torch\\utils\\_contextlib.py:115\u001b[0m, in \u001b[0;36mcontext_decorator.<locals>.decorate_context\u001b[1;34m(*args, **kwargs)\u001b[0m\n\u001b[0;32m    112\u001b[0m \u001b[38;5;129m@functools\u001b[39m\u001b[38;5;241m.\u001b[39mwraps(func)\n\u001b[0;32m    113\u001b[0m \u001b[38;5;28;01mdef\u001b[39;00m \u001b[38;5;21mdecorate_context\u001b[39m(\u001b[38;5;241m*\u001b[39margs, \u001b[38;5;241m*\u001b[39m\u001b[38;5;241m*\u001b[39mkwargs):\n\u001b[0;32m    114\u001b[0m     \u001b[38;5;28;01mwith\u001b[39;00m ctx_factory():\n\u001b[1;32m--> 115\u001b[0m         \u001b[38;5;28;01mreturn\u001b[39;00m func(\u001b[38;5;241m*\u001b[39margs, \u001b[38;5;241m*\u001b[39m\u001b[38;5;241m*\u001b[39mkwargs)\n",
      "File \u001b[1;32mc:\\Users\\pmsar\\git\\tum-adlr-ws25-16\\model\\network.py:88\u001b[0m, in \u001b[0;36mActorCritic.act\u001b[1;34m(self, obs)\u001b[0m\n\u001b[0;32m     83\u001b[0m \u001b[38;5;129m@torch\u001b[39m\u001b[38;5;241m.\u001b[39mno_grad()\n\u001b[0;32m     84\u001b[0m \u001b[38;5;28;01mdef\u001b[39;00m \u001b[38;5;21mact\u001b[39m(\u001b[38;5;28mself\u001b[39m, obs):\n\u001b[0;32m     85\u001b[0m \u001b[38;5;250m    \u001b[39m\u001b[38;5;124;03m\"\"\"\u001b[39;00m\n\u001b[0;32m     86\u001b[0m \u001b[38;5;124;03m        Samples an action from the actor/critic network.\u001b[39;00m\n\u001b[0;32m     87\u001b[0m \u001b[38;5;124;03m    \"\"\"\u001b[39;00m\n\u001b[1;32m---> 88\u001b[0m     mean, values \u001b[38;5;241m=\u001b[39m \u001b[38;5;28;43mself\u001b[39;49m\u001b[38;5;241;43m.\u001b[39;49m\u001b[43mactor\u001b[49m\u001b[43m(\u001b[49m\u001b[43mobs\u001b[49m\u001b[43m)\u001b[49m, \u001b[38;5;28mself\u001b[39m\u001b[38;5;241m.\u001b[39mcritic(obs)\n\u001b[0;32m     90\u001b[0m     dist \u001b[38;5;241m=\u001b[39m MultivariateNormal(mean, \u001b[38;5;28mself\u001b[39m\u001b[38;5;241m.\u001b[39mcov_mat)\n\u001b[0;32m     91\u001b[0m     action \u001b[38;5;241m=\u001b[39m dist\u001b[38;5;241m.\u001b[39msample()\n",
      "File \u001b[1;32mc:\\Users\\pmsar\\.conda\\envs\\adlr\\lib\\site-packages\\torch\\nn\\modules\\module.py:1532\u001b[0m, in \u001b[0;36mModule._wrapped_call_impl\u001b[1;34m(self, *args, **kwargs)\u001b[0m\n\u001b[0;32m   1530\u001b[0m     \u001b[38;5;28;01mreturn\u001b[39;00m \u001b[38;5;28mself\u001b[39m\u001b[38;5;241m.\u001b[39m_compiled_call_impl(\u001b[38;5;241m*\u001b[39margs, \u001b[38;5;241m*\u001b[39m\u001b[38;5;241m*\u001b[39mkwargs)  \u001b[38;5;66;03m# type: ignore[misc]\u001b[39;00m\n\u001b[0;32m   1531\u001b[0m \u001b[38;5;28;01melse\u001b[39;00m:\n\u001b[1;32m-> 1532\u001b[0m     \u001b[38;5;28;01mreturn\u001b[39;00m \u001b[38;5;28mself\u001b[39m\u001b[38;5;241m.\u001b[39m_call_impl(\u001b[38;5;241m*\u001b[39margs, \u001b[38;5;241m*\u001b[39m\u001b[38;5;241m*\u001b[39mkwargs)\n",
      "File \u001b[1;32mc:\\Users\\pmsar\\.conda\\envs\\adlr\\lib\\site-packages\\torch\\nn\\modules\\module.py:1541\u001b[0m, in \u001b[0;36mModule._call_impl\u001b[1;34m(self, *args, **kwargs)\u001b[0m\n\u001b[0;32m   1536\u001b[0m \u001b[38;5;66;03m# If we don't have any hooks, we want to skip the rest of the logic in\u001b[39;00m\n\u001b[0;32m   1537\u001b[0m \u001b[38;5;66;03m# this function, and just call forward.\u001b[39;00m\n\u001b[0;32m   1538\u001b[0m \u001b[38;5;28;01mif\u001b[39;00m \u001b[38;5;129;01mnot\u001b[39;00m (\u001b[38;5;28mself\u001b[39m\u001b[38;5;241m.\u001b[39m_backward_hooks \u001b[38;5;129;01mor\u001b[39;00m \u001b[38;5;28mself\u001b[39m\u001b[38;5;241m.\u001b[39m_backward_pre_hooks \u001b[38;5;129;01mor\u001b[39;00m \u001b[38;5;28mself\u001b[39m\u001b[38;5;241m.\u001b[39m_forward_hooks \u001b[38;5;129;01mor\u001b[39;00m \u001b[38;5;28mself\u001b[39m\u001b[38;5;241m.\u001b[39m_forward_pre_hooks\n\u001b[0;32m   1539\u001b[0m         \u001b[38;5;129;01mor\u001b[39;00m _global_backward_pre_hooks \u001b[38;5;129;01mor\u001b[39;00m _global_backward_hooks\n\u001b[0;32m   1540\u001b[0m         \u001b[38;5;129;01mor\u001b[39;00m _global_forward_hooks \u001b[38;5;129;01mor\u001b[39;00m _global_forward_pre_hooks):\n\u001b[1;32m-> 1541\u001b[0m     \u001b[38;5;28;01mreturn\u001b[39;00m forward_call(\u001b[38;5;241m*\u001b[39margs, \u001b[38;5;241m*\u001b[39m\u001b[38;5;241m*\u001b[39mkwargs)\n\u001b[0;32m   1543\u001b[0m \u001b[38;5;28;01mtry\u001b[39;00m:\n\u001b[0;32m   1544\u001b[0m     result \u001b[38;5;241m=\u001b[39m \u001b[38;5;28;01mNone\u001b[39;00m\n",
      "File \u001b[1;32mc:\\Users\\pmsar\\git\\tum-adlr-ws25-16\\model\\network.py:44\u001b[0m, in \u001b[0;36mFNN.forward\u001b[1;34m(self, obs)\u001b[0m\n\u001b[0;32m     43\u001b[0m \u001b[38;5;28;01mdef\u001b[39;00m \u001b[38;5;21mforward\u001b[39m(\u001b[38;5;28mself\u001b[39m, obs):\n\u001b[1;32m---> 44\u001b[0m     activation1 \u001b[38;5;241m=\u001b[39m F\u001b[38;5;241m.\u001b[39mrelu(\u001b[38;5;28;43mself\u001b[39;49m\u001b[38;5;241;43m.\u001b[39;49m\u001b[43mfc1\u001b[49m\u001b[43m(\u001b[49m\u001b[43mobs\u001b[49m\u001b[43m)\u001b[49m)\n\u001b[0;32m     45\u001b[0m     activation2 \u001b[38;5;241m=\u001b[39m F\u001b[38;5;241m.\u001b[39mrelu(\u001b[38;5;28mself\u001b[39m\u001b[38;5;241m.\u001b[39mfc2(activation1))\n\u001b[0;32m     46\u001b[0m     output \u001b[38;5;241m=\u001b[39m \u001b[38;5;28mself\u001b[39m\u001b[38;5;241m.\u001b[39mfc3(activation2)\n",
      "File \u001b[1;32mc:\\Users\\pmsar\\.conda\\envs\\adlr\\lib\\site-packages\\torch\\nn\\modules\\module.py:1532\u001b[0m, in \u001b[0;36mModule._wrapped_call_impl\u001b[1;34m(self, *args, **kwargs)\u001b[0m\n\u001b[0;32m   1530\u001b[0m     \u001b[38;5;28;01mreturn\u001b[39;00m \u001b[38;5;28mself\u001b[39m\u001b[38;5;241m.\u001b[39m_compiled_call_impl(\u001b[38;5;241m*\u001b[39margs, \u001b[38;5;241m*\u001b[39m\u001b[38;5;241m*\u001b[39mkwargs)  \u001b[38;5;66;03m# type: ignore[misc]\u001b[39;00m\n\u001b[0;32m   1531\u001b[0m \u001b[38;5;28;01melse\u001b[39;00m:\n\u001b[1;32m-> 1532\u001b[0m     \u001b[38;5;28;01mreturn\u001b[39;00m \u001b[38;5;28mself\u001b[39m\u001b[38;5;241m.\u001b[39m_call_impl(\u001b[38;5;241m*\u001b[39margs, \u001b[38;5;241m*\u001b[39m\u001b[38;5;241m*\u001b[39mkwargs)\n",
      "File \u001b[1;32mc:\\Users\\pmsar\\.conda\\envs\\adlr\\lib\\site-packages\\torch\\nn\\modules\\module.py:1541\u001b[0m, in \u001b[0;36mModule._call_impl\u001b[1;34m(self, *args, **kwargs)\u001b[0m\n\u001b[0;32m   1536\u001b[0m \u001b[38;5;66;03m# If we don't have any hooks, we want to skip the rest of the logic in\u001b[39;00m\n\u001b[0;32m   1537\u001b[0m \u001b[38;5;66;03m# this function, and just call forward.\u001b[39;00m\n\u001b[0;32m   1538\u001b[0m \u001b[38;5;28;01mif\u001b[39;00m \u001b[38;5;129;01mnot\u001b[39;00m (\u001b[38;5;28mself\u001b[39m\u001b[38;5;241m.\u001b[39m_backward_hooks \u001b[38;5;129;01mor\u001b[39;00m \u001b[38;5;28mself\u001b[39m\u001b[38;5;241m.\u001b[39m_backward_pre_hooks \u001b[38;5;129;01mor\u001b[39;00m \u001b[38;5;28mself\u001b[39m\u001b[38;5;241m.\u001b[39m_forward_hooks \u001b[38;5;129;01mor\u001b[39;00m \u001b[38;5;28mself\u001b[39m\u001b[38;5;241m.\u001b[39m_forward_pre_hooks\n\u001b[0;32m   1539\u001b[0m         \u001b[38;5;129;01mor\u001b[39;00m _global_backward_pre_hooks \u001b[38;5;129;01mor\u001b[39;00m _global_backward_hooks\n\u001b[0;32m   1540\u001b[0m         \u001b[38;5;129;01mor\u001b[39;00m _global_forward_hooks \u001b[38;5;129;01mor\u001b[39;00m _global_forward_pre_hooks):\n\u001b[1;32m-> 1541\u001b[0m     \u001b[38;5;28;01mreturn\u001b[39;00m forward_call(\u001b[38;5;241m*\u001b[39margs, \u001b[38;5;241m*\u001b[39m\u001b[38;5;241m*\u001b[39mkwargs)\n\u001b[0;32m   1543\u001b[0m \u001b[38;5;28;01mtry\u001b[39;00m:\n\u001b[0;32m   1544\u001b[0m     result \u001b[38;5;241m=\u001b[39m \u001b[38;5;28;01mNone\u001b[39;00m\n",
      "File \u001b[1;32mc:\\Users\\pmsar\\.conda\\envs\\adlr\\lib\\site-packages\\torch\\nn\\modules\\linear.py:116\u001b[0m, in \u001b[0;36mLinear.forward\u001b[1;34m(self, input)\u001b[0m\n\u001b[0;32m    115\u001b[0m \u001b[38;5;28;01mdef\u001b[39;00m \u001b[38;5;21mforward\u001b[39m(\u001b[38;5;28mself\u001b[39m, \u001b[38;5;28minput\u001b[39m: Tensor) \u001b[38;5;241m-\u001b[39m\u001b[38;5;241m>\u001b[39m Tensor:\n\u001b[1;32m--> 116\u001b[0m     \u001b[38;5;28;01mreturn\u001b[39;00m \u001b[43mF\u001b[49m\u001b[38;5;241;43m.\u001b[39;49m\u001b[43mlinear\u001b[49m\u001b[43m(\u001b[49m\u001b[38;5;28;43minput\u001b[39;49m\u001b[43m,\u001b[49m\u001b[43m \u001b[49m\u001b[38;5;28;43mself\u001b[39;49m\u001b[38;5;241;43m.\u001b[39;49m\u001b[43mweight\u001b[49m\u001b[43m,\u001b[49m\u001b[43m \u001b[49m\u001b[38;5;28;43mself\u001b[39;49m\u001b[38;5;241;43m.\u001b[39;49m\u001b[43mbias\u001b[49m\u001b[43m)\u001b[49m\n",
      "\u001b[1;31mKeyboardInterrupt\u001b[0m: "
     ]
    }
   ],
   "source": [
    "ppo.train()"
   ]
  },
  {
   "cell_type": "markdown",
   "metadata": {},
   "source": [
    "### 4. Evaluate the Model\n",
    "\n",
    "Run multiple episodes from pretrained model."
   ]
  },
  {
   "cell_type": "code",
   "execution_count": 7,
   "metadata": {},
   "outputs": [
    {
     "name": "stderr",
     "output_type": "stream",
     "text": [
      "frame_index:   1%|▏         | 1/67 [00:30<33:41, 30.64s/it, now=None]"
     ]
    },
    {
     "name": "stdout",
     "output_type": "stream",
     "text": [
      "MoviePy - Building video c:\\Users\\pmsar\\git\\tum-adlr-ws25-16\\videos\\rl-video27-episode-0.mp4.\n",
      "MoviePy - Writing video c:\\Users\\pmsar\\git\\tum-adlr-ws25-16\\videos\\rl-video27-episode-0.mp4\n",
      "\n"
     ]
    },
    {
     "name": "stderr",
     "output_type": "stream",
     "text": [
      "frame_index:   1%|▏         | 1/67 [00:30<33:54, 30.83s/it, now=None]"
     ]
    },
    {
     "name": "stdout",
     "output_type": "stream",
     "text": [
      "MoviePy - Done !\n",
      "MoviePy - video ready c:\\Users\\pmsar\\git\\tum-adlr-ws25-16\\videos\\rl-video27-episode-0.mp4\n"
     ]
    },
    {
     "name": "stderr",
     "output_type": "stream",
     "text": [
      "frame_index:   1%|▏         | 1/67 [00:31<34:35, 31.45s/it, now=None]"
     ]
    },
    {
     "name": "stdout",
     "output_type": "stream",
     "text": [
      "MoviePy - Building video c:\\Users\\pmsar\\git\\tum-adlr-ws25-16\\videos\\rl-video16-episode-0.mp4.\n",
      "MoviePy - Writing video c:\\Users\\pmsar\\git\\tum-adlr-ws25-16\\videos\\rl-video16-episode-0.mp4\n",
      "\n"
     ]
    },
    {
     "name": "stderr",
     "output_type": "stream",
     "text": [
      "frame_index:   1%|▏         | 1/67 [00:31<34:50, 31.68s/it, now=None]"
     ]
    },
    {
     "name": "stdout",
     "output_type": "stream",
     "text": [
      "MoviePy - Done !\n",
      "MoviePy - video ready c:\\Users\\pmsar\\git\\tum-adlr-ws25-16\\videos\\rl-video16-episode-0.mp4\n"
     ]
    },
    {
     "name": "stderr",
     "output_type": "stream",
     "text": [
      "frame_index:   1%|▏         | 1/67 [00:32<35:17, 32.08s/it, now=None]"
     ]
    },
    {
     "name": "stdout",
     "output_type": "stream",
     "text": [
      "MoviePy - Building video c:\\Users\\pmsar\\git\\tum-adlr-ws25-16\\videos\\rl-video18-episode-0.mp4.\n",
      "MoviePy - Writing video c:\\Users\\pmsar\\git\\tum-adlr-ws25-16\\videos\\rl-video18-episode-0.mp4\n",
      "\n"
     ]
    },
    {
     "name": "stderr",
     "output_type": "stream",
     "text": [
      "frame_index:   1%|▏         | 1/67 [00:32<35:37, 32.39s/it, now=None]"
     ]
    },
    {
     "name": "stdout",
     "output_type": "stream",
     "text": [
      "MoviePy - Done !\n",
      "MoviePy - video ready c:\\Users\\pmsar\\git\\tum-adlr-ws25-16\\videos\\rl-video18-episode-0.mp4\n",
      "MoviePy - Building video c:\\Users\\pmsar\\git\\tum-adlr-ws25-16\\videos\\rl-video9-episode-0.mp4.\n",
      "MoviePy - Writing video c:\\Users\\pmsar\\git\\tum-adlr-ws25-16\\videos\\rl-video9-episode-0.mp4\n",
      "\n"
     ]
    },
    {
     "name": "stderr",
     "output_type": "stream",
     "text": [
      "frame_index:   1%|▏         | 1/67 [00:32<35:54, 32.65s/it, now=None]"
     ]
    },
    {
     "name": "stdout",
     "output_type": "stream",
     "text": [
      "MoviePy - Done !\n",
      "MoviePy - video ready c:\\Users\\pmsar\\git\\tum-adlr-ws25-16\\videos\\rl-video9-episode-0.mp4\n",
      "MoviePy - Building video c:\\Users\\pmsar\\git\\tum-adlr-ws25-16\\videos\\rl-video19-episode-0.mp4.\n",
      "MoviePy - Writing video c:\\Users\\pmsar\\git\\tum-adlr-ws25-16\\videos\\rl-video19-episode-0.mp4\n",
      "\n"
     ]
    },
    {
     "name": "stderr",
     "output_type": "stream",
     "text": [
      "frame_index:   1%|▏         | 1/67 [00:32<36:06, 32.83s/it, now=None]"
     ]
    },
    {
     "name": "stdout",
     "output_type": "stream",
     "text": [
      "MoviePy - Done !\n",
      "MoviePy - video ready c:\\Users\\pmsar\\git\\tum-adlr-ws25-16\\videos\\rl-video19-episode-0.mp4\n"
     ]
    },
    {
     "name": "stderr",
     "output_type": "stream",
     "text": [
      "frame_index:   1%|▏         | 1/67 [00:33<36:20, 33.04s/it, now=None]"
     ]
    },
    {
     "name": "stdout",
     "output_type": "stream",
     "text": [
      "MoviePy - Building video c:\\Users\\pmsar\\git\\tum-adlr-ws25-16\\videos\\rl-video6-episode-0.mp4.\n",
      "MoviePy - Writing video c:\\Users\\pmsar\\git\\tum-adlr-ws25-16\\videos\\rl-video6-episode-0.mp4\n",
      "\n"
     ]
    },
    {
     "name": "stderr",
     "output_type": "stream",
     "text": [
      "frame_index:   1%|▏         | 1/67 [00:33<36:39, 33.33s/it, now=None]"
     ]
    },
    {
     "name": "stdout",
     "output_type": "stream",
     "text": [
      "MoviePy - Done !\n",
      "MoviePy - video ready c:\\Users\\pmsar\\git\\tum-adlr-ws25-16\\videos\\rl-video6-episode-0.mp4\n",
      "MoviePy - Building video c:\\Users\\pmsar\\git\\tum-adlr-ws25-16\\videos\\rl-video22-episode-0.mp4.\n",
      "MoviePy - Writing video c:\\Users\\pmsar\\git\\tum-adlr-ws25-16\\videos\\rl-video22-episode-0.mp4\n",
      "\n"
     ]
    },
    {
     "name": "stderr",
     "output_type": "stream",
     "text": [
      "frame_index:   1%|▏         | 1/67 [00:33<36:56, 33.58s/it, now=None]"
     ]
    },
    {
     "name": "stdout",
     "output_type": "stream",
     "text": [
      "MoviePy - Done !\n",
      "MoviePy - video ready c:\\Users\\pmsar\\git\\tum-adlr-ws25-16\\videos\\rl-video22-episode-0.mp4\n",
      "MoviePy - Building video c:\\Users\\pmsar\\git\\tum-adlr-ws25-16\\videos\\rl-video5-episode-0.mp4.\n",
      "MoviePy - Writing video c:\\Users\\pmsar\\git\\tum-adlr-ws25-16\\videos\\rl-video5-episode-0.mp4\n",
      "\n"
     ]
    },
    {
     "name": "stderr",
     "output_type": "stream",
     "text": [
      "frame_index:   1%|▏         | 1/67 [00:33<37:15, 33.87s/it, now=None]"
     ]
    },
    {
     "name": "stdout",
     "output_type": "stream",
     "text": [
      "MoviePy - Done !\n",
      "MoviePy - video ready c:\\Users\\pmsar\\git\\tum-adlr-ws25-16\\videos\\rl-video5-episode-0.mp4\n",
      "MoviePy - Building video c:\\Users\\pmsar\\git\\tum-adlr-ws25-16\\videos\\rl-video12-episode-0.mp4.\n",
      "MoviePy - Writing video c:\\Users\\pmsar\\git\\tum-adlr-ws25-16\\videos\\rl-video12-episode-0.mp4\n",
      "\n"
     ]
    },
    {
     "name": "stderr",
     "output_type": "stream",
     "text": [
      "frame_index:   1%|▏         | 1/67 [00:34<37:38, 34.22s/it, now=None]"
     ]
    },
    {
     "name": "stdout",
     "output_type": "stream",
     "text": [
      "MoviePy - Done !\n",
      "MoviePy - video ready c:\\Users\\pmsar\\git\\tum-adlr-ws25-16\\videos\\rl-video12-episode-0.mp4\n",
      "MoviePy - Building video c:\\Users\\pmsar\\git\\tum-adlr-ws25-16\\videos\\rl-video21-episode-0.mp4.\n",
      "MoviePy - Writing video c:\\Users\\pmsar\\git\\tum-adlr-ws25-16\\videos\\rl-video21-episode-0.mp4\n",
      "\n"
     ]
    },
    {
     "name": "stderr",
     "output_type": "stream",
     "text": [
      "frame_index:   1%|▏         | 1/67 [00:34<37:56, 34.50s/it, now=None]"
     ]
    },
    {
     "name": "stdout",
     "output_type": "stream",
     "text": [
      "MoviePy - Done !\n",
      "MoviePy - video ready c:\\Users\\pmsar\\git\\tum-adlr-ws25-16\\videos\\rl-video21-episode-0.mp4\n",
      "MoviePy - Building video c:\\Users\\pmsar\\git\\tum-adlr-ws25-16\\videos\\rl-video28-episode-0.mp4.\n",
      "MoviePy - Writing video c:\\Users\\pmsar\\git\\tum-adlr-ws25-16\\videos\\rl-video28-episode-0.mp4\n",
      "\n"
     ]
    },
    {
     "name": "stderr",
     "output_type": "stream",
     "text": [
      "frame_index:   1%|▏         | 1/67 [00:34<38:11, 34.72s/it, now=None]"
     ]
    },
    {
     "name": "stdout",
     "output_type": "stream",
     "text": [
      "MoviePy - Done !\n",
      "MoviePy - video ready c:\\Users\\pmsar\\git\\tum-adlr-ws25-16\\videos\\rl-video28-episode-0.mp4\n",
      "MoviePy - Building video c:\\Users\\pmsar\\git\\tum-adlr-ws25-16\\videos\\rl-video0-episode-0.mp4.\n",
      "MoviePy - Writing video c:\\Users\\pmsar\\git\\tum-adlr-ws25-16\\videos\\rl-video0-episode-0.mp4\n",
      "\n"
     ]
    },
    {
     "name": "stderr",
     "output_type": "stream",
     "text": [
      "frame_index:   1%|▏         | 1/67 [00:34<38:28, 34.98s/it, now=None]"
     ]
    },
    {
     "name": "stdout",
     "output_type": "stream",
     "text": [
      "MoviePy - Done !\n",
      "MoviePy - video ready c:\\Users\\pmsar\\git\\tum-adlr-ws25-16\\videos\\rl-video0-episode-0.mp4\n",
      "MoviePy - Building video c:\\Users\\pmsar\\git\\tum-adlr-ws25-16\\videos\\rl-video3-episode-0.mp4.\n",
      "MoviePy - Writing video c:\\Users\\pmsar\\git\\tum-adlr-ws25-16\\videos\\rl-video3-episode-0.mp4\n",
      "\n"
     ]
    },
    {
     "name": "stderr",
     "output_type": "stream",
     "text": [
      "frame_index:   1%|▏         | 1/67 [00:35<38:52, 35.34s/it, now=None]"
     ]
    },
    {
     "name": "stdout",
     "output_type": "stream",
     "text": [
      "MoviePy - Done !\n",
      "MoviePy - video ready c:\\Users\\pmsar\\git\\tum-adlr-ws25-16\\videos\\rl-video3-episode-0.mp4\n",
      "MoviePy - Building video c:\\Users\\pmsar\\git\\tum-adlr-ws25-16\\videos\\rl-video7-episode-0.mp4.\n",
      "MoviePy - Writing video c:\\Users\\pmsar\\git\\tum-adlr-ws25-16\\videos\\rl-video7-episode-0.mp4\n",
      "\n"
     ]
    },
    {
     "name": "stderr",
     "output_type": "stream",
     "text": [
      "frame_index:   1%|▏         | 1/67 [00:35<39:09, 35.60s/it, now=None]"
     ]
    },
    {
     "name": "stdout",
     "output_type": "stream",
     "text": [
      "MoviePy - Done !\n",
      "MoviePy - video ready c:\\Users\\pmsar\\git\\tum-adlr-ws25-16\\videos\\rl-video7-episode-0.mp4\n",
      "MoviePy - Building video c:\\Users\\pmsar\\git\\tum-adlr-ws25-16\\videos\\rl-video8-episode-0.mp4.\n",
      "MoviePy - Writing video c:\\Users\\pmsar\\git\\tum-adlr-ws25-16\\videos\\rl-video8-episode-0.mp4\n",
      "\n"
     ]
    },
    {
     "name": "stderr",
     "output_type": "stream",
     "text": [
      "frame_index:   1%|▏         | 1/67 [00:35<39:28, 35.89s/it, now=None]"
     ]
    },
    {
     "name": "stdout",
     "output_type": "stream",
     "text": [
      "MoviePy - Done !\n",
      "MoviePy - video ready c:\\Users\\pmsar\\git\\tum-adlr-ws25-16\\videos\\rl-video8-episode-0.mp4\n",
      "MoviePy - Building video c:\\Users\\pmsar\\git\\tum-adlr-ws25-16\\videos\\rl-video20-episode-0.mp4.\n",
      "MoviePy - Writing video c:\\Users\\pmsar\\git\\tum-adlr-ws25-16\\videos\\rl-video20-episode-0.mp4\n",
      "\n"
     ]
    },
    {
     "name": "stderr",
     "output_type": "stream",
     "text": [
      "frame_index:   1%|▏         | 1/67 [00:36<39:44, 36.12s/it, now=None]"
     ]
    },
    {
     "name": "stdout",
     "output_type": "stream",
     "text": [
      "MoviePy - Done !\n",
      "MoviePy - video ready c:\\Users\\pmsar\\git\\tum-adlr-ws25-16\\videos\\rl-video20-episode-0.mp4\n",
      "MoviePy - Building video c:\\Users\\pmsar\\git\\tum-adlr-ws25-16\\videos\\rl-video24-episode-0.mp4.\n",
      "MoviePy - Writing video c:\\Users\\pmsar\\git\\tum-adlr-ws25-16\\videos\\rl-video24-episode-0.mp4\n",
      "\n"
     ]
    },
    {
     "name": "stderr",
     "output_type": "stream",
     "text": [
      "frame_index:   1%|▏         | 1/67 [00:36<39:58, 36.34s/it, now=None]"
     ]
    },
    {
     "name": "stdout",
     "output_type": "stream",
     "text": [
      "MoviePy - Done !\n",
      "MoviePy - video ready c:\\Users\\pmsar\\git\\tum-adlr-ws25-16\\videos\\rl-video24-episode-0.mp4\n"
     ]
    },
    {
     "name": "stderr",
     "output_type": "stream",
     "text": [
      "frame_index:   1%|▏         | 1/67 [00:37<41:05, 37.36s/it, now=None]"
     ]
    },
    {
     "name": "stdout",
     "output_type": "stream",
     "text": [
      "MoviePy - Building video c:\\Users\\pmsar\\git\\tum-adlr-ws25-16\\videos\\rl-video23-episode-0.mp4.\n",
      "MoviePy - Writing video c:\\Users\\pmsar\\git\\tum-adlr-ws25-16\\videos\\rl-video23-episode-0.mp4\n",
      "\n"
     ]
    },
    {
     "name": "stderr",
     "output_type": "stream",
     "text": [
      "frame_index:   1%|▏         | 1/67 [00:37<41:31, 37.75s/it, now=None]"
     ]
    },
    {
     "name": "stdout",
     "output_type": "stream",
     "text": [
      "MoviePy - Done !\n",
      "MoviePy - video ready c:\\Users\\pmsar\\git\\tum-adlr-ws25-16\\videos\\rl-video23-episode-0.mp4\n",
      "MoviePy - Building video c:\\Users\\pmsar\\git\\tum-adlr-ws25-16\\videos\\rl-video15-episode-0.mp4.\n",
      "MoviePy - Writing video c:\\Users\\pmsar\\git\\tum-adlr-ws25-16\\videos\\rl-video15-episode-0.mp4\n",
      "\n"
     ]
    },
    {
     "name": "stderr",
     "output_type": "stream",
     "text": [
      "frame_index:   1%|▏         | 1/67 [00:38<41:55, 38.11s/it, now=None]"
     ]
    },
    {
     "name": "stdout",
     "output_type": "stream",
     "text": [
      "MoviePy - Done !\n",
      "MoviePy - video ready c:\\Users\\pmsar\\git\\tum-adlr-ws25-16\\videos\\rl-video15-episode-0.mp4\n",
      "MoviePy - Building video c:\\Users\\pmsar\\git\\tum-adlr-ws25-16\\videos\\rl-video10-episode-0.mp4.\n",
      "MoviePy - Writing video c:\\Users\\pmsar\\git\\tum-adlr-ws25-16\\videos\\rl-video10-episode-0.mp4\n",
      "\n"
     ]
    },
    {
     "name": "stderr",
     "output_type": "stream",
     "text": [
      "frame_index:   1%|▏         | 1/67 [00:38<42:16, 38.43s/it, now=None]"
     ]
    },
    {
     "name": "stdout",
     "output_type": "stream",
     "text": [
      "MoviePy - Done !\n",
      "MoviePy - video ready c:\\Users\\pmsar\\git\\tum-adlr-ws25-16\\videos\\rl-video10-episode-0.mp4\n",
      "MoviePy - Building video c:\\Users\\pmsar\\git\\tum-adlr-ws25-16\\videos\\rl-video26-episode-0.mp4.\n",
      "MoviePy - Writing video c:\\Users\\pmsar\\git\\tum-adlr-ws25-16\\videos\\rl-video26-episode-0.mp4\n",
      "\n"
     ]
    },
    {
     "name": "stderr",
     "output_type": "stream",
     "text": [
      "frame_index:   1%|▏         | 1/67 [00:38<42:36, 38.73s/it, now=None]"
     ]
    },
    {
     "name": "stdout",
     "output_type": "stream",
     "text": [
      "MoviePy - Done !\n",
      "MoviePy - video ready c:\\Users\\pmsar\\git\\tum-adlr-ws25-16\\videos\\rl-video26-episode-0.mp4\n",
      "MoviePy - Building video c:\\Users\\pmsar\\git\\tum-adlr-ws25-16\\videos\\rl-video11-episode-0.mp4.\n",
      "MoviePy - Writing video c:\\Users\\pmsar\\git\\tum-adlr-ws25-16\\videos\\rl-video11-episode-0.mp4\n",
      "\n"
     ]
    },
    {
     "name": "stderr",
     "output_type": "stream",
     "text": [
      "frame_index:   1%|▏         | 1/67 [00:39<43:03, 39.14s/it, now=None]"
     ]
    },
    {
     "name": "stdout",
     "output_type": "stream",
     "text": [
      "MoviePy - Done !\n",
      "MoviePy - video ready c:\\Users\\pmsar\\git\\tum-adlr-ws25-16\\videos\\rl-video11-episode-0.mp4\n",
      "MoviePy - Building video c:\\Users\\pmsar\\git\\tum-adlr-ws25-16\\videos\\rl-video17-episode-0.mp4.\n",
      "MoviePy - Writing video c:\\Users\\pmsar\\git\\tum-adlr-ws25-16\\videos\\rl-video17-episode-0.mp4\n",
      "\n"
     ]
    },
    {
     "name": "stderr",
     "output_type": "stream",
     "text": [
      "frame_index:   1%|▏         | 1/67 [00:39<43:18, 39.37s/it, now=None]"
     ]
    },
    {
     "name": "stdout",
     "output_type": "stream",
     "text": [
      "MoviePy - Done !\n",
      "MoviePy - video ready c:\\Users\\pmsar\\git\\tum-adlr-ws25-16\\videos\\rl-video17-episode-0.mp4\n"
     ]
    },
    {
     "name": "stderr",
     "output_type": "stream",
     "text": [
      "frame_index:   1%|▏         | 1/67 [00:39<43:39, 39.68s/it, now=None]"
     ]
    },
    {
     "name": "stdout",
     "output_type": "stream",
     "text": [
      "MoviePy - Building video c:\\Users\\pmsar\\git\\tum-adlr-ws25-16\\videos\\rl-video25-episode-0.mp4.\n",
      "MoviePy - Writing video c:\\Users\\pmsar\\git\\tum-adlr-ws25-16\\videos\\rl-video25-episode-0.mp4\n",
      "\n"
     ]
    },
    {
     "name": "stderr",
     "output_type": "stream",
     "text": [
      "frame_index:   1%|▏         | 1/67 [00:39<43:53, 39.91s/it, now=None]"
     ]
    },
    {
     "name": "stdout",
     "output_type": "stream",
     "text": [
      "MoviePy - Done !\n",
      "MoviePy - video ready c:\\Users\\pmsar\\git\\tum-adlr-ws25-16\\videos\\rl-video25-episode-0.mp4\n"
     ]
    },
    {
     "name": "stderr",
     "output_type": "stream",
     "text": [
      "frame_index:   1%|▏         | 1/67 [00:40<44:35, 40.54s/it, now=None]"
     ]
    },
    {
     "name": "stdout",
     "output_type": "stream",
     "text": [
      "MoviePy - Building video c:\\Users\\pmsar\\git\\tum-adlr-ws25-16\\videos\\rl-video2-episode-0.mp4.\n",
      "MoviePy - Writing video c:\\Users\\pmsar\\git\\tum-adlr-ws25-16\\videos\\rl-video2-episode-0.mp4\n",
      "\n"
     ]
    },
    {
     "name": "stderr",
     "output_type": "stream",
     "text": [
      "frame_index:   1%|▏         | 1/67 [00:40<45:02, 40.94s/it, now=None]"
     ]
    },
    {
     "name": "stdout",
     "output_type": "stream",
     "text": [
      "MoviePy - Done !\n",
      "MoviePy - video ready c:\\Users\\pmsar\\git\\tum-adlr-ws25-16\\videos\\rl-video2-episode-0.mp4\n",
      "MoviePy - Building video c:\\Users\\pmsar\\git\\tum-adlr-ws25-16\\videos\\rl-video29-episode-0.mp4.\n",
      "MoviePy - Writing video c:\\Users\\pmsar\\git\\tum-adlr-ws25-16\\videos\\rl-video29-episode-0.mp4\n",
      "\n"
     ]
    },
    {
     "name": "stderr",
     "output_type": "stream",
     "text": [
      "frame_index:   1%|▏         | 1/67 [00:41<45:21, 41.24s/it, now=None]"
     ]
    },
    {
     "name": "stdout",
     "output_type": "stream",
     "text": [
      "MoviePy - Done !\n",
      "MoviePy - video ready c:\\Users\\pmsar\\git\\tum-adlr-ws25-16\\videos\\rl-video29-episode-0.mp4\n"
     ]
    },
    {
     "name": "stderr",
     "output_type": "stream",
     "text": [
      "frame_index:   1%|▏         | 1/67 [00:41<46:02, 41.86s/it, now=None]"
     ]
    },
    {
     "name": "stdout",
     "output_type": "stream",
     "text": [
      "MoviePy - Building video c:\\Users\\pmsar\\git\\tum-adlr-ws25-16\\videos\\rl-video13-episode-0.mp4.\n",
      "MoviePy - Writing video c:\\Users\\pmsar\\git\\tum-adlr-ws25-16\\videos\\rl-video13-episode-0.mp4\n",
      "\n"
     ]
    },
    {
     "name": "stderr",
     "output_type": "stream",
     "text": [
      "frame_index:   1%|▏         | 1/67 [00:42<46:22, 42.16s/it, now=None]"
     ]
    },
    {
     "name": "stdout",
     "output_type": "stream",
     "text": [
      "MoviePy - Done !\n",
      "MoviePy - video ready c:\\Users\\pmsar\\git\\tum-adlr-ws25-16\\videos\\rl-video13-episode-0.mp4\n"
     ]
    },
    {
     "name": "stderr",
     "output_type": "stream",
     "text": [
      "frame_index:   1%|▏         | 1/67 [00:42<46:37, 42.39s/it, now=None]"
     ]
    },
    {
     "name": "stdout",
     "output_type": "stream",
     "text": [
      "MoviePy - Building video c:\\Users\\pmsar\\git\\tum-adlr-ws25-16\\videos\\rl-video1-episode-0.mp4.\n",
      "MoviePy - Writing video c:\\Users\\pmsar\\git\\tum-adlr-ws25-16\\videos\\rl-video1-episode-0.mp4\n",
      "\n"
     ]
    },
    {
     "name": "stderr",
     "output_type": "stream",
     "text": [
      "frame_index:   1%|▏         | 1/67 [00:42<46:55, 42.66s/it, now=None]"
     ]
    },
    {
     "name": "stdout",
     "output_type": "stream",
     "text": [
      "MoviePy - Done !\n",
      "MoviePy - video ready c:\\Users\\pmsar\\git\\tum-adlr-ws25-16\\videos\\rl-video1-episode-0.mp4\n"
     ]
    },
    {
     "name": "stderr",
     "output_type": "stream",
     "text": [
      "frame_index:   1%|▏         | 1/67 [00:43<47:18, 43.01s/it, now=None]"
     ]
    },
    {
     "name": "stdout",
     "output_type": "stream",
     "text": [
      "MoviePy - Building video c:\\Users\\pmsar\\git\\tum-adlr-ws25-16\\videos\\rl-video14-episode-0.mp4.\n",
      "MoviePy - Writing video c:\\Users\\pmsar\\git\\tum-adlr-ws25-16\\videos\\rl-video14-episode-0.mp4\n",
      "\n"
     ]
    },
    {
     "name": "stderr",
     "output_type": "stream",
     "text": [
      "frame_index:   1%|▏         | 1/67 [00:43<47:38, 43.31s/it, now=None]"
     ]
    },
    {
     "name": "stdout",
     "output_type": "stream",
     "text": [
      "MoviePy - Done !\n",
      "MoviePy - video ready c:\\Users\\pmsar\\git\\tum-adlr-ws25-16\\videos\\rl-video14-episode-0.mp4\n"
     ]
    },
    {
     "name": "stderr",
     "output_type": "stream",
     "text": [
      "frame_index:   1%|▏         | 1/67 [00:45<49:32, 45.05s/it, now=None]"
     ]
    },
    {
     "name": "stdout",
     "output_type": "stream",
     "text": [
      "MoviePy - Building video c:\\Users\\pmsar\\git\\tum-adlr-ws25-16\\videos\\rl-video4-episode-0.mp4.\n",
      "MoviePy - Writing video c:\\Users\\pmsar\\git\\tum-adlr-ws25-16\\videos\\rl-video4-episode-0.mp4\n",
      "\n"
     ]
    },
    {
     "name": "stderr",
     "output_type": "stream",
     "text": [
      "frame_index:   1%|▏         | 1/67 [00:45<49:52, 45.34s/it, now=None]"
     ]
    },
    {
     "name": "stdout",
     "output_type": "stream",
     "text": [
      "MoviePy - Done !\n",
      "MoviePy - video ready c:\\Users\\pmsar\\git\\tum-adlr-ws25-16\\videos\\rl-video4-episode-0.mp4\n"
     ]
    },
    {
     "data": {
      "text/plain": [
       "([array([-221.44944172, -135.39961676, -175.87723678, -378.77812298,\n",
       "          -75.77614309, -388.19137414, -209.81069693, -297.11376603,\n",
       "         -151.2663757 , -388.03445019, -264.72227337, -406.11185865,\n",
       "         -404.19043895, -368.43475355, -260.63443951, -408.15472698,\n",
       "         -258.78628716, -367.89357428, -302.89456596,  -94.96354499,\n",
       "         -229.29389602, -265.03150667, -147.9215722 , -204.17760474,\n",
       "         -413.78087055, -386.24669132,  -98.97410665, -183.5513746 ,\n",
       "         -182.30058888, -112.11257978])],\n",
       " [array([59, 84, 78, 59, 98, 57, 56, 60, 60, 54, 69, 70, 57, 82, 86, 68, 50,\n",
       "         71, 53, 54, 60, 58, 56, 67, 60, 73, 69, 45, 58, 78])])"
      ]
     },
     "execution_count": 7,
     "metadata": {},
     "output_type": "execute_result"
    }
   ],
   "source": [
    "ppo.validate(max_iter=30, should_record=True, env_class=misc_hyperparameters['env'])\n"
   ]
  }
 ],
 "metadata": {
  "kernelspec": {
   "display_name": "adlr",
   "language": "python",
   "name": "python3"
  },
  "language_info": {
   "codemirror_mode": {
    "name": "ipython",
    "version": 3
   },
   "file_extension": ".py",
   "mimetype": "text/x-python",
   "name": "python",
   "nbconvert_exporter": "python",
   "pygments_lexer": "ipython3",
   "version": "3.10.15"
  }
 },
 "nbformat": 4,
 "nbformat_minor": 4
}
